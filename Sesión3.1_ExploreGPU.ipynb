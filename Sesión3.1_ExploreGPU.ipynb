{
 "metadata": {
  "name": "",
  "signature": "sha256:4e306706708defc9f05698f83b9d35ed493622240b7c062170ca201256c70d52"
 },
 "nbformat": 3,
 "nbformat_minor": 0,
 "worksheets": [
  {
   "cells": [
    {
     "cell_type": "heading",
     "level": 1,
     "metadata": {},
     "source": [
      "PyCUDA basics."
     ]
    },
    {
     "cell_type": "markdown",
     "metadata": {},
     "source": [
      "%install_ext http://raw.github.com/jrjohansson/version_information/master/version_information.py"
     ]
    },
    {
     "cell_type": "markdown",
     "metadata": {},
     "source": [
      "to install, execute in a cell: \n",
      "%install_ext https://raw.github.com/minrk/ipython_extensions/master/nbtoc.py\n",
      "%load_ext nbtoc\n",
      "%nbtoc"
     ]
    },
    {
     "cell_type": "heading",
     "level": 2,
     "metadata": {},
     "source": [
      "Versions"
     ]
    },
    {
     "cell_type": "code",
     "collapsed": false,
     "input": [
      "%load_ext version_information\n",
      "%version_information numpy, scipy, matplotlib, sympy, pycuda, pycula"
     ],
     "language": "python",
     "metadata": {},
     "outputs": [
      {
       "html": [
        "<table><tr><th>Software</th><th>Version</th></tr><tr><td>Python</td><td>2.7.3 (default, Feb 27 2014, 19:58:35) [GCC 4.6.3]</td></tr><tr><td>IPython</td><td>3.0.0-dev</td></tr><tr><td>OS</td><td>posix [linux2]</td></tr><tr><td>numpy</td><td>1.6.1</td></tr><tr><td>scipy</td><td>0.9.0</td></tr><tr><td>matplotlib</td><td>1.1.1rc</td></tr><tr><td>sympy</td><td>0.7.4-git</td></tr><tr><td>pycuda</td><td>2013.1.1</td></tr><tr><td>pycula</td><td>0.95a1</td></tr><tr><td colspan='2'>Mon Oct 27 21:37:58 2014 CST</td></tr></table>"
       ],
       "json": [
        "{\"Software versions\": [{\"version\": \"2.7.3 (default, Feb 27 2014, 19:58:35) [GCC 4.6.3]\", \"module\": \"Python\"}, {\"version\": \"3.0.0-dev\", \"module\": \"IPython\"}, {\"version\": \"posix [linux2]\", \"module\": \"OS\"}, {\"version\": \"1.6.1\", \"module\": \"numpy\"}, {\"version\": \"0.9.0\", \"module\": \"scipy\"}, {\"version\": \"1.1.1rc\", \"module\": \"matplotlib\"}, {\"version\": \"0.7.4-git\", \"module\": \"sympy\"}, {\"version\": \"2013.1.1\", \"module\": \"pycuda\"}, {\"version\": \"0.95a1\", \"module\": \"pycula\"}]}"
       ],
       "latex": [
        "\\begin{tabular}{|l|l|}\\hline\n",
        "{\\bf Software} & {\\bf Version} \\\\ \\hline\\hline\n",
        "Python & 2.7.3 (default, Feb 27 2014, 19:58:35) [GCC 4.6.3] \\\\ \\hline\n",
        "IPython & 3.0.0-dev \\\\ \\hline\n",
        "OS & posix [linux2] \\\\ \\hline\n",
        "numpy & 1.6.1 \\\\ \\hline\n",
        "scipy & 0.9.0 \\\\ \\hline\n",
        "matplotlib & 1.1.1rc \\\\ \\hline\n",
        "sympy & 0.7.4-git \\\\ \\hline\n",
        "pycuda & 2013.1.1 \\\\ \\hline\n",
        "pycula & 0.95a1 \\\\ \\hline\n",
        "\\hline \\multicolumn{2}{|l|}{Mon Oct 27 21:37:58 2014 CST} \\\\ \\hline\n",
        "\\end{tabular}\n"
       ],
       "metadata": {},
       "output_type": "pyout",
       "prompt_number": 1,
       "text": [
        "Software versions\n",
        "Python 2.7.3 (default, Feb 27 2014, 19:58:35) [GCC 4.6.3]\n",
        "IPython 3.0.0-dev\n",
        "OS posix [linux2]\n",
        "numpy 1.6.1\n",
        "scipy 0.9.0\n",
        "matplotlib 1.1.1rc\n",
        "sympy 0.7.4-git\n",
        "pycuda 2013.1.1\n",
        "pycula 0.95a1\n",
        "<tr><td colspan='2'>Mon Oct 27 21:37:58 2014 CST</td></tr>"
       ]
      }
     ],
     "prompt_number": 1
    },
    {
     "cell_type": "code",
     "collapsed": false,
     "input": [
      "import pycuda\n",
      "import numpy as np"
     ],
     "language": "python",
     "metadata": {},
     "outputs": [],
     "prompt_number": 2
    },
    {
     "cell_type": "code",
     "collapsed": false,
     "input": [
      "# Comandos de bash\n",
      "!ls"
     ],
     "language": "python",
     "metadata": {},
     "outputs": [
      {
       "output_type": "stream",
       "stream": "stdout",
       "text": [
        "0_Simple\t\t    gpuAdd.cu~\t\t   README.md~\t\t\t\t  Some_bench.ipynb\r\n",
        "addCPU\t\t\t    imagen\t\t   Sesion1_Introduccion_Python.ipynb\t  taylor.py\r\n",
        "cpua\t\t\t    intervalo.py\t   Sesion1_Python.ipynb\t\t\t  taylor.py~\r\n",
        "cpuAdd.c\t\t    intervalo.pyc\t   Sesion1_Test.ipynb\t\t\t  taylor.pyc\r\n",
        "cpuAdd.c~\t\t    License.txt\t\t   Sesion2_Intento_de_solucion_GPE.ipynb  vectorAdd.cu\r\n",
        "Ecuacion de difusion.ipynb  Longuet-Higgins.ipynb  Sesi\u00f3n3.1_ExploreGPU.ipynb\t\t  vectorAdd.tar.gz\r\n",
        "gpu\t\t\t    Makefile\t\t   Sesion3_CUDA&PyCuda1st.ipynb\r\n",
        "gpuAdd\t\t\t    N-Body.ipynb\t   Sesion4_PyCUDA_2nd.ipynb\r\n",
        "gpuAdd.cu\t\t    README.md\t\t   Sesion5_LibreriasGPU.ipynb\r\n"
       ]
      }
     ],
     "prompt_number": 3
    },
    {
     "cell_type": "code",
     "collapsed": false,
     "input": [
      "!git status"
     ],
     "language": "python",
     "metadata": {},
     "outputs": [
      {
       "output_type": "stream",
       "stream": "stdout",
       "text": [
        "# On branch master\r\n"
       ]
      },
      {
       "output_type": "stream",
       "stream": "stdout",
       "text": [
        "# Your branch is up-to-date with 'origin/master'.\r\n",
        "#\r\n",
        "# Changes not staged for commit:\r\n",
        "#   (use \"git add <file>...\" to update what will be committed)\r\n",
        "#   (use \"git checkout -- <file>...\" to discard changes in working directory)\r\n",
        "#\r\n",
        "#\t\u001b[31mmodified:   Sesion3_CUDA&PyCuda1st.ipynb\u001b[m\r\n",
        "#\t\u001b[31mmodified:   Sesion4_PyCUDA_2nd.ipynb\u001b[m\r\n",
        "#\t\u001b[31mmodified:   \"Sesi\\303\\263n3.1_ExploreGPU.ipynb\"\u001b[m\r\n",
        "#\r\n",
        "# Untracked files:\r\n",
        "#   (use \"git add <file>...\" to include in what will be committed)\r\n",
        "#\r\n",
        "#\t\u001b[31m.ipynb_checkpoints/\u001b[m\r\n",
        "#\t\u001b[31m0_Simple/\u001b[m\r\n",
        "#\t\u001b[31mEcuacion de difusion.ipynb\u001b[m\r\n",
        "#\t\u001b[31mLicense.txt\u001b[m\r\n",
        "#\t\u001b[31mLonguet-Higgins.ipynb\u001b[m\r\n",
        "#\t\u001b[31mMakefile\u001b[m\r\n",
        "#\t\u001b[31mN-Body.ipynb\u001b[m\r\n",
        "#\t\u001b[31mREADME.md~\u001b[m\r\n",
        "#\t\u001b[31mSesion1_Python.ipynb\u001b[m\r\n",
        "#\t\u001b[31mSesion1_Test.ipynb\u001b[m\r\n",
        "#\t\u001b[31mSesion2_Intento_de_solucion_GPE.ipynb\u001b[m\r\n",
        "#\t\u001b[31mSesion5_LibreriasGPU.ipynb\u001b[m\r\n",
        "#\t\u001b[31mSome_bench.ipynb\u001b[m\r\n",
        "#\t\u001b[31maddCPU\u001b[m\r\n",
        "#\t\u001b[31mcpuAdd.c~\u001b[m\r\n",
        "#\t\u001b[31mcpua\u001b[m\r\n",
        "#\t\u001b[31mgpu\u001b[m\r\n",
        "#\t\u001b[31mgpuAdd\u001b[m\r\n",
        "#\t\u001b[31mgpuAdd.cu~\u001b[m\r\n",
        "#\t\u001b[31mintervalo.pyc\u001b[m\r\n",
        "#\t\u001b[31mtaylor.pyc\u001b[m\r\n",
        "#\t\u001b[31mtaylor.py~\u001b[m\r\n",
        "#\t\u001b[31mvectorAdd.cu\u001b[m\r\n",
        "#\t\u001b[31mvectorAdd.tar.gz\u001b[m\r\n",
        "#\r\n",
        "no changes added to commit (use \"git add\" and/or \"git commit -a\")\r\n"
       ]
      }
     ],
     "prompt_number": 4
    },
    {
     "cell_type": "code",
     "collapsed": false,
     "input": [
      "!nvcc --version"
     ],
     "language": "python",
     "metadata": {},
     "outputs": [
      {
       "output_type": "stream",
       "stream": "stdout",
       "text": [
        "nvcc: NVIDIA (R) Cuda compiler driver\r\n",
        "Copyright (c) 2005-2013 NVIDIA Corporation\r\n",
        "Built on Wed_Jul_17_18:36:13_PDT_2013\r\n",
        "Cuda compilation tools, release 5.5, V5.5.0\r\n"
       ]
      }
     ],
     "prompt_number": 5
    },
    {
     "cell_type": "heading",
     "level": 2,
     "metadata": {},
     "source": [
      "Exploring your GPU device."
     ]
    },
    {
     "cell_type": "markdown",
     "metadata": {},
     "source": [
      "Listing devices:"
     ]
    },
    {
     "cell_type": "code",
     "collapsed": false,
     "input": [
      "from pycuda import autoinit\n",
      "from pycuda.tools import DeviceData"
     ],
     "language": "python",
     "metadata": {},
     "outputs": [],
     "prompt_number": 6
    },
    {
     "cell_type": "code",
     "collapsed": false,
     "input": [
      "specs = DeviceData()"
     ],
     "language": "python",
     "metadata": {},
     "outputs": [],
     "prompt_number": 7
    },
    {
     "cell_type": "code",
     "collapsed": false,
     "input": [
      "print 'Max threads per block = ',specs.max_threads"
     ],
     "language": "python",
     "metadata": {},
     "outputs": [
      {
       "output_type": "stream",
       "stream": "stdout",
       "text": [
        "Max threads per block =  1024\n"
       ]
      }
     ],
     "prompt_number": 8
    },
    {
     "cell_type": "code",
     "collapsed": false,
     "input": [
      "print 'Warp size            =', specs.warp_size\n",
      "print 'Warps per MP         =', specs.warps_per_mp\n",
      "print 'Thread Blocks per MP =', specs.thread_blocks_per_mp\n",
      "print 'Registers            =', specs.registers\n",
      "print 'Shared memory        =', specs.shared_memory\n",
      "print 'Granularity ??       =', specs.smem_granularity"
     ],
     "language": "python",
     "metadata": {},
     "outputs": [
      {
       "output_type": "stream",
       "stream": "stdout",
       "text": [
        "Warp size            = 32\n",
        "Warps per MP         = 48\n",
        "Thread Blocks per MP = 8\n",
        "Registers            = 65536\n",
        "Shared memory        = 49152\n",
        "Granularity ??       = 32\n"
       ]
      }
     ],
     "prompt_number": 9
    },
    {
     "cell_type": "markdown",
     "metadata": {},
     "source": [
      "    GTX 670\n",
      "    Warp size            = 32\n",
      "    Warps per MP         = 48\n",
      "    Thread Blocks per MP = 8\n",
      "    Registers            = 65536\n",
      "    Shared memory        = 49152\n",
      "    Granularity ??       = 32\n",
      "\n",
      "    GTX 570"
     ]
    },
    {
     "cell_type": "markdown",
     "metadata": {},
     "source": [
      "Other way"
     ]
    },
    {
     "cell_type": "code",
     "collapsed": false,
     "input": [
      "import pycuda.driver as drv"
     ],
     "language": "python",
     "metadata": {},
     "outputs": [],
     "prompt_number": 10
    },
    {
     "cell_type": "code",
     "collapsed": false,
     "input": [
      "drv.init()"
     ],
     "language": "python",
     "metadata": {},
     "outputs": [],
     "prompt_number": 11
    },
    {
     "cell_type": "code",
     "collapsed": false,
     "input": [
      "drv.get_version()"
     ],
     "language": "python",
     "metadata": {},
     "outputs": [
      {
       "metadata": {},
       "output_type": "pyout",
       "prompt_number": 12,
       "text": [
        "(5, 5, 0)"
       ]
      }
     ],
     "prompt_number": 12
    },
    {
     "cell_type": "code",
     "collapsed": false,
     "input": [
      "devn = drv.Device.count()\n",
      "print 'Localized GPUs =',devn"
     ],
     "language": "python",
     "metadata": {},
     "outputs": [
      {
       "output_type": "stream",
       "stream": "stdout",
       "text": [
        "Localized GPUs = 1\n"
       ]
      }
     ],
     "prompt_number": 13
    },
    {
     "cell_type": "code",
     "collapsed": false,
     "input": [
      "devices = []\n",
      "for i in range(devn):\n",
      "    devices.append(drv.Device(i))"
     ],
     "language": "python",
     "metadata": {},
     "outputs": [],
     "prompt_number": 14
    },
    {
     "cell_type": "markdown",
     "metadata": {},
     "source": [
      "All you want to know about your GPU, but you're afraid to ask!"
     ]
    },
    {
     "cell_type": "code",
     "collapsed": false,
     "input": [
      "for sp in devices:\n",
      "    print 'Name = ',sp.name()\n",
      "    print 'PCI Bus = ',sp.pci_bus_id()\n",
      "    print 'Compute Capability = ',sp.compute_capability()\n",
      "    print 'Total Memory = ',sp.total_memory()/(2.**20) , 'MBytes'\n",
      "    attr = sp.get_attributes()\n",
      "    for j in range(len(attr.items())):\n",
      "        print attr.items()[j]#,'Bytes (when apply)'\n",
      "    print '------------------'\n",
      "    print '------------------'"
     ],
     "language": "python",
     "metadata": {},
     "outputs": [
      {
       "output_type": "stream",
       "stream": "stdout",
       "text": [
        "Name =  GeForce GTX 670\n",
        "PCI Bus =  0000:01:00.0\n",
        "Compute Capability =  (3, 0)\n",
        "Total Memory =  2047.6875 MBytes\n",
        "(pycuda._driver.device_attribute.MAX_THREADS_PER_BLOCK, 1024)\n",
        "(pycuda._driver.device_attribute.MAX_BLOCK_DIM_X, 1024)\n",
        "(pycuda._driver.device_attribute.MAX_BLOCK_DIM_Y, 1024)\n",
        "(pycuda._driver.device_attribute.MAX_BLOCK_DIM_Z, 64)\n",
        "(pycuda._driver.device_attribute.MAX_GRID_DIM_X, 2147483647)\n",
        "(pycuda._driver.device_attribute.MAX_GRID_DIM_Y, 65535)\n",
        "(pycuda._driver.device_attribute.MAX_GRID_DIM_Z, 65535)\n",
        "(pycuda._driver.device_attribute.MAX_SHARED_MEMORY_PER_BLOCK, 49152)\n",
        "(pycuda._driver.device_attribute.TOTAL_CONSTANT_MEMORY, 65536)\n",
        "(pycuda._driver.device_attribute.WARP_SIZE, 32)\n",
        "(pycuda._driver.device_attribute.MAX_PITCH, 2147483647)\n",
        "(pycuda._driver.device_attribute.MAX_REGISTERS_PER_BLOCK, 65536)\n",
        "(pycuda._driver.device_attribute.CLOCK_RATE, 980000)\n",
        "(pycuda._driver.device_attribute.TEXTURE_ALIGNMENT, 512)\n",
        "(pycuda._driver.device_attribute.GPU_OVERLAP, 1)\n",
        "(pycuda._driver.device_attribute.MULTIPROCESSOR_COUNT, 7)\n",
        "(pycuda._driver.device_attribute.KERNEL_EXEC_TIMEOUT, 1)\n",
        "(pycuda._driver.device_attribute.INTEGRATED, 0)\n",
        "(pycuda._driver.device_attribute.CAN_MAP_HOST_MEMORY, 1)\n",
        "(pycuda._driver.device_attribute.COMPUTE_MODE, pycuda._driver.compute_mode.DEFAULT)\n",
        "(pycuda._driver.device_attribute.MAXIMUM_TEXTURE1D_WIDTH, 65536)\n",
        "(pycuda._driver.device_attribute.MAXIMUM_TEXTURE2D_WIDTH, 65536)\n",
        "(pycuda._driver.device_attribute.MAXIMUM_TEXTURE2D_HEIGHT, 65536)\n",
        "(pycuda._driver.device_attribute.MAXIMUM_TEXTURE3D_WIDTH, 4096)\n",
        "(pycuda._driver.device_attribute.MAXIMUM_TEXTURE3D_HEIGHT, 4096)\n",
        "(pycuda._driver.device_attribute.MAXIMUM_TEXTURE3D_DEPTH, 4096)\n",
        "(pycuda._driver.device_attribute.MAXIMUM_TEXTURE2D_ARRAY_WIDTH, 16384)\n",
        "(pycuda._driver.device_attribute.MAXIMUM_TEXTURE2D_ARRAY_HEIGHT, 16384)\n",
        "(pycuda._driver.device_attribute.MAXIMUM_TEXTURE2D_ARRAY_NUMSLICES, 2048)\n",
        "(pycuda._driver.device_attribute.SURFACE_ALIGNMENT, 512)\n",
        "(pycuda._driver.device_attribute.CONCURRENT_KERNELS, 1)\n",
        "(pycuda._driver.device_attribute.ECC_ENABLED, 0)\n",
        "(pycuda._driver.device_attribute.PCI_BUS_ID, 1)\n",
        "(pycuda._driver.device_attribute.PCI_DEVICE_ID, 0)\n",
        "(pycuda._driver.device_attribute.TCC_DRIVER, 0)\n",
        "(pycuda._driver.device_attribute.MEMORY_CLOCK_RATE, 3004000)\n",
        "(pycuda._driver.device_attribute.GLOBAL_MEMORY_BUS_WIDTH, 256)\n",
        "(pycuda._driver.device_attribute.L2_CACHE_SIZE, 524288)\n",
        "(pycuda._driver.device_attribute.MAX_THREADS_PER_MULTIPROCESSOR, 2048)\n",
        "(pycuda._driver.device_attribute.ASYNC_ENGINE_COUNT, 1)\n",
        "(pycuda._driver.device_attribute.UNIFIED_ADDRESSING, 1)\n",
        "(pycuda._driver.device_attribute.MAXIMUM_TEXTURE1D_LAYERED_WIDTH, 16384)\n",
        "(pycuda._driver.device_attribute.MAXIMUM_TEXTURE1D_LAYERED_LAYERS, 2048)\n",
        "(pycuda._driver.device_attribute.MAXIMUM_TEXTURE2D_GATHER_WIDTH, 16384)\n",
        "(pycuda._driver.device_attribute.MAXIMUM_TEXTURE2D_GATHER_HEIGHT, 16384)\n",
        "(pycuda._driver.device_attribute.MAXIMUM_TEXTURE3D_WIDTH_ALTERNATE, 2048)\n",
        "(pycuda._driver.device_attribute.MAXIMUM_TEXTURE3D_HEIGHT_ALTERNATE, 2048)\n",
        "(pycuda._driver.device_attribute.MAXIMUM_TEXTURE3D_DEPTH_ALTERNATE, 16384)\n",
        "(pycuda._driver.device_attribute.PCI_DOMAIN_ID, 0)\n",
        "(pycuda._driver.device_attribute.TEXTURE_PITCH_ALIGNMENT, 32)\n",
        "(pycuda._driver.device_attribute.MAXIMUM_TEXTURECUBEMAP_WIDTH, 16384)\n",
        "(pycuda._driver.device_attribute.MAXIMUM_TEXTURECUBEMAP_LAYERED_WIDTH, 16384)\n",
        "(pycuda._driver.device_attribute.MAXIMUM_TEXTURECUBEMAP_LAYERED_LAYERS, 2046)\n",
        "(pycuda._driver.device_attribute.MAXIMUM_SURFACE1D_WIDTH, 65536)\n",
        "(pycuda._driver.device_attribute.MAXIMUM_SURFACE2D_WIDTH, 65536)\n",
        "(pycuda._driver.device_attribute.MAXIMUM_SURFACE2D_HEIGHT, 32768)\n",
        "(pycuda._driver.device_attribute.MAXIMUM_SURFACE3D_WIDTH, 65536)\n",
        "(pycuda._driver.device_attribute.MAXIMUM_SURFACE3D_HEIGHT, 32768)\n",
        "(pycuda._driver.device_attribute.MAXIMUM_SURFACE3D_DEPTH, 2048)\n",
        "(pycuda._driver.device_attribute.MAXIMUM_SURFACE1D_LAYERED_WIDTH, 65536)\n",
        "(pycuda._driver.device_attribute.MAXIMUM_SURFACE1D_LAYERED_LAYERS, 2048)\n",
        "(pycuda._driver.device_attribute.MAXIMUM_SURFACE2D_LAYERED_WIDTH, 65536)\n",
        "(pycuda._driver.device_attribute.MAXIMUM_SURFACE2D_LAYERED_HEIGHT, 32768)\n",
        "(pycuda._driver.device_attribute.MAXIMUM_SURFACE2D_LAYERED_LAYERS, 2048)\n",
        "(pycuda._driver.device_attribute.MAXIMUM_SURFACECUBEMAP_WIDTH, 32768)\n",
        "(pycuda._driver.device_attribute.MAXIMUM_SURFACECUBEMAP_LAYERED_WIDTH, 32768)\n",
        "(pycuda._driver.device_attribute.MAXIMUM_SURFACECUBEMAP_LAYERED_LAYERS, 2046)\n",
        "(pycuda._driver.device_attribute.MAXIMUM_TEXTURE1D_LINEAR_WIDTH, 134217728)\n",
        "(pycuda._driver.device_attribute.MAXIMUM_TEXTURE2D_LINEAR_WIDTH, 65000)\n",
        "(pycuda._driver.device_attribute.MAXIMUM_TEXTURE2D_LINEAR_HEIGHT, 65000)\n",
        "(pycuda._driver.device_attribute.MAXIMUM_TEXTURE2D_LINEAR_PITCH, 1048544)\n",
        "------------------\n",
        "------------------\n"
       ]
      }
     ],
     "prompt_number": 15
    },
    {
     "cell_type": "markdown",
     "metadata": {},
     "source": [
      "MAX_THREADS_PER_BLOCK, 1024\n",
      "\n",
      "For example for a 3D mesh (less optimal), we only have avaiable $$8\\times 8\\times 8 = 512 \\,simetric$$ \n",
      " $$8\\times 8\\times 16 = 1024 \\,cilindrical$$\n",
      "block size per dimension = 8 or 16.\n",
      "In 2D case the optimal value is:\n",
      "$$32\\times32 = 1024$$\n",
      "In last case $$1024$$\n",
      "\n",
      "\n",
      "MAX_THREADS_PER_MULTIPROCESSOR, $1536 = 3*2^9$\n",
      "\n",
      "If we can take this literally, we can process in one processor about 3 meshes of $8\\times8\\times8$, or three blocks of 3D meshes. With this result, we can evaluate the eficience comparing cilindrical and simetric performance\n"
     ]
    },
    {
     "cell_type": "heading",
     "level": 3,
     "metadata": {},
     "source": [
      "Now your device has .."
     ]
    },
    {
     "cell_type": "code",
     "collapsed": false,
     "input": [
      "drv.mem_get_info()[0]/(2.**20),'MB of Free Memory',drv.mem_get_info()[1]/(2.**20),'MB Total Memory'"
     ],
     "language": "python",
     "metadata": {},
     "outputs": [
      {
       "metadata": {},
       "output_type": "pyout",
       "prompt_number": 16,
       "text": [
        "(5255.8671875, 'MB of Free Memory', 5375.4375, 'MB Total Memory')"
       ]
      }
     ],
     "prompt_number": 16
    },
    {
     "cell_type": "markdown",
     "metadata": {},
     "source": [
      "Let's think in array sizes. For example a float of 4 bytes length:"
     ]
    },
    {
     "cell_type": "code",
     "collapsed": false,
     "input": [
      "print 'Linear max length:', drv.mem_get_info()[0]/(4)\n",
      "print '2D max length    :', np.sqrt(drv.mem_get_info()[0]/(4))\n",
      "print '3D max length    :', np.power(drv.mem_get_info()[0]/(4),1./3.)"
     ],
     "language": "python",
     "metadata": {},
     "outputs": [
      {
       "output_type": "stream",
       "stream": "stdout",
       "text": [
        "Linear max length: 1377531904\n",
        "2D max length    : 37115.1169202\n",
        "3D max length    : 1112.67216061\n"
       ]
      }
     ],
     "prompt_number": 27
    },
    {
     "cell_type": "code",
     "collapsed": false,
     "input": [],
     "language": "python",
     "metadata": {},
     "outputs": [],
     "prompt_number": 26
    }
   ],
   "metadata": {}
  }
 ]
}