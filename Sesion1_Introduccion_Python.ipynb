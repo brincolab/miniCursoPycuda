{
 "metadata": {
  "celltoolbar": "Raw Cell Format",
  "name": "",
  "signature": "sha256:bf85975b779c4fc48816e16b4c8b83fe15df1b09528b0539934e471376fbe080"
 },
 "nbformat": 3,
 "nbformat_minor": 0,
 "worksheets": [
  {
   "cells": [
    {
     "cell_type": "markdown",
     "metadata": {
      "slideshow": {
       "slide_type": "slide"
      }
     },
     "source": [
      "<h3 align=\"center\">$\\Huge Python$</h3>\n",
      "<a href=\"https://www.python.org/\"><img src=\"imagen/python-logo-glassy.png\" width=\"10%\" /></a>"
     ]
    },
    {
     "cell_type": "heading",
     "level": 2,
     "metadata": {},
     "source": [
      "Introducci\u00f3n a Python"
     ]
    },
    {
     "cell_type": "markdown",
     "metadata": {},
     "source": [
      ">Python es un lenguaje de programacion creado en los 80's. Es un lenguaje de tipo interprete, que quiere decir  que ejecuta comando a comando sin generar ejecutables. A los programas se le llama generalmente **scripts** y para ejecutarlos siempre es necesario usar el interprete (python).\n",
      "\n",
      ">Python es un desarrollo de codigo abierto! (es gratis!) y en sus inicios era soportado por la comunidad de usuarios. Actualmente un gran cantidad de sofware libre es soportado por los usuarios. Github ( servidor especializado en control de software publico ) es un claro ejemplo de como cada vez mas personas sin ser programadores de profesi\u00f3n se inclinan a desarrollar su propio software y compartirlo con los demas.\n",
      "\n",
      ">En python veremos que todas las variables son mas que solo numeros, todos los elementos utilizados son **objetos**. Que quiere decir que  se generan a partir de una **clase** la cual consta de metodos y atributos propios.\n",
      "\n",
      ">Una critica fuerte es que al ser cada elemento en tu script un objeto (por ejemplo cada flotante no solo tiene 8-bytes de informacion si no mas info y methodos adjuntos) el proceso del objeto es lento comparado con lenguajes con **Fortran** o **C#** (entre 10 a 100 veces mas lento). La ventaja sobre este tipo de lenguajes (C# o F90) es la facilidad de programar con Python y la enorme cantidad de librearias que tenemos a disposici\u00f3n,  lo que lleva al resultado de que Python es capaz de tomar ventaja (es decir Python vence a C# o a cualquier otro, si tomas en cuenta el tiempo de desarrollo mas el de ejecuci\u00f3n, sin mencionar el soporte y flexibilidad a largo plazo)."
     ]
    },
    {
     "cell_type": "markdown",
     "metadata": {},
     "source": [
      "<div class=\"alert alert-success\" style=\"green: blue; margin: 10px\">\n",
      "  Otro punto a favor es que python puede interactuar con diversos lenguajes, como: C, Fortran, Matlab, HTML, .... Es decir es capaz de usar codigo previo.  \n",
      "</div>"
     ]
    },
    {
     "cell_type": "markdown",
     "metadata": {},
     "source": [
      "<div class=\"alert alert-info\" style=\"margin: 10px\">\n",
      "El entorno que esta usted actualmente viendo es el desarrollo m\u00e1s reciente para usar, compartir, revisar, desarrollar, colaborar, trabajar, ... con Python, llamado \"Ipython Notebook\" (IPYNB). Este entorno funciona como un modulo interactivo que usa como interfaz el navegador de su PC, el elemento m\u00e1s simple del notebook es la celda (por ejemplo esta es una celda de texto, interpretada automaticamente con un formato previamente definido, en este caso de HTML). Como veremos esta capa de Ipython resulta bastante \u00fatil. Al ser este documanto un notebook, se guarda con una extensi\u00f3n distinta de los scripts de Python (.py) esta es \".ipynb\". Por lo que nuestras sesiones se guardaran con esta extensi\u00f3n. Empezemos con una breve introducci\u00f3n a Python puro.\n",
      "</div>"
     ]
    },
    {
     "cell_type": "markdown",
     "metadata": {},
     "source": [
      "<div class=\"alert alert-error\" style=\"green: blue; margin: 10px\">\n",
      "Este entorno de Ipython Notebook tiene una gran variedad de funciones, pueden consultar la barra superior de tareas \u00f3 pulsar los botones \"esc\" + \"h\" y ver los comandos.\n",
      "</div>"
     ]
    },
    {
     "cell_type": "markdown",
     "metadata": {},
     "source": [
      "Hola mundo por n-esima vez!\n",
      "---------------------------\n",
      "Python:\n",
      "```python\n",
      "print 'Hola python!'\n",
      "```"
     ]
    },
    {
     "cell_type": "code",
     "collapsed": false,
     "input": [
      "print 'Hola Mundo!' # Como ya se habra percatado el Ipython Notebook \n",
      "                                    # tiene celdas de distinto tipo, en este caso es una de codigo "
     ],
     "language": "python",
     "metadata": {},
     "outputs": [
      {
       "output_type": "stream",
       "stream": "stdout",
       "text": [
        "Hola Mundo!\n"
       ]
      }
     ],
     "prompt_number": 2
    },
    {
     "cell_type": "markdown",
     "metadata": {},
     "source": [
      "Python por default posee funciones y estructuras b\u00e1sicas, en el caso anterior se uso la funci\u00f3n ```print``` sobre un cadena de caracteres."
     ]
    },
    {
     "cell_type": "heading",
     "level": 2,
     "metadata": {},
     "source": [
      "Variables"
     ]
    },
    {
     "cell_type": "markdown",
     "metadata": {},
     "source": [
      "Una variable es cualquier nombre (con restricciones, como que debe iniciar con una letra, no se debe llamar como una funcion preeestablecida, etc.) al cual se le puede asignar un valor. Una caracteristica de los lenguajes interpretes es que las asignaciones de valores a las variables son dinamicas, esto es que:"
     ]
    },
    {
     "cell_type": "code",
     "collapsed": false,
     "input": [
      "x = 'Hola a todos, soy una variable'"
     ],
     "language": "python",
     "metadata": {},
     "outputs": [],
     "prompt_number": 3
    },
    {
     "cell_type": "code",
     "collapsed": false,
     "input": [
      "print x"
     ],
     "language": "python",
     "metadata": {},
     "outputs": [
      {
       "output_type": "stream",
       "stream": "stdout",
       "text": [
        "Hola a todos, soy una variable\n"
       ]
      }
     ],
     "prompt_number": 4
    },
    {
     "cell_type": "code",
     "collapsed": false,
     "input": [
      "x = 58966e89"
     ],
     "language": "python",
     "metadata": {},
     "outputs": [],
     "prompt_number": 5
    },
    {
     "cell_type": "code",
     "collapsed": false,
     "input": [
      "print x"
     ],
     "language": "python",
     "metadata": {},
     "outputs": [
      {
       "output_type": "stream",
       "stream": "stdout",
       "text": [
        "5.8966e+93\n"
       ]
      }
     ],
     "prompt_number": 6
    },
    {
     "cell_type": "markdown",
     "metadata": {},
     "source": [
      "Esto nos permite usar variables sin nececidad de declarar su tipo. Si quieren conocer el tipo de una variable usen la funci\u00f3n ```type```"
     ]
    },
    {
     "cell_type": "code",
     "collapsed": false,
     "input": [
      "type(x)"
     ],
     "language": "python",
     "metadata": {},
     "outputs": [
      {
       "metadata": {},
       "output_type": "pyout",
       "prompt_number": 7,
       "text": [
        "float"
       ]
      }
     ],
     "prompt_number": 7
    },
    {
     "cell_type": "code",
     "collapsed": false,
     "input": [
      "x = 1"
     ],
     "language": "python",
     "metadata": {},
     "outputs": [],
     "prompt_number": 8
    },
    {
     "cell_type": "code",
     "collapsed": false,
     "input": [
      "type(x)"
     ],
     "language": "python",
     "metadata": {},
     "outputs": [
      {
       "metadata": {},
       "output_type": "pyout",
       "prompt_number": 9,
       "text": [
        "int"
       ]
      }
     ],
     "prompt_number": 9
    },
    {
     "cell_type": "code",
     "collapsed": false,
     "input": [
      "x = type"
     ],
     "language": "python",
     "metadata": {},
     "outputs": [],
     "prompt_number": 11
    },
    {
     "cell_type": "code",
     "collapsed": false,
     "input": [
      "type(x) # Como pueden ver se pude asignar a una variable casi de todo! (prueben asignando print)"
     ],
     "language": "python",
     "metadata": {},
     "outputs": [
      {
       "metadata": {},
       "output_type": "pyout",
       "prompt_number": 23,
       "text": [
        "type"
       ]
      }
     ],
     "prompt_number": 23
    },
    {
     "cell_type": "markdown",
     "metadata": {},
     "source": [
      "La mejor forma de aprender Python es viendo lo que pude hacer, no sean timidos y pidanle lo que se les ocurra. Python en general tiene un excelente manejo de errores lo cual permite ir viendo lo que se pude hacer y lo que no. "
     ]
    },
    {
     "cell_type": "heading",
     "level": 3,
     "metadata": {},
     "source": [
      "Numeros y Cadena de caracteres"
     ]
    },
    {
     "cell_type": "markdown",
     "metadata": {},
     "source": [
      "Hasta donde yo se Python soporta todos las estructuras b\u00e1sicas de C#; float, int, double, long, bool, string, ... etc. Por defaul Python asigna y opera cualquier flotante como ''double''. Todos soportan las operaciones aritmeticas usuales. De momento podemos usar Python como una calculadora."
     ]
    },
    {
     "cell_type": "code",
     "collapsed": false,
     "input": [
      "a = 10000000 \n",
      "a = 1.5698956565163\n",
      "a = 1.5 \n",
      "a=  1j*59         # Python tiene predefinido los numero complejos.\n",
      "print a, a.real, a.imag"
     ],
     "language": "python",
     "metadata": {},
     "outputs": [
      {
       "output_type": "stream",
       "stream": "stdout",
       "text": [
        "59j 0.0 59.0\n"
       ]
      }
     ],
     "prompt_number": 149
    },
    {
     "cell_type": "code",
     "collapsed": false,
     "input": [
      "b = c = d = 15 # Las asignaciones siempre se ejecutan de derecha a izquierda. "
     ],
     "language": "python",
     "metadata": {},
     "outputs": [],
     "prompt_number": 167
    },
    {
     "cell_type": "code",
     "collapsed": false,
     "input": [
      "print b,c,d"
     ],
     "language": "python",
     "metadata": {},
     "outputs": [
      {
       "output_type": "stream",
       "stream": "stdout",
       "text": [
        "15 15 15\n"
       ]
      }
     ],
     "prompt_number": 35
    },
    {
     "cell_type": "code",
     "collapsed": false,
     "input": [
      "c = 'Soy un string'\n",
      "c # Ojo no use print!, esto es una accion predefinida en el IPYNB"
     ],
     "language": "python",
     "metadata": {},
     "outputs": [
      {
       "metadata": {},
       "output_type": "pyout",
       "prompt_number": 36,
       "text": [
        "'Soy un string'"
       ]
      }
     ],
     "prompt_number": 36
    },
    {
     "cell_type": "markdown",
     "metadata": {},
     "source": [
      "**Como se puden estar imaginando realmente la asignaci\u00f3n (operador = ) lo unico que haces es asignarle la direccion de memoria del objeto a la variable.** Por lo que la variable **c** realmente primero apuntaba al slot de memoria con un 5 y despues la hicimos apuntar al de string. "
     ]
    },
    {
     "cell_type": "code",
     "collapsed": false,
     "input": [
      "c[10] # Podemos acceder a los elemntos de la cadena como si fuesen parte de un arreglo."
     ],
     "language": "python",
     "metadata": {},
     "outputs": [
      {
       "metadata": {},
       "output_type": "pyout",
       "prompt_number": 136,
       "text": [
        "'i'"
       ]
      }
     ],
     "prompt_number": 136
    },
    {
     "cell_type": "code",
     "collapsed": false,
     "input": [
      "c[10:15] # o a segmentos"
     ],
     "language": "python",
     "metadata": {},
     "outputs": [
      {
       "metadata": {},
       "output_type": "pyout",
       "prompt_number": 137,
       "text": [
        "'ing'"
       ]
      }
     ],
     "prompt_number": 137
    },
    {
     "cell_type": "code",
     "collapsed": false,
     "input": [
      "c[0:15:2] # o por secuencuencias"
     ],
     "language": "python",
     "metadata": {},
     "outputs": [
      {
       "metadata": {},
       "output_type": "pyout",
       "prompt_number": 139,
       "text": [
        "'Syu tig'"
       ]
      }
     ],
     "prompt_number": 139
    },
    {
     "cell_type": "markdown",
     "metadata": {},
     "source": [
      "Existen tambien funciones para pasar entre varios tipos de variables"
     ]
    },
    {
     "cell_type": "code",
     "collapsed": false,
     "input": [
      "type(b)"
     ],
     "language": "python",
     "metadata": {},
     "outputs": [
      {
       "metadata": {},
       "output_type": "pyout",
       "prompt_number": 168,
       "text": [
        "int"
       ]
      }
     ],
     "prompt_number": 168
    },
    {
     "cell_type": "code",
     "collapsed": false,
     "input": [
      "b = float(b)\n",
      "type(b)"
     ],
     "language": "python",
     "metadata": {},
     "outputs": [
      {
       "metadata": {},
       "output_type": "pyout",
       "prompt_number": 169,
       "text": [
        "float"
       ]
      }
     ],
     "prompt_number": 169
    },
    {
     "cell_type": "code",
     "collapsed": false,
     "input": [
      "b"
     ],
     "language": "python",
     "metadata": {},
     "outputs": []
    },
    {
     "cell_type": "code",
     "collapsed": false,
     "input": [
      "b= str(b)\n",
      "type(b)"
     ],
     "language": "python",
     "metadata": {},
     "outputs": [
      {
       "metadata": {},
       "output_type": "pyout",
       "prompt_number": 170,
       "text": [
        "str"
       ]
      }
     ],
     "prompt_number": 170
    },
    {
     "cell_type": "code",
     "collapsed": false,
     "input": [
      "b"
     ],
     "language": "python",
     "metadata": {},
     "outputs": [
      {
       "metadata": {},
       "output_type": "pyout",
       "prompt_number": 171,
       "text": [
        "'15.0'"
       ]
      }
     ],
     "prompt_number": 171
    },
    {
     "cell_type": "code",
     "collapsed": false,
     "input": [
      "b = bool(b)\n",
      "type(b)"
     ],
     "language": "python",
     "metadata": {},
     "outputs": [
      {
       "metadata": {},
       "output_type": "pyout",
       "prompt_number": 172,
       "text": [
        "bool"
       ]
      }
     ],
     "prompt_number": 172
    },
    {
     "cell_type": "code",
     "collapsed": false,
     "input": [
      "b"
     ],
     "language": "python",
     "metadata": {},
     "outputs": [
      {
       "metadata": {},
       "output_type": "pyout",
       "prompt_number": 173,
       "text": [
        "True"
       ]
      }
     ],
     "prompt_number": 173
    },
    {
     "cell_type": "heading",
     "level": 3,
     "metadata": {},
     "source": [
      "Logicas"
     ]
    },
    {
     "cell_type": "code",
     "collapsed": false,
     "input": [
      "True, False"
     ],
     "language": "python",
     "metadata": {},
     "outputs": [
      {
       "metadata": {},
       "output_type": "pyout",
       "prompt_number": 73,
       "text": [
        "(True, False)"
       ]
      }
     ],
     "prompt_number": 73
    },
    {
     "cell_type": "heading",
     "level": 3,
     "metadata": {},
     "source": [
      "Listas"
     ]
    },
    {
     "cell_type": "markdown",
     "metadata": {},
     "source": [
      "Las listas son una estructura que almacena una colecci\u00f3n de objetos, el numero de objetos es una cantidad variable."
     ]
    },
    {
     "cell_type": "code",
     "collapsed": false,
     "input": [
      "l1 = [1.589e45,1000000111, True, 0, 1j, 'changos', type]"
     ],
     "language": "python",
     "metadata": {},
     "outputs": [],
     "prompt_number": 29
    },
    {
     "cell_type": "code",
     "collapsed": false,
     "input": [
      "l1"
     ],
     "language": "python",
     "metadata": {},
     "outputs": [
      {
       "metadata": {},
       "output_type": "pyout",
       "prompt_number": 30,
       "text": [
        "[1.589e+45, 1000000111, True, 0, 1j, 'changos', type]"
       ]
      }
     ],
     "prompt_number": 30
    },
    {
     "cell_type": "code",
     "collapsed": false,
     "input": [
      "l1.append(0.0001)  #Podemos agragar en cualquier momento elementos a la lista"
     ],
     "language": "python",
     "metadata": {},
     "outputs": [],
     "prompt_number": 31
    },
    {
     "cell_type": "code",
     "collapsed": false,
     "input": [
      "l1"
     ],
     "language": "python",
     "metadata": {},
     "outputs": [
      {
       "metadata": {},
       "output_type": "pyout",
       "prompt_number": 32,
       "text": [
        "[1.589e+45, 1000000111, True, 0, 1j, 'changos', type, 0.0001]"
       ]
      }
     ],
     "prompt_number": 32
    },
    {
     "cell_type": "code",
     "collapsed": false,
     "input": [
      "l1[3]  #Se puede acceder a los elemento individuales como si fuera un array de C#"
     ],
     "language": "python",
     "metadata": {},
     "outputs": [
      {
       "metadata": {},
       "output_type": "pyout",
       "prompt_number": 33,
       "text": [
        "0"
       ]
      }
     ],
     "prompt_number": 33
    },
    {
     "cell_type": "code",
     "collapsed": false,
     "input": [
      "l1[-3], l1[-1] # Agregando el signo menos se cuentan los elementos en reversa!"
     ],
     "language": "python",
     "metadata": {},
     "outputs": [
      {
       "metadata": {},
       "output_type": "pyout",
       "prompt_number": 34,
       "text": [
        "('changos', 0.0001)"
       ]
      }
     ],
     "prompt_number": 34
    },
    {
     "cell_type": "code",
     "collapsed": false,
     "input": [
      "l1[-2](l1[4]) # Que hicimos?"
     ],
     "language": "python",
     "metadata": {},
     "outputs": [
      {
       "metadata": {},
       "output_type": "pyout",
       "prompt_number": 35,
       "text": [
        "complex"
       ]
      }
     ],
     "prompt_number": 35
    },
    {
     "cell_type": "code",
     "collapsed": false,
     "input": [
      "#Pista:\n",
      "type(1j)"
     ],
     "language": "python",
     "metadata": {},
     "outputs": [
      {
       "metadata": {},
       "output_type": "pyout",
       "prompt_number": 36,
       "text": [
        "complex"
       ]
      }
     ],
     "prompt_number": 36
    },
    {
     "cell_type": "code",
     "collapsed": false,
     "input": [
      "l1[0] = 'Ya cmbie!'"
     ],
     "language": "python",
     "metadata": {},
     "outputs": [],
     "prompt_number": 37
    },
    {
     "cell_type": "code",
     "collapsed": false,
     "input": [
      "l1"
     ],
     "language": "python",
     "metadata": {},
     "outputs": [
      {
       "metadata": {},
       "output_type": "pyout",
       "prompt_number": 38,
       "text": [
        "['Ya cmbie!', 1000000111, True, 0, 1j, 'changos', type, 0.0001]"
       ]
      }
     ],
     "prompt_number": 38
    },
    {
     "cell_type": "markdown",
     "metadata": {},
     "source": [
      "La cosa mas extra\u00f1a que he definido!"
     ]
    },
    {
     "cell_type": "code",
     "collapsed": false,
     "input": [
      "l1.append(l1)"
     ],
     "language": "python",
     "metadata": {},
     "outputs": [],
     "prompt_number": 39
    },
    {
     "cell_type": "code",
     "collapsed": false,
     "input": [
      "l1"
     ],
     "language": "python",
     "metadata": {},
     "outputs": [
      {
       "metadata": {},
       "output_type": "pyout",
       "prompt_number": 40,
       "text": [
        "['Ya cmbie!', 1000000111, True, 0, 1j, 'changos', type, 0.0001, [...]]"
       ]
      }
     ],
     "prompt_number": 40
    },
    {
     "cell_type": "code",
     "collapsed": false,
     "input": [
      "l1[-1]"
     ],
     "language": "python",
     "metadata": {},
     "outputs": [
      {
       "metadata": {},
       "output_type": "pyout",
       "prompt_number": 41,
       "text": [
        "['Ya cmbie!', 1000000111, True, 0, 1j, 'changos', type, 0.0001, [...]]"
       ]
      }
     ],
     "prompt_number": 41
    },
    {
     "cell_type": "code",
     "collapsed": false,
     "input": [
      "l1[-1][-1] # Una lista que se contiene a si misma !!!!!!!"
     ],
     "language": "python",
     "metadata": {},
     "outputs": [
      {
       "metadata": {},
       "output_type": "pyout",
       "prompt_number": 43,
       "text": [
        "['Ya cmbie!', 1000000111, True, 0, 1j, 'changos', type, 0.0001, [...]]"
       ]
      }
     ],
     "prompt_number": 43
    },
    {
     "cell_type": "markdown",
     "metadata": {},
     "source": [
      "Existe una funcion muy usada que genera una lsita de valores. Esta es :\n",
      "```python\n",
      "range()  ```"
     ]
    },
    {
     "cell_type": "code",
     "collapsed": false,
     "input": [
      "rango = range(10)\n",
      "print rango"
     ],
     "language": "python",
     "metadata": {},
     "outputs": [
      {
       "output_type": "stream",
       "stream": "stdout",
       "text": [
        "[0, 1, 2, 3, 4, 5, 6, 7, 8, 9]\n"
       ]
      }
     ],
     "prompt_number": 79
    },
    {
     "cell_type": "code",
     "collapsed": false,
     "input": [
      "rango = range(0,10,2)\n",
      "rango   "
     ],
     "language": "python",
     "metadata": {},
     "outputs": [
      {
       "metadata": {},
       "output_type": "pyout",
       "prompt_number": 95,
       "text": [
        "[0, 2, 4, 6, 8]"
       ]
      }
     ],
     "prompt_number": 95
    },
    {
     "cell_type": "code",
     "collapsed": false,
     "input": [
      "rango[0:3] # Tambien podemos acceder a segmentos especificos dentro de la lista"
     ],
     "language": "python",
     "metadata": {},
     "outputs": [
      {
       "metadata": {},
       "output_type": "pyout",
       "prompt_number": 101,
       "text": [
        "[0, 2, 4]"
       ]
      }
     ],
     "prompt_number": 101
    },
    {
     "cell_type": "code",
     "collapsed": false,
     "input": [
      "r2 = range(100)"
     ],
     "language": "python",
     "metadata": {},
     "outputs": [],
     "prompt_number": 102
    },
    {
     "cell_type": "code",
     "collapsed": false,
     "input": [
      "print r2[0:100:10]"
     ],
     "language": "python",
     "metadata": {},
     "outputs": [
      {
       "output_type": "stream",
       "stream": "stdout",
       "text": [
        "[0, 10, 20, 30, 40, 50, 60, 70, 80, 90]\n"
       ]
      }
     ],
     "prompt_number": 103
    },
    {
     "cell_type": "heading",
     "level": 3,
     "metadata": {},
     "source": [
      "Tuplas"
     ]
    },
    {
     "cell_type": "markdown",
     "metadata": {},
     "source": [
      "Las tuplas son similares a las listas exceptos que son asignaciones estaticas."
     ]
    },
    {
     "cell_type": "code",
     "collapsed": false,
     "input": [
      "a = (1,15.69,'Rayos',str)"
     ],
     "language": "python",
     "metadata": {},
     "outputs": [],
     "prompt_number": 83
    },
    {
     "cell_type": "code",
     "collapsed": false,
     "input": [
      "a[1]"
     ],
     "language": "python",
     "metadata": {},
     "outputs": [
      {
       "metadata": {},
       "output_type": "pyout",
       "prompt_number": 86,
       "text": [
        "15.69"
       ]
      }
     ],
     "prompt_number": 86
    },
    {
     "cell_type": "code",
     "collapsed": false,
     "input": [
      "a[1] = 'No puedo cambiar'"
     ],
     "language": "python",
     "metadata": {},
     "outputs": [
      {
       "ename": "TypeError",
       "evalue": "'tuple' object does not support item assignment",
       "output_type": "pyerr",
       "traceback": [
        "\u001b[1;31m---------------------------------------------------------------------------\u001b[0m\n\u001b[1;31mTypeError\u001b[0m                                 Traceback (most recent call last)",
        "\u001b[1;32m<ipython-input-87-2683bddb7b3c>\u001b[0m in \u001b[0;36m<module>\u001b[1;34m()\u001b[0m\n\u001b[1;32m----> 1\u001b[1;33m \u001b[0ma\u001b[0m\u001b[1;33m[\u001b[0m\u001b[1;36m1\u001b[0m\u001b[1;33m]\u001b[0m \u001b[1;33m=\u001b[0m \u001b[1;34m'No puedo cambiar'\u001b[0m\u001b[1;33m\u001b[0m\u001b[0m\n\u001b[0m",
        "\u001b[1;31mTypeError\u001b[0m: 'tuple' object does not support item assignment"
       ]
      }
     ],
     "prompt_number": 87
    },
    {
     "cell_type": "code",
     "collapsed": false,
     "input": [
      "a[0:3]"
     ],
     "language": "python",
     "metadata": {},
     "outputs": [
      {
       "metadata": {},
       "output_type": "pyout",
       "prompt_number": 106,
       "text": [
        "(1, 15.69, 'Rayos')"
       ]
      }
     ],
     "prompt_number": 106
    },
    {
     "cell_type": "heading",
     "level": 3,
     "metadata": {},
     "source": [
      "Diccionarios"
     ]
    },
    {
     "cell_type": "markdown",
     "metadata": {},
     "source": [
      "Los diccionarios son una manera de ligar pares de objetos dentro de una especie de lista."
     ]
    },
    {
     "cell_type": "code",
     "collapsed": false,
     "input": [
      "d1 = {'algo':1j,1:'thing', 'f1':str}"
     ],
     "language": "python",
     "metadata": {},
     "outputs": [],
     "prompt_number": 111
    },
    {
     "cell_type": "code",
     "collapsed": false,
     "input": [
      "d1['algo']"
     ],
     "language": "python",
     "metadata": {},
     "outputs": [
      {
       "metadata": {},
       "output_type": "pyout",
       "prompt_number": 112,
       "text": [
        "1j"
       ]
      }
     ],
     "prompt_number": 112
    },
    {
     "cell_type": "code",
     "collapsed": false,
     "input": [
      "d1[1]"
     ],
     "language": "python",
     "metadata": {},
     "outputs": [
      {
       "metadata": {},
       "output_type": "pyout",
       "prompt_number": 113,
       "text": [
        "'thing'"
       ]
      }
     ],
     "prompt_number": 113
    },
    {
     "cell_type": "code",
     "collapsed": false,
     "input": [
      "d1['f1']"
     ],
     "language": "python",
     "metadata": {},
     "outputs": [
      {
       "metadata": {},
       "output_type": "pyout",
       "prompt_number": 114,
       "text": [
        "str"
       ]
      }
     ],
     "prompt_number": 114
    },
    {
     "cell_type": "markdown",
     "metadata": {},
     "source": [
      "Se le queda de tarea ver si esta estructura es din\u00e1mica o est\u00e1tica."
     ]
    },
    {
     "cell_type": "heading",
     "level": 2,
     "metadata": {},
     "source": [
      "Operaciones"
     ]
    },
    {
     "cell_type": "markdown",
     "metadata": {},
     "source": [
      "En general tenemos las operaciones aritmeticas y las logicas (binarias). Pero en Python existen definidas muchas mas."
     ]
    },
    {
     "cell_type": "code",
     "collapsed": false,
     "input": [
      "1+1"
     ],
     "language": "python",
     "metadata": {},
     "outputs": [
      {
       "metadata": {},
       "output_type": "pyout",
       "prompt_number": 115,
       "text": [
        "2"
       ]
      }
     ],
     "prompt_number": 115
    },
    {
     "cell_type": "code",
     "collapsed": false,
     "input": [
      "5**2"
     ],
     "language": "python",
     "metadata": {},
     "outputs": [
      {
       "metadata": {},
       "output_type": "pyout",
       "prompt_number": 118,
       "text": [
        "25"
       ]
      }
     ],
     "prompt_number": 118
    },
    {
     "cell_type": "code",
     "collapsed": false,
     "input": [
      "15-89.666"
     ],
     "language": "python",
     "metadata": {},
     "outputs": [
      {
       "metadata": {},
       "output_type": "pyout",
       "prompt_number": 119,
       "text": [
        "-74.666"
       ]
      }
     ],
     "prompt_number": 119
    },
    {
     "cell_type": "code",
     "collapsed": false,
     "input": [
      "15/3"
     ],
     "language": "python",
     "metadata": {},
     "outputs": [
      {
       "metadata": {},
       "output_type": "pyout",
       "prompt_number": 121,
       "text": [
        "5"
       ]
      }
     ],
     "prompt_number": 121
    },
    {
     "cell_type": "code",
     "collapsed": false,
     "input": [
      "10%2.5"
     ],
     "language": "python",
     "metadata": {},
     "outputs": [
      {
       "metadata": {},
       "output_type": "pyout",
       "prompt_number": 123,
       "text": [
        "0.0"
       ]
      }
     ],
     "prompt_number": 123
    },
    {
     "cell_type": "code",
     "collapsed": false,
     "input": [
      "15 == 10"
     ],
     "language": "python",
     "metadata": {},
     "outputs": [
      {
       "metadata": {},
       "output_type": "pyout",
       "prompt_number": 124,
       "text": [
        "False"
       ]
      }
     ],
     "prompt_number": 124
    },
    {
     "cell_type": "code",
     "collapsed": false,
     "input": [
      "False != True # != es el operador distinto que"
     ],
     "language": "python",
     "metadata": {},
     "outputs": [
      {
       "metadata": {},
       "output_type": "pyout",
       "prompt_number": 125,
       "text": [
        "True"
       ]
      }
     ],
     "prompt_number": 125
    },
    {
     "cell_type": "code",
     "collapsed": false,
     "input": [
      "11>=11"
     ],
     "language": "python",
     "metadata": {},
     "outputs": [
      {
       "metadata": {},
       "output_type": "pyout",
       "prompt_number": 126,
       "text": [
        "True"
       ]
      }
     ],
     "prompt_number": 126
    },
    {
     "cell_type": "markdown",
     "metadata": {},
     "source": [
      "__A continuacion haremos operaciones que en cualquier otro lengueje serian descabelladas__"
     ]
    },
    {
     "cell_type": "code",
     "collapsed": false,
     "input": [
      "a = [0]*15\n",
      "a # La multiplicacion de listas por un numero n entero, implica n copias de la lista. NO importa que haya dentro "
     ],
     "language": "python",
     "metadata": {},
     "outputs": [
      {
       "metadata": {},
       "output_type": "pyout",
       "prompt_number": 145,
       "text": [
        "[0, 0, 0, 0, 0, 0, 0, 0, 0, 0, 0, 0, 0, 0, 0]"
       ]
      }
     ],
     "prompt_number": 145
    },
    {
     "cell_type": "code",
     "collapsed": false,
     "input": [
      "a = 'Hola' * 10 #Tambien multiplicacion por strings\n",
      "a"
     ],
     "language": "python",
     "metadata": {},
     "outputs": [
      {
       "metadata": {},
       "output_type": "pyout",
       "prompt_number": 146,
       "text": [
        "'HolaHolaHolaHolaHolaHolaHolaHolaHolaHola'"
       ]
      }
     ],
     "prompt_number": 146
    },
    {
     "cell_type": "code",
     "collapsed": false,
     "input": [
      "a = 'Hola'\n",
      "a += ' por onceava vez!'"
     ],
     "language": "python",
     "metadata": {},
     "outputs": [],
     "prompt_number": 175
    },
    {
     "cell_type": "code",
     "collapsed": false,
     "input": [
      "print a"
     ],
     "language": "python",
     "metadata": {},
     "outputs": [
      {
       "output_type": "stream",
       "stream": "stdout",
       "text": [
        "Hola por onceava vez!\n"
       ]
      }
     ],
     "prompt_number": 177
    },
    {
     "cell_type": "code",
     "collapsed": false,
     "input": [
      "'Hola' >= a"
     ],
     "language": "python",
     "metadata": {},
     "outputs": [
      {
       "metadata": {},
       "output_type": "pyout",
       "prompt_number": 140,
       "text": [
        "False"
       ]
      }
     ],
     "prompt_number": 140
    },
    {
     "cell_type": "code",
     "collapsed": false,
     "input": [
      "'Hola' <= a # Lo que hace realmente es comparar la longitud de los strings"
     ],
     "language": "python",
     "metadata": {},
     "outputs": [
      {
       "metadata": {},
       "output_type": "pyout",
       "prompt_number": 144,
       "text": [
        "True"
       ]
      }
     ],
     "prompt_number": 144
    },
    {
     "cell_type": "markdown",
     "metadata": {},
     "source": [
      "Se puden hacer operaciones entre distintos tipos de variables, pero hay excepciones (ya que no estan definidas):"
     ]
    },
    {
     "cell_type": "code",
     "collapsed": false,
     "input": [
      "a - 5"
     ],
     "language": "python",
     "metadata": {},
     "outputs": [
      {
       "ename": "TypeError",
       "evalue": "unsupported operand type(s) for -: 'str' and 'int'",
       "output_type": "pyerr",
       "traceback": [
        "\u001b[1;31m---------------------------------------------------------------------------\u001b[0m\n\u001b[1;31mTypeError\u001b[0m                                 Traceback (most recent call last)",
        "\u001b[1;32m<ipython-input-176-24318b8e1b5b>\u001b[0m in \u001b[0;36m<module>\u001b[1;34m()\u001b[0m\n\u001b[1;32m----> 1\u001b[1;33m \u001b[0ma\u001b[0m \u001b[1;33m-\u001b[0m \u001b[1;36m5\u001b[0m\u001b[1;33m\u001b[0m\u001b[0m\n\u001b[0m",
        "\u001b[1;31mTypeError\u001b[0m: unsupported operand type(s) for -: 'str' and 'int'"
       ]
      }
     ],
     "prompt_number": 176
    },
    {
     "cell_type": "markdown",
     "metadata": {},
     "source": [
      "Las operaciones anteriores estan declaradas con intenci\u00f3n dentro de la colecci\u00f3n de funciones basicas de Python. Es decir no son un accidente."
     ]
    },
    {
     "cell_type": "heading",
     "level": 2,
     "metadata": {},
     "source": [
      "Control de flujo (for, while, if)"
     ]
    },
    {
     "cell_type": "markdown",
     "metadata": {},
     "source": [
      "Para controlar el flujo del programa poseemos tres estructuras, las cuales usan una propiedad especifica de python llamada bloques de codigo que se hace mediante la identaci\u00f3n del c\u00f3digo."
     ]
    },
    {
     "cell_type": "heading",
     "level": 4,
     "metadata": {},
     "source": [
      "Bucle ```for```"
     ]
    },
    {
     "cell_type": "code",
     "collapsed": false,
     "input": [
      "for i in range(10): # Los dos puntos le indican a python que la identaciones \n",
      "    #  siguiente define el bloque de codigo a ejecutar dentro del bucle\n",
      "    print i>=5 # Este es un bloque de codigo de una linea de extension."
     ],
     "language": "python",
     "metadata": {},
     "outputs": [
      {
       "output_type": "stream",
       "stream": "stdout",
       "text": [
        "False\n",
        "False\n",
        "False\n",
        "False\n",
        "False\n",
        "True\n",
        "True\n",
        "True\n",
        "True\n",
        "True\n"
       ]
      }
     ],
     "prompt_number": 179
    },
    {
     "cell_type": "markdown",
     "metadata": {},
     "source": [
      "El bucle ** for ** esta definido para cualquier variable iterable de python. Toma los elementos del objeto iterables y los asigna a la variable de la estructura (en el caso anterior la letra ''i'')"
     ]
    },
    {
     "cell_type": "code",
     "collapsed": false,
     "input": [
      "a = ['uno','dos','tres']\n",
      "for s in a:\n",
      "    print s*2"
     ],
     "language": "python",
     "metadata": {},
     "outputs": [
      {
       "output_type": "stream",
       "stream": "stdout",
       "text": [
        "unouno\n",
        "dosdos\n",
        "trestres\n"
       ]
      }
     ],
     "prompt_number": 181
    },
    {
     "cell_type": "code",
     "collapsed": false,
     "input": [
      "a = (int,float,str,bool)\n",
      "for f in a:\n",
      "    print f(3.14156)"
     ],
     "language": "python",
     "metadata": {},
     "outputs": [
      {
       "output_type": "stream",
       "stream": "stdout",
       "text": [
        "3\n",
        "3.14156\n",
        "3.14156\n",
        "True\n"
       ]
      }
     ],
     "prompt_number": 184
    },
    {
     "cell_type": "markdown",
     "metadata": {},
     "source": [
      "Una combinaci\u00f3n entre la lista y el bucle `for` son las comprensiones de listas. Esto es:"
     ]
    },
    {
     "cell_type": "code",
     "collapsed": false,
     "input": [
      "a = [i**2 for i in range(15)]"
     ],
     "language": "python",
     "metadata": {},
     "outputs": [],
     "prompt_number": 193
    },
    {
     "cell_type": "code",
     "collapsed": false,
     "input": [
      "a"
     ],
     "language": "python",
     "metadata": {},
     "outputs": [
      {
       "metadata": {},
       "output_type": "pyout",
       "prompt_number": 194,
       "text": [
        "[0, 1, 4, 9, 16, 25, 36, 49, 64, 81, 100, 121, 144, 169, 196]"
       ]
      }
     ],
     "prompt_number": 194
    },
    {
     "cell_type": "heading",
     "level": 4,
     "metadata": {},
     "source": [
      "Bucle ```while```"
     ]
    },
    {
     "cell_type": "code",
     "collapsed": false,
     "input": [
      "a = True\n",
      "while a:\n",
      "    print a\n",
      "    a = False"
     ],
     "language": "python",
     "metadata": {},
     "outputs": [
      {
       "output_type": "stream",
       "stream": "stdout",
       "text": [
        "True\n"
       ]
      }
     ],
     "prompt_number": 185
    },
    {
     "cell_type": "code",
     "collapsed": false,
     "input": [
      "a = 15\n",
      "while a >= 0:\n",
      "    a -= 1 # Esto es igual que 'a = a-1'\n",
      "    print a"
     ],
     "language": "python",
     "metadata": {},
     "outputs": [
      {
       "output_type": "stream",
       "stream": "stdout",
       "text": [
        "14\n",
        "13\n",
        "12\n",
        "11\n",
        "10\n",
        "9\n",
        "8\n",
        "7\n",
        "6\n",
        "5\n",
        "4\n",
        "3\n",
        "2\n",
        "1\n",
        "0\n",
        "-1\n"
       ]
      }
     ],
     "prompt_number": 188
    },
    {
     "cell_type": "heading",
     "level": 4,
     "metadata": {},
     "source": [
      "Condicionales ``if``, ``else``, ``elif``"
     ]
    },
    {
     "cell_type": "markdown",
     "metadata": {},
     "source": [
      "Al igual que en los casos anteriores estas estructuras de control funcionan con la identacion para definir el bloque de sentencias a ejecutar. Es por la identaci\u00f3n usada como estructura de c\u00f3digo que los codigos de Python en su mayoria son legibles."
     ]
    },
    {
     "cell_type": "code",
     "collapsed": false,
     "input": [
      "a = raw_input()\n",
      "print 'Adivina lo que pienso:'\n",
      "if a == 'Chocolate':\n",
      "    print 'Adivinaste lo que pienso'\n",
      "else:\n",
      "    print 'Trata de nuevo'"
     ],
     "language": "python",
     "metadata": {},
     "outputs": [
      {
       "name": "stdout",
       "output_type": "stream",
       "stream": "stdout",
       "text": [
        "63415\n"
       ]
      },
      {
       "output_type": "stream",
       "stream": "stdout",
       "text": [
        "Adivina lo que pienso:\n",
        "Trata de nuevo\n"
       ]
      }
     ],
     "prompt_number": 6
    },
    {
     "cell_type": "code",
     "collapsed": false,
     "input": [
      "a = True\n",
      "count = 0\n",
      "print 'Adivina el numero entero que pienso!'\n",
      "guess = 10\n",
      "while a:   #Observa la identacion o espaciado, que separa bloques del codigo.\n",
      "    count+=1\n",
      "    aux = input('Intento '+str(count) +':')\n",
      "    if int(aux)>guess:\n",
      "        print 'Te pasaste!'\n",
      "    elif int(aux)<guess:\n",
      "        print 'Te falta!'\n",
      "    else:\n",
      "        print 'Correcto! lo lograste en {0} intentos'.format(count)\n",
      "        a=False\n"
     ],
     "language": "python",
     "metadata": {},
     "outputs": [
      {
       "output_type": "stream",
       "stream": "stdout",
       "text": [
        "Adivina el numero entero que pienso!\n"
       ]
      },
      {
       "name": "stdout",
       "output_type": "stream",
       "stream": "stdout",
       "text": [
        "Intento 1:5\n"
       ]
      },
      {
       "output_type": "stream",
       "stream": "stdout",
       "text": [
        "Te falta!\n"
       ]
      },
      {
       "name": "stdout",
       "output_type": "stream",
       "stream": "stdout",
       "text": [
        "Intento 2:6\n"
       ]
      },
      {
       "output_type": "stream",
       "stream": "stdout",
       "text": [
        "Te falta!\n"
       ]
      },
      {
       "name": "stdout",
       "output_type": "stream",
       "stream": "stdout",
       "text": [
        "Intento 3:4\n"
       ]
      },
      {
       "output_type": "stream",
       "stream": "stdout",
       "text": [
        "Te falta!\n"
       ]
      },
      {
       "name": "stdout",
       "output_type": "stream",
       "stream": "stdout",
       "text": [
        "Intento 4:11\n"
       ]
      },
      {
       "output_type": "stream",
       "stream": "stdout",
       "text": [
        "Se pasaste!\n"
       ]
      },
      {
       "name": "stdout",
       "output_type": "stream",
       "stream": "stdout",
       "text": [
        "Intento 5:10\n"
       ]
      },
      {
       "output_type": "stream",
       "stream": "stdout",
       "text": [
        "Correcto! lo lograste en 5 intentos\n"
       ]
      }
     ],
     "prompt_number": 5
    },
    {
     "cell_type": "heading",
     "level": 2,
     "metadata": {},
     "source": [
      "Funciones"
     ]
    },
    {
     "cell_type": "markdown",
     "metadata": {},
     "source": [
      "Finalmente tenemos a las funciones que se definiran tambien dentro de bloques de codigo. Las funciones dentro de Python se puden definir de dos maneras. Las funciones pueden o no retornar un valor, todas la variables definidas dentro de la funci\u00f3n solo existen dentro de la funcion, para que modifique valores globales (externos) es necesario hacer la variables globales dentro de la funci\u00f3n. El numero de argumentos de la funcion puede ser variable y los argumentos pueden ser por defecto."
     ]
    },
    {
     "cell_type": "code",
     "collapsed": false,
     "input": [
      "def x(r):\n",
      "    return r**2"
     ],
     "language": "python",
     "metadata": {},
     "outputs": [],
     "prompt_number": 7
    },
    {
     "cell_type": "code",
     "collapsed": false,
     "input": [
      "type(x)"
     ],
     "language": "python",
     "metadata": {},
     "outputs": [
      {
       "metadata": {},
       "output_type": "pyout",
       "prompt_number": 9,
       "text": [
        "function"
       ]
      }
     ],
     "prompt_number": 9
    },
    {
     "cell_type": "code",
     "collapsed": false,
     "input": [
      "x(5)"
     ],
     "language": "python",
     "metadata": {},
     "outputs": [
      {
       "metadata": {},
       "output_type": "pyout",
       "prompt_number": 10,
       "text": [
        "25"
       ]
      }
     ],
     "prompt_number": 10
    },
    {
     "cell_type": "code",
     "collapsed": false,
     "input": [
      "def pstr(algo):\n",
      "    print str(algo)"
     ],
     "language": "python",
     "metadata": {},
     "outputs": [],
     "prompt_number": 49
    },
    {
     "cell_type": "code",
     "collapsed": false,
     "input": [
      "pstr(152698), pstr(1e180),pstr(1+1j)"
     ],
     "language": "python",
     "metadata": {},
     "outputs": [
      {
       "output_type": "stream",
       "stream": "stdout",
       "text": [
        "152698\n",
        "1e+180\n",
        "(1+1j)\n"
       ]
      },
      {
       "metadata": {},
       "output_type": "pyout",
       "prompt_number": 59,
       "text": [
        "(None, None, None)"
       ]
      }
     ],
     "prompt_number": 59
    },
    {
     "cell_type": "markdown",
     "metadata": {},
     "source": [
      "La segunda forma de definir funciones es mediante:"
     ]
    },
    {
     "cell_type": "code",
     "collapsed": false,
     "input": [
      "r2 = lambda x: x**2"
     ],
     "language": "python",
     "metadata": {},
     "outputs": [],
     "prompt_number": 61
    },
    {
     "cell_type": "code",
     "collapsed": false,
     "input": [
      "r2(2.1547856)"
     ],
     "language": "python",
     "metadata": {},
     "outputs": [
      {
       "metadata": {},
       "output_type": "pyout",
       "prompt_number": 63,
       "text": [
        "4.643100981967359"
       ]
      }
     ],
     "prompt_number": 63
    },
    {
     "cell_type": "markdown",
     "metadata": {},
     "source": [
      "Tambien podemos tener argumentos por defecto, estos siempre deben de ir despues de los argumento sin valor por defecto."
     ]
    },
    {
     "cell_type": "code",
     "collapsed": false,
     "input": [
      "def sayHello(idl ,string = 'Roberto'):\n",
      "    if idl == 'ES':\n",
      "        print 'Hola '+string+'!'\n",
      "    elif idl == 'FR':\n",
      "        print 'Salut '+string+'!'\n",
      "    else:\n",
      "         print 'Hello '+string+'!'\n",
      "    "
     ],
     "language": "python",
     "metadata": {},
     "outputs": [],
     "prompt_number": 64
    },
    {
     "cell_type": "code",
     "collapsed": false,
     "input": [
      "sayHello('ES')\n",
      "sayHello('FR')"
     ],
     "language": "python",
     "metadata": {},
     "outputs": [
      {
       "output_type": "stream",
       "stream": "stdout",
       "text": [
        "Hola Roberto!\n",
        "Salut Roberto!\n"
       ]
      }
     ],
     "prompt_number": 67
    },
    {
     "cell_type": "code",
     "collapsed": false,
     "input": [
      "sayHello('ES',string='TU')"
     ],
     "language": "python",
     "metadata": {},
     "outputs": [
      {
       "output_type": "stream",
       "stream": "stdout",
       "text": [
        "Hola TU!\n"
       ]
      }
     ],
     "prompt_number": 68
    },
    {
     "cell_type": "heading",
     "level": 2,
     "metadata": {},
     "source": [
      "Modulos o librerias: Al $\\infty$ y mas all\u00e1!"
     ]
    },
    {
     "cell_type": "markdown",
     "metadata": {},
     "source": [
      "Como podran haber notado Python esta muy bien! pero no se ve tan poderoso para nuestros intereses. La realidad es que el poder de Python radica en los usuarios y desarrolladores, queines comparten sus colecciones de funciones y estructuras de datos (condensados generalmente en clases). En lo que llevo usando este lenguaje he visto desarrollos en todas las direcciones! tales como: Algebra Lineal (Numpy), Manipulacion matematica simbolica (Sympy), Metodos Numericos (Scipy), Programacion en paralelo (PyCuda, PyOpenCL, mpi4py), Realizacion de visualizaciones graficas (Matplotlib, Mayavi, pyOpenGL), Frameworks de paginas web, librerias para hacer Apps de celular, Redes neuronales, MAching Lerning, Analisis estadistico, Paquete de calculos de mecanica cuantica, entre muchisimos mas!!!"
     ]
    },
    {
     "cell_type": "markdown",
     "metadata": {},
     "source": [
      "Para importar una funcion de libreria una vez que se tenga instalada, debemos importarla al entorno como alguna de las siguiente formas:"
     ]
    },
    {
     "cell_type": "code",
     "collapsed": false,
     "input": [
      "from numpy import sqrt"
     ],
     "language": "python",
     "metadata": {},
     "outputs": [],
     "prompt_number": 76
    },
    {
     "cell_type": "code",
     "collapsed": false,
     "input": [
      "sqrt(52)"
     ],
     "language": "python",
     "metadata": {},
     "outputs": [
      {
       "metadata": {},
       "output_type": "pyout",
       "prompt_number": 77,
       "text": [
        "7.2111025509279782"
       ]
      }
     ],
     "prompt_number": 77
    },
    {
     "cell_type": "markdown",
     "metadata": {},
     "source": [
      "Tambien podemos cambiar el nombre de la funcion importada"
     ]
    },
    {
     "cell_type": "code",
     "collapsed": false,
     "input": [
      "from numpy import cos as ncos"
     ],
     "language": "python",
     "metadata": {},
     "outputs": [],
     "prompt_number": 78
    },
    {
     "cell_type": "code",
     "collapsed": false,
     "input": [
      "ncos(3.14156)"
     ],
     "language": "python",
     "metadata": {},
     "outputs": [
      {
       "metadata": {},
       "output_type": "pyout",
       "prompt_number": 79,
       "text": [
        "-0.99999999946687157"
       ]
      }
     ],
     "prompt_number": 79
    },
    {
     "cell_type": "markdown",
     "metadata": {},
     "source": [
      "Podemos ver las funciones actuales definidas en el codigo o entorno con la funcion ```whos``` y ```who```"
     ]
    },
    {
     "cell_type": "code",
     "collapsed": false,
     "input": [
      "whos"
     ],
     "language": "python",
     "metadata": {},
     "outputs": [
      {
       "output_type": "stream",
       "stream": "stdout",
       "text": [
        "Variable   Type        Data/Info\n",
        "--------------------------------\n",
        "a          str         63415\n",
        "aux        int         10\n",
        "count      int         5\n",
        "guess      int         10\n",
        "i          int         9999\n",
        "l1         list        n=9\n",
        "ncos       ufunc       <ufunc 'cos'>\n",
        "pstr       function    <function pstr at 0x18b57d0>\n",
        "r2         function    <function <lambda> at 0x18b55f0>\n",
        "sayHello   function    <function sayHello at 0x18b5d70>\n",
        "sqrt       ufunc       <ufunc 'sqrt'>\n",
        "x          function    <function x at 0x18b5b18>\n"
       ]
      }
     ],
     "prompt_number": 83
    },
    {
     "cell_type": "code",
     "collapsed": false,
     "input": [
      "who"
     ],
     "language": "python",
     "metadata": {},
     "outputs": [
      {
       "output_type": "stream",
       "stream": "stdout",
       "text": [
        "a\t aux\t count\t guess\t i\t l1\t ncos\t pstr\t r2\t \n",
        "sayHello\t sqrt\t x\t \n"
       ]
      }
     ],
     "prompt_number": 84
    },
    {
     "cell_type": "markdown",
     "metadata": {},
     "source": [
      "Podemos importar una libreria entera y ver las entra\u00f1as con la funcion ```dir```"
     ]
    },
    {
     "cell_type": "code",
     "collapsed": false,
     "input": [
      "import numpy as np"
     ],
     "language": "python",
     "metadata": {},
     "outputs": [],
     "prompt_number": 85
    },
    {
     "cell_type": "code",
     "collapsed": false,
     "input": [
      "dir(np)"
     ],
     "language": "python",
     "metadata": {},
     "outputs": [
      {
       "metadata": {},
       "output_type": "pyout",
       "prompt_number": 86,
       "text": [
        "['ALLOW_THREADS',\n",
        " 'BUFSIZE',\n",
        " 'CLIP',\n",
        " 'ComplexWarning',\n",
        " 'DataSource',\n",
        " 'ERR_CALL',\n",
        " 'ERR_DEFAULT',\n",
        " 'ERR_DEFAULT2',\n",
        " 'ERR_IGNORE',\n",
        " 'ERR_LOG',\n",
        " 'ERR_PRINT',\n",
        " 'ERR_RAISE',\n",
        " 'ERR_WARN',\n",
        " 'FLOATING_POINT_SUPPORT',\n",
        " 'FPE_DIVIDEBYZERO',\n",
        " 'FPE_INVALID',\n",
        " 'FPE_OVERFLOW',\n",
        " 'FPE_UNDERFLOW',\n",
        " 'False_',\n",
        " 'Inf',\n",
        " 'Infinity',\n",
        " 'MAXDIMS',\n",
        " 'MachAr',\n",
        " 'NAN',\n",
        " 'NINF',\n",
        " 'NZERO',\n",
        " 'NaN',\n",
        " 'PINF',\n",
        " 'PZERO',\n",
        " 'PackageLoader',\n",
        " 'RAISE',\n",
        " 'RankWarning',\n",
        " 'SHIFT_DIVIDEBYZERO',\n",
        " 'SHIFT_INVALID',\n",
        " 'SHIFT_OVERFLOW',\n",
        " 'SHIFT_UNDERFLOW',\n",
        " 'ScalarType',\n",
        " 'Tester',\n",
        " 'True_',\n",
        " 'UFUNC_BUFSIZE_DEFAULT',\n",
        " 'UFUNC_PYVALS_NAME',\n",
        " 'WRAP',\n",
        " '__NUMPY_SETUP__',\n",
        " '__all__',\n",
        " '__builtins__',\n",
        " '__config__',\n",
        " '__doc__',\n",
        " '__file__',\n",
        " '__git_revision__',\n",
        " '__name__',\n",
        " '__package__',\n",
        " '__path__',\n",
        " '__version__',\n",
        " '_import_tools',\n",
        " '_mat',\n",
        " 'abs',\n",
        " 'absolute',\n",
        " 'add',\n",
        " 'add_docstring',\n",
        " 'add_newdoc',\n",
        " 'add_newdocs',\n",
        " 'alen',\n",
        " 'all',\n",
        " 'allclose',\n",
        " 'alltrue',\n",
        " 'alterdot',\n",
        " 'amax',\n",
        " 'amin',\n",
        " 'angle',\n",
        " 'any',\n",
        " 'append',\n",
        " 'apply_along_axis',\n",
        " 'apply_over_axes',\n",
        " 'arange',\n",
        " 'arccos',\n",
        " 'arccosh',\n",
        " 'arcsin',\n",
        " 'arcsinh',\n",
        " 'arctan',\n",
        " 'arctan2',\n",
        " 'arctanh',\n",
        " 'argmax',\n",
        " 'argmin',\n",
        " 'argsort',\n",
        " 'argwhere',\n",
        " 'around',\n",
        " 'array',\n",
        " 'array2string',\n",
        " 'array_equal',\n",
        " 'array_equiv',\n",
        " 'array_repr',\n",
        " 'array_split',\n",
        " 'array_str',\n",
        " 'asanyarray',\n",
        " 'asarray',\n",
        " 'asarray_chkfinite',\n",
        " 'ascontiguousarray',\n",
        " 'asfarray',\n",
        " 'asfortranarray',\n",
        " 'asmatrix',\n",
        " 'asscalar',\n",
        " 'atleast_1d',\n",
        " 'atleast_2d',\n",
        " 'atleast_3d',\n",
        " 'average',\n",
        " 'bartlett',\n",
        " 'base_repr',\n",
        " 'bench',\n",
        " 'binary_repr',\n",
        " 'bincount',\n",
        " 'bitwise_and',\n",
        " 'bitwise_not',\n",
        " 'bitwise_or',\n",
        " 'bitwise_xor',\n",
        " 'blackman',\n",
        " 'bmat',\n",
        " 'bool',\n",
        " 'bool8',\n",
        " 'bool_',\n",
        " 'broadcast',\n",
        " 'broadcast_arrays',\n",
        " 'byte',\n",
        " 'byte_bounds',\n",
        " 'bytes_',\n",
        " 'c_',\n",
        " 'can_cast',\n",
        " 'cast',\n",
        " 'cdouble',\n",
        " 'ceil',\n",
        " 'cfloat',\n",
        " 'char',\n",
        " 'character',\n",
        " 'chararray',\n",
        " 'choose',\n",
        " 'clip',\n",
        " 'clongdouble',\n",
        " 'clongfloat',\n",
        " 'column_stack',\n",
        " 'common_type',\n",
        " 'compare_chararrays',\n",
        " 'compat',\n",
        " 'complex',\n",
        " 'complex128',\n",
        " 'complex256',\n",
        " 'complex64',\n",
        " 'complex_',\n",
        " 'complexfloating',\n",
        " 'compress',\n",
        " 'concatenate',\n",
        " 'conj',\n",
        " 'conjugate',\n",
        " 'convolve',\n",
        " 'copy',\n",
        " 'copysign',\n",
        " 'core',\n",
        " 'corrcoef',\n",
        " 'correlate',\n",
        " 'cos',\n",
        " 'cosh',\n",
        " 'count_nonzero',\n",
        " 'cov',\n",
        " 'cross',\n",
        " 'csingle',\n",
        " 'ctypeslib',\n",
        " 'cumprod',\n",
        " 'cumproduct',\n",
        " 'cumsum',\n",
        " 'datetime64',\n",
        " 'datetime_',\n",
        " 'datetime_data',\n",
        " 'deg2rad',\n",
        " 'degrees',\n",
        " 'delete',\n",
        " 'deprecate',\n",
        " 'deprecate_with_doc',\n",
        " 'diag',\n",
        " 'diag_indices',\n",
        " 'diag_indices_from',\n",
        " 'diagflat',\n",
        " 'diagonal',\n",
        " 'diff',\n",
        " 'digitize',\n",
        " 'disp',\n",
        " 'divide',\n",
        " 'dot',\n",
        " 'double',\n",
        " 'dsplit',\n",
        " 'dstack',\n",
        " 'dtype',\n",
        " 'e',\n",
        " 'ediff1d',\n",
        " 'einsum',\n",
        " 'emath',\n",
        " 'empty',\n",
        " 'empty_like',\n",
        " 'equal',\n",
        " 'errstate',\n",
        " 'exp',\n",
        " 'exp2',\n",
        " 'expand_dims',\n",
        " 'expm1',\n",
        " 'extract',\n",
        " 'eye',\n",
        " 'fabs',\n",
        " 'fastCopyAndTranspose',\n",
        " 'fft',\n",
        " 'fill_diagonal',\n",
        " 'find_common_type',\n",
        " 'finfo',\n",
        " 'fix',\n",
        " 'flatiter',\n",
        " 'flatnonzero',\n",
        " 'flexible',\n",
        " 'fliplr',\n",
        " 'flipud',\n",
        " 'float',\n",
        " 'float128',\n",
        " 'float16',\n",
        " 'float32',\n",
        " 'float64',\n",
        " 'float_',\n",
        " 'floating',\n",
        " 'floor',\n",
        " 'floor_divide',\n",
        " 'fmax',\n",
        " 'fmin',\n",
        " 'fmod',\n",
        " 'format_parser',\n",
        " 'frexp',\n",
        " 'frombuffer',\n",
        " 'fromfile',\n",
        " 'fromfunction',\n",
        " 'fromiter',\n",
        " 'frompyfunc',\n",
        " 'fromregex',\n",
        " 'fromstring',\n",
        " 'fv',\n",
        " 'generic',\n",
        " 'genfromtxt',\n",
        " 'get_array_wrap',\n",
        " 'get_include',\n",
        " 'get_numarray_include',\n",
        " 'get_printoptions',\n",
        " 'getbuffer',\n",
        " 'getbufsize',\n",
        " 'geterr',\n",
        " 'geterrcall',\n",
        " 'geterrobj',\n",
        " 'gradient',\n",
        " 'greater',\n",
        " 'greater_equal',\n",
        " 'half',\n",
        " 'hamming',\n",
        " 'hanning',\n",
        " 'histogram',\n",
        " 'histogram2d',\n",
        " 'histogramdd',\n",
        " 'hsplit',\n",
        " 'hstack',\n",
        " 'hypot',\n",
        " 'i0',\n",
        " 'identity',\n",
        " 'iinfo',\n",
        " 'imag',\n",
        " 'in1d',\n",
        " 'index_exp',\n",
        " 'indices',\n",
        " 'inexact',\n",
        " 'inf',\n",
        " 'info',\n",
        " 'infty',\n",
        " 'inner',\n",
        " 'insert',\n",
        " 'int',\n",
        " 'int0',\n",
        " 'int16',\n",
        " 'int32',\n",
        " 'int64',\n",
        " 'int8',\n",
        " 'int_',\n",
        " 'int_asbuffer',\n",
        " 'intc',\n",
        " 'integer',\n",
        " 'interp',\n",
        " 'intersect1d',\n",
        " 'intp',\n",
        " 'invert',\n",
        " 'ipmt',\n",
        " 'irr',\n",
        " 'iscomplex',\n",
        " 'iscomplexobj',\n",
        " 'isfinite',\n",
        " 'isfortran',\n",
        " 'isinf',\n",
        " 'isnan',\n",
        " 'isneginf',\n",
        " 'isposinf',\n",
        " 'isreal',\n",
        " 'isrealobj',\n",
        " 'isscalar',\n",
        " 'issctype',\n",
        " 'issubclass_',\n",
        " 'issubdtype',\n",
        " 'issubsctype',\n",
        " 'iterable',\n",
        " 'ix_',\n",
        " 'kaiser',\n",
        " 'kron',\n",
        " 'ldexp',\n",
        " 'left_shift',\n",
        " 'less',\n",
        " 'less_equal',\n",
        " 'lexsort',\n",
        " 'lib',\n",
        " 'linalg',\n",
        " 'linspace',\n",
        " 'little_endian',\n",
        " 'load',\n",
        " 'loads',\n",
        " 'loadtxt',\n",
        " 'log',\n",
        " 'log10',\n",
        " 'log1p',\n",
        " 'log2',\n",
        " 'logaddexp',\n",
        " 'logaddexp2',\n",
        " 'logical_and',\n",
        " 'logical_not',\n",
        " 'logical_or',\n",
        " 'logical_xor',\n",
        " 'logspace',\n",
        " 'long',\n",
        " 'longcomplex',\n",
        " 'longdouble',\n",
        " 'longfloat',\n",
        " 'longlong',\n",
        " 'lookfor',\n",
        " 'ma',\n",
        " 'mafromtxt',\n",
        " 'mask_indices',\n",
        " 'mat',\n",
        " 'math',\n",
        " 'matrix',\n",
        " 'matrixlib',\n",
        " 'max',\n",
        " 'maximum',\n",
        " 'maximum_sctype',\n",
        " 'may_share_memory',\n",
        " 'mean',\n",
        " 'median',\n",
        " 'memmap',\n",
        " 'meshgrid',\n",
        " 'mgrid',\n",
        " 'min',\n",
        " 'min_scalar_type',\n",
        " 'minimum',\n",
        " 'mintypecode',\n",
        " 'mirr',\n",
        " 'mod',\n",
        " 'modf',\n",
        " 'msort',\n",
        " 'multiply',\n",
        " 'nan',\n",
        " 'nan_to_num',\n",
        " 'nanargmax',\n",
        " 'nanargmin',\n",
        " 'nanmax',\n",
        " 'nanmin',\n",
        " 'nansum',\n",
        " 'nbytes',\n",
        " 'ndarray',\n",
        " 'ndenumerate',\n",
        " 'ndfromtxt',\n",
        " 'ndim',\n",
        " 'ndindex',\n",
        " 'nditer',\n",
        " 'negative',\n",
        " 'nested_iters',\n",
        " 'newaxis',\n",
        " 'newbuffer',\n",
        " 'nextafter',\n",
        " 'nonzero',\n",
        " 'not_equal',\n",
        " 'nper',\n",
        " 'npv',\n",
        " 'number',\n",
        " 'obj2sctype',\n",
        " 'object',\n",
        " 'object0',\n",
        " 'object_',\n",
        " 'ogrid',\n",
        " 'ones',\n",
        " 'ones_like',\n",
        " 'outer',\n",
        " 'packbits',\n",
        " 'percentile',\n",
        " 'pi',\n",
        " 'piecewise',\n",
        " 'pkgload',\n",
        " 'place',\n",
        " 'pmt',\n",
        " 'poly',\n",
        " 'poly1d',\n",
        " 'polyadd',\n",
        " 'polyder',\n",
        " 'polydiv',\n",
        " 'polyfit',\n",
        " 'polyint',\n",
        " 'polymul',\n",
        " 'polynomial',\n",
        " 'polysub',\n",
        " 'polyval',\n",
        " 'power',\n",
        " 'ppmt',\n",
        " 'prod',\n",
        " 'product',\n",
        " 'promote_types',\n",
        " 'ptp',\n",
        " 'put',\n",
        " 'putmask',\n",
        " 'pv',\n",
        " 'r_',\n",
        " 'rad2deg',\n",
        " 'radians',\n",
        " 'random',\n",
        " 'rank',\n",
        " 'rate',\n",
        " 'ravel',\n",
        " 'ravel_multi_index',\n",
        " 'real',\n",
        " 'real_if_close',\n",
        " 'rec',\n",
        " 'recarray',\n",
        " 'recfromcsv',\n",
        " 'recfromtxt',\n",
        " 'reciprocal',\n",
        " 'record',\n",
        " 'remainder',\n",
        " 'repeat',\n",
        " 'require',\n",
        " 'reshape',\n",
        " 'resize',\n",
        " 'restoredot',\n",
        " 'result_type',\n",
        " 'right_shift',\n",
        " 'rint',\n",
        " 'roll',\n",
        " 'rollaxis',\n",
        " 'roots',\n",
        " 'rot90',\n",
        " 'round',\n",
        " 'round_',\n",
        " 'row_stack',\n",
        " 's_',\n",
        " 'safe_eval',\n",
        " 'save',\n",
        " 'savetxt',\n",
        " 'savez',\n",
        " 'savez_compressed',\n",
        " 'sctype2char',\n",
        " 'sctypeDict',\n",
        " 'sctypeNA',\n",
        " 'sctypes',\n",
        " 'searchsorted',\n",
        " 'select',\n",
        " 'set_numeric_ops',\n",
        " 'set_printoptions',\n",
        " 'set_string_function',\n",
        " 'setbufsize',\n",
        " 'setdiff1d',\n",
        " 'seterr',\n",
        " 'seterrcall',\n",
        " 'seterrobj',\n",
        " 'setxor1d',\n",
        " 'shape',\n",
        " 'short',\n",
        " 'show_config',\n",
        " 'sign',\n",
        " 'signbit',\n",
        " 'signedinteger',\n",
        " 'sin',\n",
        " 'sinc',\n",
        " 'single',\n",
        " 'singlecomplex',\n",
        " 'sinh',\n",
        " 'size',\n",
        " 'sometrue',\n",
        " 'sort',\n",
        " 'sort_complex',\n",
        " 'source',\n",
        " 'spacing',\n",
        " 'split',\n",
        " 'sqrt',\n",
        " 'square',\n",
        " 'squeeze',\n",
        " 'std',\n",
        " 'str',\n",
        " 'str_',\n",
        " 'string0',\n",
        " 'string_',\n",
        " 'subtract',\n",
        " 'sum',\n",
        " 'swapaxes',\n",
        " 'take',\n",
        " 'tan',\n",
        " 'tanh',\n",
        " 'tensordot',\n",
        " 'test',\n",
        " 'testing',\n",
        " 'tile',\n",
        " 'timedelta64',\n",
        " 'timedelta_',\n",
        " 'timeinteger',\n",
        " 'trace',\n",
        " 'transpose',\n",
        " 'trapz',\n",
        " 'tri',\n",
        " 'tril',\n",
        " 'tril_indices',\n",
        " 'tril_indices_from',\n",
        " 'trim_zeros',\n",
        " 'triu',\n",
        " 'triu_indices',\n",
        " 'triu_indices_from',\n",
        " 'true_divide',\n",
        " 'trunc',\n",
        " 'typeDict',\n",
        " 'typeNA',\n",
        " 'typecodes',\n",
        " 'typename',\n",
        " 'ubyte',\n",
        " 'ufunc',\n",
        " 'uint',\n",
        " 'uint0',\n",
        " 'uint16',\n",
        " 'uint32',\n",
        " 'uint64',\n",
        " 'uint8',\n",
        " 'uintc',\n",
        " 'uintp',\n",
        " 'ulonglong',\n",
        " 'unicode',\n",
        " 'unicode0',\n",
        " 'unicode_',\n",
        " 'union1d',\n",
        " 'unique',\n",
        " 'unpackbits',\n",
        " 'unravel_index',\n",
        " 'unsignedinteger',\n",
        " 'unwrap',\n",
        " 'ushort',\n",
        " 'vander',\n",
        " 'var',\n",
        " 'vdot',\n",
        " 'vectorize',\n",
        " 'version',\n",
        " 'void',\n",
        " 'void0',\n",
        " 'vsplit',\n",
        " 'vstack',\n",
        " 'where',\n",
        " 'who',\n",
        " 'zeros',\n",
        " 'zeros_like']"
       ]
      }
     ],
     "prompt_number": 86
    },
    {
     "cell_type": "markdown",
     "metadata": {},
     "source": [
      "Cuando veamos clases veremos como estan organizadas bibliotecas como Numpy, de momento vean lo que pasa con dir([1,2,5,8])"
     ]
    },
    {
     "cell_type": "code",
     "collapsed": false,
     "input": [
      "dir([1,2,5,8]) # Aparecen todos los atributos y funciones definidas para operar una lista"
     ],
     "language": "python",
     "metadata": {},
     "outputs": [
      {
       "metadata": {},
       "output_type": "pyout",
       "prompt_number": 87,
       "text": [
        "['__add__',\n",
        " '__class__',\n",
        " '__contains__',\n",
        " '__delattr__',\n",
        " '__delitem__',\n",
        " '__delslice__',\n",
        " '__doc__',\n",
        " '__eq__',\n",
        " '__format__',\n",
        " '__ge__',\n",
        " '__getattribute__',\n",
        " '__getitem__',\n",
        " '__getslice__',\n",
        " '__gt__',\n",
        " '__hash__',\n",
        " '__iadd__',\n",
        " '__imul__',\n",
        " '__init__',\n",
        " '__iter__',\n",
        " '__le__',\n",
        " '__len__',\n",
        " '__lt__',\n",
        " '__mul__',\n",
        " '__ne__',\n",
        " '__new__',\n",
        " '__reduce__',\n",
        " '__reduce_ex__',\n",
        " '__repr__',\n",
        " '__reversed__',\n",
        " '__rmul__',\n",
        " '__setattr__',\n",
        " '__setitem__',\n",
        " '__setslice__',\n",
        " '__sizeof__',\n",
        " '__str__',\n",
        " '__subclasshook__',\n",
        " 'append',\n",
        " 'count',\n",
        " 'extend',\n",
        " 'index',\n",
        " 'insert',\n",
        " 'pop',\n",
        " 'remove',\n",
        " 'reverse',\n",
        " 'sort']"
       ]
      }
     ],
     "prompt_number": 87
    },
    {
     "cell_type": "markdown",
     "metadata": {},
     "source": [
      "En la siguiente liga esta la informaci\u00f3n de todos los desarrollos registrados para python. Usen el buscador de PyPl y vean lo que hay."
     ]
    },
    {
     "cell_type": "markdown",
     "metadata": {},
     "source": [
      "#M\u00e1s librerias en: <a href=\"https://pypi.python.org/pypi\">PyPI (Python Package Index)</a>"
     ]
    },
    {
     "cell_type": "markdown",
     "metadata": {},
     "source": [
      "<div class=\"alert alert-info\" style=\"margin: 10px\">\n",
      "Por mencionar algunas:\n",
      "    <ul>\n",
      "    <li>**scipy**</li>\n",
      "    <li>**h5py**</li>\n",
      "    <li>**numpy**</li>\n",
      "    <li>**pyCUDA**</li>\n",
      "    <li>**pyOpenCL**</li>\n",
      "    <li>**pyOpenGL**</li>\n",
      "    <li>**sys**</li>\n",
      "    <li>**time**</li>\n",
      "    <li>**etc.............**</li>\n",
      "    </ul>\n",
      "</div>"
     ]
    },
    {
     "cell_type": "heading",
     "level": 2,
     "metadata": {},
     "source": [
      "Estructura de datos (Clases) PENDIENTE!"
     ]
    },
    {
     "cell_type": "code",
     "collapsed": false,
     "input": [],
     "language": "python",
     "metadata": {},
     "outputs": []
    },
    {
     "cell_type": "heading",
     "level": 2,
     "metadata": {},
     "source": [
      "Ipython Notebook"
     ]
    },
    {
     "cell_type": "markdown",
     "metadata": {},
     "source": [
      "Veamos ahora que otras funciones tiene el notebook"
     ]
    },
    {
     "cell_type": "markdown",
     "metadata": {},
     "source": [
      "El uso mas sencillo es reportear y combinar con codigo. YA que tenemos accesso directo a codificar $LATEX$"
     ]
    },
    {
     "cell_type": "heading",
     "level": 3,
     "metadata": {},
     "source": [
      "Resolvamos la ecuacion no lineal de Shcrodinger estacionaria, para el caso de un vortice:\n",
      "$$\\\\$$\n",
      "\n",
      "$$ \\mu\\Psi(\\vec{r}) = \\left(-\\frac{\\hbar^2}{2m}\\nabla^2+|\\Psi(\\vec{r})|^2\\right)\\Psi(\\vec{r})$$\n",
      "\n",
      "Utilizando la separaci\u00f3n: $\\Psi(\\vec{r}) = \\sqrt{\\rho} e^{-i\\phi}f(r/r_0)$\n",
      "\n",
      "Obtenemos una ecuacion para $\\xi = r/r_0$ y $r_0 = \\frac{\\hbar}{2mU_0\\rho}$\n",
      "$$\\\\$$\n",
      "$$ \\frac{1}{\\xi} \\frac{d}{d\\xi}\\left(\\xi \\frac{d f(\\xi)}{d\\xi}\\right) -\\frac{f}{\\xi^2} + f -f ^3 = 0$$"
     ]
    },
    {
     "cell_type": "heading",
     "level": 3,
     "metadata": {},
     "source": [
      "Cell and Line Magics"
     ]
    },
    {
     "cell_type": "markdown",
     "metadata": {},
     "source": [
      "Existen tambien las llamadas lineas y celdas magicas que nos permiten realizar funciones extra dentro de las celdas, existen todas las siguientes. Y aun podemos instalar mas."
     ]
    },
    {
     "cell_type": "code",
     "collapsed": false,
     "input": [
      "%lsmagic"
     ],
     "language": "python",
     "metadata": {},
     "outputs": [
      {
       "json": [
        "{\"cell\": {\"prun\": \"ExecutionMagics\", \"file\": \"Other\", \"!\": \"OSMagics\", \"capture\": \"ExecutionMagics\", \"timeit\": \"ExecutionMagics\", \"script\": \"ScriptMagics\", \"pypy\": \"Other\", \"system\": \"OSMagics\", \"perl\": \"Other\", \"HTML\": \"Other\", \"bash\": \"Other\", \"python\": \"Other\", \"SVG\": \"Other\", \"javascript\": \"DisplayMagics\", \"writefile\": \"OSMagics\", \"ruby\": \"Other\", \"python3\": \"Other\", \"python2\": \"Other\", \"latex\": \"DisplayMagics\", \"sx\": \"OSMagics\", \"svg\": \"DisplayMagics\", \"html\": \"DisplayMagics\", \"sh\": \"Other\", \"time\": \"ExecutionMagics\", \"debug\": \"ExecutionMagics\"}, \"line\": {\"psource\": \"NamespaceMagics\", \"logstart\": \"LoggingMagics\", \"popd\": \"OSMagics\", \"loadpy\": \"CodeMagics\", \"install_ext\": \"ExtensionMagics\", \"colors\": \"BasicMagics\", \"who_ls\": \"NamespaceMagics\", \"lf\": \"Other\", \"install_profiles\": \"DeprecatedMagics\", \"ll\": \"Other\", \"pprint\": \"BasicMagics\", \"lk\": \"Other\", \"ls\": \"Other\", \"save\": \"CodeMagics\", \"tb\": \"ExecutionMagics\", \"lx\": \"Other\", \"pylab\": \"PylabMagics\", \"killbgscripts\": \"ScriptMagics\", \"quickref\": \"BasicMagics\", \"magic\": \"BasicMagics\", \"dhist\": \"OSMagics\", \"edit\": \"KernelMagics\", \"logstop\": \"LoggingMagics\", \"gui\": \"BasicMagics\", \"alias_magic\": \"BasicMagics\", \"debug\": \"ExecutionMagics\", \"page\": \"BasicMagics\", \"logstate\": \"LoggingMagics\", \"ed\": \"Other\", \"pushd\": \"OSMagics\", \"timeit\": \"ExecutionMagics\", \"rehashx\": \"OSMagics\", \"hist\": \"Other\", \"qtconsole\": \"KernelMagics\", \"rm\": \"Other\", \"dirs\": \"OSMagics\", \"run\": \"ExecutionMagics\", \"reset_selective\": \"NamespaceMagics\", \"rep\": \"Other\", \"pinfo2\": \"NamespaceMagics\", \"matplotlib\": \"PylabMagics\", \"unload_ext\": \"ExtensionMagics\", \"doctest_mode\": \"KernelMagics\", \"logoff\": \"LoggingMagics\", \"reload_ext\": \"ExtensionMagics\", \"pdb\": \"ExecutionMagics\", \"load\": \"CodeMagics\", \"lsmagic\": \"BasicMagics\", \"autosave\": \"KernelMagics\", \"cd\": \"OSMagics\", \"pastebin\": \"CodeMagics\", \"prun\": \"ExecutionMagics\", \"cp\": \"Other\", \"autocall\": \"AutoMagics\", \"bookmark\": \"OSMagics\", \"connect_info\": \"KernelMagics\", \"mkdir\": \"Other\", \"system\": \"OSMagics\", \"whos\": \"NamespaceMagics\", \"rmdir\": \"Other\", \"automagic\": \"AutoMagics\", \"store\": \"StoreMagics\", \"more\": \"KernelMagics\", \"pdef\": \"NamespaceMagics\", \"precision\": \"BasicMagics\", \"pinfo\": \"NamespaceMagics\", \"pwd\": \"OSMagics\", \"psearch\": \"NamespaceMagics\", \"reset\": \"NamespaceMagics\", \"recall\": \"HistoryMagics\", \"xdel\": \"NamespaceMagics\", \"xmode\": \"BasicMagics\", \"cat\": \"Other\", \"mv\": \"Other\", \"rerun\": \"HistoryMagics\", \"logon\": \"LoggingMagics\", \"history\": \"HistoryMagics\", \"pycat\": \"OSMagics\", \"unalias\": \"OSMagics\", \"install_default_config\": \"DeprecatedMagics\", \"env\": \"OSMagics\", \"load_ext\": \"ExtensionMagics\", \"config\": \"ConfigMagics\", \"profile\": \"BasicMagics\", \"pfile\": \"NamespaceMagics\", \"less\": \"KernelMagics\", \"who\": \"NamespaceMagics\", \"notebook\": \"BasicMagics\", \"man\": \"KernelMagics\", \"sx\": \"OSMagics\", \"macro\": \"ExecutionMagics\", \"clear\": \"KernelMagics\", \"alias\": \"OSMagics\", \"time\": \"ExecutionMagics\", \"sc\": \"OSMagics\", \"ldir\": \"Other\", \"pdoc\": \"NamespaceMagics\"}}"
       ],
       "metadata": {},
       "output_type": "pyout",
       "prompt_number": 69,
       "text": [
        "Available line magics:\n",
        "%alias  %alias_magic  %autocall  %automagic  %autosave  %bookmark  %cat  %cd  %clear  %colors  %config  %connect_info  %cp  %debug  %dhist  %dirs  %doctest_mode  %ed  %edit  %env  %gui  %hist  %history  %install_default_config  %install_ext  %install_profiles  %killbgscripts  %ldir  %less  %lf  %lk  %ll  %load  %load_ext  %loadpy  %logoff  %logon  %logstart  %logstate  %logstop  %ls  %lsmagic  %lx  %macro  %magic  %man  %matplotlib  %mkdir  %more  %mv  %notebook  %page  %pastebin  %pdb  %pdef  %pdoc  %pfile  %pinfo  %pinfo2  %popd  %pprint  %precision  %profile  %prun  %psearch  %psource  %pushd  %pwd  %pycat  %pylab  %qtconsole  %quickref  %recall  %rehashx  %reload_ext  %rep  %rerun  %reset  %reset_selective  %rm  %rmdir  %run  %save  %sc  %store  %sx  %system  %tb  %time  %timeit  %unalias  %unload_ext  %who  %who_ls  %whos  %xdel  %xmode\n",
        "\n",
        "Available cell magics:\n",
        "%%!  %%HTML  %%SVG  %%bash  %%capture  %%debug  %%file  %%html  %%javascript  %%latex  %%perl  %%prun  %%pypy  %%python  %%python2  %%python3  %%ruby  %%script  %%sh  %%svg  %%sx  %%system  %%time  %%timeit  %%writefile\n",
        "\n",
        "Automagic is ON, % prefix IS NOT needed for line magics."
       ]
      }
     ],
     "prompt_number": 69
    },
    {
     "cell_type": "code",
     "collapsed": false,
     "input": [
      "from math import sqrt"
     ],
     "language": "python",
     "metadata": {},
     "outputs": [],
     "prompt_number": 70
    },
    {
     "cell_type": "code",
     "collapsed": false,
     "input": [
      "%%time # Mide el tiempo de ejecucion del codigo dentro de la celda\n",
      "for i in range(10000):\n",
      "    sqrt(15.)"
     ],
     "language": "python",
     "metadata": {},
     "outputs": [
      {
       "output_type": "stream",
       "stream": "stdout",
       "text": [
        "CPU times: user 4 ms, sys: 0 ns, total: 4 ms\n",
        "Wall time: 2.71 ms\n"
       ]
      }
     ],
     "prompt_number": 73
    },
    {
     "cell_type": "code",
     "collapsed": false,
     "input": [
      "sqrt(15.)"
     ],
     "language": "python",
     "metadata": {},
     "outputs": []
    },
    {
     "cell_type": "code",
     "collapsed": false,
     "input": [
      "%load_ext version_information # Esta es una herramienta util para ver compatibilidad entre sistemas"
     ],
     "language": "python",
     "metadata": {},
     "outputs": [
      {
       "ename": "ImportError",
       "evalue": "No module named version_information # Esta es una herramienta util para ver compatibilidad entre sistemas",
       "output_type": "pyerr",
       "traceback": [
        "\u001b[1;31m---------------------------------------------------------------------------\u001b[0m\n\u001b[1;31mImportError\u001b[0m                               Traceback (most recent call last)",
        "\u001b[1;32m<ipython-input-90-836ed00c30c7>\u001b[0m in \u001b[0;36m<module>\u001b[1;34m()\u001b[0m\n\u001b[1;32m----> 1\u001b[1;33m \u001b[0mget_ipython\u001b[0m\u001b[1;33m(\u001b[0m\u001b[1;33m)\u001b[0m\u001b[1;33m.\u001b[0m\u001b[0mmagic\u001b[0m\u001b[1;33m(\u001b[0m\u001b[1;34mu'load_ext version_information # Esta es una herramienta util para ver compatibilidad entre sistemas'\u001b[0m\u001b[1;33m)\u001b[0m\u001b[1;33m\u001b[0m\u001b[0m\n\u001b[0m",
        "\u001b[1;32m/home/roberto/pyGPU/ipython/IPython/core/interactiveshell.pyc\u001b[0m in \u001b[0;36mmagic\u001b[1;34m(self, arg_s)\u001b[0m\n\u001b[0;32m   2238\u001b[0m         \u001b[0mmagic_name\u001b[0m\u001b[1;33m,\u001b[0m \u001b[0m_\u001b[0m\u001b[1;33m,\u001b[0m \u001b[0mmagic_arg_s\u001b[0m \u001b[1;33m=\u001b[0m \u001b[0marg_s\u001b[0m\u001b[1;33m.\u001b[0m\u001b[0mpartition\u001b[0m\u001b[1;33m(\u001b[0m\u001b[1;34m' '\u001b[0m\u001b[1;33m)\u001b[0m\u001b[1;33m\u001b[0m\u001b[0m\n\u001b[0;32m   2239\u001b[0m         \u001b[0mmagic_name\u001b[0m \u001b[1;33m=\u001b[0m \u001b[0mmagic_name\u001b[0m\u001b[1;33m.\u001b[0m\u001b[0mlstrip\u001b[0m\u001b[1;33m(\u001b[0m\u001b[0mprefilter\u001b[0m\u001b[1;33m.\u001b[0m\u001b[0mESC_MAGIC\u001b[0m\u001b[1;33m)\u001b[0m\u001b[1;33m\u001b[0m\u001b[0m\n\u001b[1;32m-> 2240\u001b[1;33m         \u001b[1;32mreturn\u001b[0m \u001b[0mself\u001b[0m\u001b[1;33m.\u001b[0m\u001b[0mrun_line_magic\u001b[0m\u001b[1;33m(\u001b[0m\u001b[0mmagic_name\u001b[0m\u001b[1;33m,\u001b[0m \u001b[0mmagic_arg_s\u001b[0m\u001b[1;33m)\u001b[0m\u001b[1;33m\u001b[0m\u001b[0m\n\u001b[0m\u001b[0;32m   2241\u001b[0m \u001b[1;33m\u001b[0m\u001b[0m\n\u001b[0;32m   2242\u001b[0m     \u001b[1;31m#-------------------------------------------------------------------------\u001b[0m\u001b[1;33m\u001b[0m\u001b[1;33m\u001b[0m\u001b[0m\n",
        "\u001b[1;32m/home/roberto/pyGPU/ipython/IPython/core/interactiveshell.pyc\u001b[0m in \u001b[0;36mrun_line_magic\u001b[1;34m(self, magic_name, line)\u001b[0m\n\u001b[0;32m   2159\u001b[0m                 \u001b[0mkwargs\u001b[0m\u001b[1;33m[\u001b[0m\u001b[1;34m'local_ns'\u001b[0m\u001b[1;33m]\u001b[0m \u001b[1;33m=\u001b[0m \u001b[0msys\u001b[0m\u001b[1;33m.\u001b[0m\u001b[0m_getframe\u001b[0m\u001b[1;33m(\u001b[0m\u001b[0mstack_depth\u001b[0m\u001b[1;33m)\u001b[0m\u001b[1;33m.\u001b[0m\u001b[0mf_locals\u001b[0m\u001b[1;33m\u001b[0m\u001b[0m\n\u001b[0;32m   2160\u001b[0m             \u001b[1;32mwith\u001b[0m \u001b[0mself\u001b[0m\u001b[1;33m.\u001b[0m\u001b[0mbuiltin_trap\u001b[0m\u001b[1;33m:\u001b[0m\u001b[1;33m\u001b[0m\u001b[0m\n\u001b[1;32m-> 2161\u001b[1;33m                 \u001b[0mresult\u001b[0m \u001b[1;33m=\u001b[0m \u001b[0mfn\u001b[0m\u001b[1;33m(\u001b[0m\u001b[1;33m*\u001b[0m\u001b[0margs\u001b[0m\u001b[1;33m,\u001b[0m\u001b[1;33m**\u001b[0m\u001b[0mkwargs\u001b[0m\u001b[1;33m)\u001b[0m\u001b[1;33m\u001b[0m\u001b[0m\n\u001b[0m\u001b[0;32m   2162\u001b[0m             \u001b[1;32mreturn\u001b[0m \u001b[0mresult\u001b[0m\u001b[1;33m\u001b[0m\u001b[0m\n\u001b[0;32m   2163\u001b[0m \u001b[1;33m\u001b[0m\u001b[0m\n",
        "\u001b[1;32m/home/roberto/pyGPU/ipython/IPython/core/magics/extension.pyc\u001b[0m in \u001b[0;36mload_ext\u001b[1;34m(self, module_str)\u001b[0m\n",
        "\u001b[1;32m/home/roberto/pyGPU/ipython/IPython/core/magic.pyc\u001b[0m in \u001b[0;36m<lambda>\u001b[1;34m(f, *a, **k)\u001b[0m\n\u001b[0;32m    191\u001b[0m     \u001b[1;31m# but it's overkill for just that one bit of state.\u001b[0m\u001b[1;33m\u001b[0m\u001b[1;33m\u001b[0m\u001b[0m\n\u001b[0;32m    192\u001b[0m     \u001b[1;32mdef\u001b[0m \u001b[0mmagic_deco\u001b[0m\u001b[1;33m(\u001b[0m\u001b[0marg\u001b[0m\u001b[1;33m)\u001b[0m\u001b[1;33m:\u001b[0m\u001b[1;33m\u001b[0m\u001b[0m\n\u001b[1;32m--> 193\u001b[1;33m         \u001b[0mcall\u001b[0m \u001b[1;33m=\u001b[0m \u001b[1;32mlambda\u001b[0m \u001b[0mf\u001b[0m\u001b[1;33m,\u001b[0m \u001b[1;33m*\u001b[0m\u001b[0ma\u001b[0m\u001b[1;33m,\u001b[0m \u001b[1;33m**\u001b[0m\u001b[0mk\u001b[0m\u001b[1;33m:\u001b[0m \u001b[0mf\u001b[0m\u001b[1;33m(\u001b[0m\u001b[1;33m*\u001b[0m\u001b[0ma\u001b[0m\u001b[1;33m,\u001b[0m \u001b[1;33m**\u001b[0m\u001b[0mk\u001b[0m\u001b[1;33m)\u001b[0m\u001b[1;33m\u001b[0m\u001b[0m\n\u001b[0m\u001b[0;32m    194\u001b[0m \u001b[1;33m\u001b[0m\u001b[0m\n\u001b[0;32m    195\u001b[0m         \u001b[1;32mif\u001b[0m \u001b[0mcallable\u001b[0m\u001b[1;33m(\u001b[0m\u001b[0marg\u001b[0m\u001b[1;33m)\u001b[0m\u001b[1;33m:\u001b[0m\u001b[1;33m\u001b[0m\u001b[0m\n",
        "\u001b[1;32m/home/roberto/pyGPU/ipython/IPython/core/magics/extension.pyc\u001b[0m in \u001b[0;36mload_ext\u001b[1;34m(self, module_str)\u001b[0m\n\u001b[0;32m     61\u001b[0m         \u001b[1;32mif\u001b[0m \u001b[1;32mnot\u001b[0m \u001b[0mmodule_str\u001b[0m\u001b[1;33m:\u001b[0m\u001b[1;33m\u001b[0m\u001b[0m\n\u001b[0;32m     62\u001b[0m             \u001b[1;32mraise\u001b[0m \u001b[0mUsageError\u001b[0m\u001b[1;33m(\u001b[0m\u001b[1;34m'Missing module name.'\u001b[0m\u001b[1;33m)\u001b[0m\u001b[1;33m\u001b[0m\u001b[0m\n\u001b[1;32m---> 63\u001b[1;33m         \u001b[0mres\u001b[0m \u001b[1;33m=\u001b[0m \u001b[0mself\u001b[0m\u001b[1;33m.\u001b[0m\u001b[0mshell\u001b[0m\u001b[1;33m.\u001b[0m\u001b[0mextension_manager\u001b[0m\u001b[1;33m.\u001b[0m\u001b[0mload_extension\u001b[0m\u001b[1;33m(\u001b[0m\u001b[0mmodule_str\u001b[0m\u001b[1;33m)\u001b[0m\u001b[1;33m\u001b[0m\u001b[0m\n\u001b[0m\u001b[0;32m     64\u001b[0m \u001b[1;33m\u001b[0m\u001b[0m\n\u001b[0;32m     65\u001b[0m         \u001b[1;32mif\u001b[0m \u001b[0mres\u001b[0m \u001b[1;33m==\u001b[0m \u001b[1;34m'already loaded'\u001b[0m\u001b[1;33m:\u001b[0m\u001b[1;33m\u001b[0m\u001b[0m\n",
        "\u001b[1;32m/home/roberto/pyGPU/ipython/IPython/core/extensions.pyc\u001b[0m in \u001b[0;36mload_extension\u001b[1;34m(self, module_str)\u001b[0m\n\u001b[0;32m     83\u001b[0m             \u001b[1;32mif\u001b[0m \u001b[0mmodule_str\u001b[0m \u001b[1;32mnot\u001b[0m \u001b[1;32min\u001b[0m \u001b[0msys\u001b[0m\u001b[1;33m.\u001b[0m\u001b[0mmodules\u001b[0m\u001b[1;33m:\u001b[0m\u001b[1;33m\u001b[0m\u001b[0m\n\u001b[0;32m     84\u001b[0m                 \u001b[1;32mwith\u001b[0m \u001b[0mprepended_to_syspath\u001b[0m\u001b[1;33m(\u001b[0m\u001b[0mself\u001b[0m\u001b[1;33m.\u001b[0m\u001b[0mipython_extension_dir\u001b[0m\u001b[1;33m)\u001b[0m\u001b[1;33m:\u001b[0m\u001b[1;33m\u001b[0m\u001b[0m\n\u001b[1;32m---> 85\u001b[1;33m                     \u001b[0m__import__\u001b[0m\u001b[1;33m(\u001b[0m\u001b[0mmodule_str\u001b[0m\u001b[1;33m)\u001b[0m\u001b[1;33m\u001b[0m\u001b[0m\n\u001b[0m\u001b[0;32m     86\u001b[0m             \u001b[0mmod\u001b[0m \u001b[1;33m=\u001b[0m \u001b[0msys\u001b[0m\u001b[1;33m.\u001b[0m\u001b[0mmodules\u001b[0m\u001b[1;33m[\u001b[0m\u001b[0mmodule_str\u001b[0m\u001b[1;33m]\u001b[0m\u001b[1;33m\u001b[0m\u001b[0m\n\u001b[0;32m     87\u001b[0m             \u001b[1;32mif\u001b[0m \u001b[0mself\u001b[0m\u001b[1;33m.\u001b[0m\u001b[0m_call_load_ipython_extension\u001b[0m\u001b[1;33m(\u001b[0m\u001b[0mmod\u001b[0m\u001b[1;33m)\u001b[0m\u001b[1;33m:\u001b[0m\u001b[1;33m\u001b[0m\u001b[0m\n",
        "\u001b[1;31mImportError\u001b[0m: No module named version_information # Esta es una herramienta util para ver compatibilidad entre sistemas"
       ]
      }
     ],
     "prompt_number": 90
    },
    {
     "cell_type": "code",
     "collapsed": false,
     "input": [
      "%version_information numpy, scipy, matplotlib, sympy, pycuda, pycula"
     ],
     "language": "python",
     "metadata": {},
     "outputs": [
      {
       "output_type": "stream",
       "stream": "stderr",
       "text": [
        "ERROR: Line magic function `%version_information` not found.\n"
       ]
      }
     ],
     "prompt_number": 92
    },
    {
     "cell_type": "heading",
     "level": 3,
     "metadata": {},
     "source": [
      "Latex"
     ]
    },
    {
     "cell_type": "markdown",
     "metadata": {},
     "source": [
      "## $$i\\hbar \\frac{\\partial}{\\partial t} \\Psi(\\vec{r},t) = -\\frac{\\hbar^2}{2m}\\nabla^2 \\Psi(\\vec{r},t) $$"
     ]
    },
    {
     "cell_type": "code",
     "collapsed": false,
     "input": [
      "%%latex\n",
      "\n",
      "\\begin{aligned}\n",
      "\\nabla \\times \\vec{\\mathbf{B}} -\\, \\frac1c\\, \\frac{\\partial\\vec{\\mathbf{E}}}{\\partial t} & = \\frac{4\\pi}{c}\\vec{\\mathbf{j}} \\\\\n",
      "\\nabla \\cdot \\vec{\\mathbf{E}} & = 4 \\pi \\rho \\\\\n",
      "\\nabla \\times \\vec{\\mathbf{E}}\\, +\\, \\frac1c\\, \\frac{\\partial\\vec{\\mathbf{B}}}{\\partial t} & = \\vec{\\mathbf{0}} \\\\\n",
      "\\nabla \\cdot \\vec{\\mathbf{B}} & = 0\n",
      "\\end{aligned}\n",
      "\n"
     ],
     "language": "python",
     "metadata": {},
     "outputs": [
      {
       "latex": [
        "\n",
        "\\begin{aligned}\n",
        "\\nabla \\times \\vec{\\mathbf{B}} -\\, \\frac1c\\, \\frac{\\partial\\vec{\\mathbf{E}}}{\\partial t} & = \\frac{4\\pi}{c}\\vec{\\mathbf{j}} \\\\\n",
        "\\nabla \\cdot \\vec{\\mathbf{E}} & = 4 \\pi \\rho \\\\\n",
        "\\nabla \\times \\vec{\\mathbf{E}}\\, +\\, \\frac1c\\, \\frac{\\partial\\vec{\\mathbf{B}}}{\\partial t} & = \\vec{\\mathbf{0}} \\\\\n",
        "\\nabla \\cdot \\vec{\\mathbf{B}} & = 0\n",
        "\\end{aligned}\n"
       ],
       "metadata": {},
       "output_type": "display_data",
       "text": [
        "<IPython.core.display.Latex object>"
       ]
      }
     ],
     "prompt_number": 93
    },
    {
     "cell_type": "heading",
     "level": 3,
     "metadata": {},
     "source": [
      "HTML, y muchas cosas m\u00e1s!"
     ]
    },
    {
     "cell_type": "code",
     "collapsed": false,
     "input": [
      "#Con '%load' cargamos cualquier script, local o en la web\n",
      "%load http://mindseye.no/wp-content/uploads/2010/10/feltlinjer-multipol-3d.py"
     ],
     "language": "python",
     "metadata": {},
     "outputs": [],
     "prompt_number": 1
    },
    {
     "cell_type": "code",
     "collapsed": false,
     "input": [
      "from numpy import *\n",
      "from enthought.mayavi.mlab import *\n",
      "from enthought.mayavi.api import Engine\n",
      "    \n",
      "a = -10.\n",
      "b = 10.\n",
      "ds = 1.\n",
      "\n",
      "x, y, z = mgrid[a:b:ds, a:b:ds, a:b:ds];\n",
      "\n",
      "q = [1, -1, 1, 1, 1, 1, -1, -1] # set the charges\n",
      "d = 1.5\n",
      "qpos = [[d, d, d], # set the positions. Note: All positions are offset by 0.5 to avoid calculating charges on the grid itself (causes 0-division!)\n",
      "        [d, d, -d],\n",
      "        [d, -d, d],\n",
      "        [d, -d, -d],\n",
      "        [-d, d, d],\n",
      "        [-d, d, -d],\n",
      "        [-d, -d, d],\n",
      "        [-d, -d, -d]]\n",
      "\n",
      "Ex = 0 * x; # create our value arrays, filled with zeros\n",
      "Ey = 0 * y;\n",
      "Ez = 0 * z;\n",
      "\n",
      "for i in range(len(q)): # calculate the charge field from each electric charge\n",
      "    r = (x - qpos[i][0])**2 + (y - qpos[i][1])**2 + (z - qpos[i][2])**2\n",
      "    Ex = Ex + (q[i] * (x - qpos[i][0])) / (r)**1.5\n",
      "    Ey = Ey + (q[i] * (y - qpos[i][1])) / (r)**1.5\n",
      "    Ez = Ez + (q[i] * (z - qpos[i][2])) / (r)**1.5\n",
      "\n",
      "# Now, let's prepare some output\n",
      "\n",
      "fig = figure(fgcolor=(1,1,1), bgcolor=(0,0,0)) # set the background and foreground of our scene\n",
      "camera = fig.scene.camera\n",
      "camera.yaw(120)\n",
      "\n",
      "streams = []\n",
      "          \n",
      "for s in range(len(q)):\n",
      "    fl = flow(x,y,z,Ex,Ey,Ez,seed_scale=0.3, seed_resolution=6); # create another flow object\n",
      "    fl.seed.widget.center = qpos[s]; # make seed sphere surround the charge\n",
      "    fl.stream_tracer.initial_integration_step = 0.01 # make small integration steps for smooth lines and to avoid ugly lines\n",
      "    fl.stream_tracer.maximum_propagation = 20.0 # avoid ugly lines by limitiing propagation\n",
      "    fl.stream_tracer.integration_direction = 'both' # integrate in both directions for best results\n",
      "    fl.seed.widget.enabled = False # remove the widget\n",
      "    fl.actor.property.opacity = 0.5 # set the line opacity to make it semi-transparent\n",
      "    streams.append(fl);\n",
      "\n",
      "print \"Done.\"\n"
     ],
     "language": "python",
     "metadata": {},
     "outputs": [
      {
       "output_type": "stream",
       "stream": "stdout",
       "text": [
        "Done.\n"
       ]
      }
     ],
     "prompt_number": 2
    },
    {
     "cell_type": "code",
     "collapsed": false,
     "input": [
      "from mayavi.mlab import show"
     ],
     "language": "python",
     "metadata": {},
     "outputs": [],
     "prompt_number": 3
    },
    {
     "cell_type": "code",
     "collapsed": false,
     "input": [
      "show()"
     ],
     "language": "python",
     "metadata": {},
     "outputs": [],
     "prompt_number": 4
    },
    {
     "cell_type": "code",
     "collapsed": false,
     "input": [
      "from IPython.display import YouTubeVideo #Podemos cargar videos locales o en la web\n",
      "YouTubeVideo('https://www.youtube.com/watch?v=UftnkLtRWbU&list=UUHeM_A8DjTW5iQtQgPKbrtA')"
     ],
     "language": "python",
     "metadata": {},
     "outputs": [
      {
       "html": [
        "\n",
        "        <iframe\n",
        "            width=\"400\"\n",
        "            height=300\"\n",
        "            src=\"https://www.youtube.com/embed/https://www.youtube.com/watch?v=UftnkLtRWbU&list=UUHeM_A8DjTW5iQtQgPKbrtA\"\n",
        "            frameborder=\"0\"\n",
        "            allowfullscreen\n",
        "        ></iframe>\n",
        "        "
       ],
       "metadata": {},
       "output_type": "pyout",
       "prompt_number": 95,
       "text": [
        "<IPython.lib.display.YouTubeVideo at 0x94664b50>"
       ]
      }
     ],
     "prompt_number": 95
    },
    {
     "cell_type": "code",
     "collapsed": false,
     "input": [
      "from IPython.display import HTML # Podemos tambien caragar sitios WEB completos \n",
      "HTML('<iframe src=http://learnpythonthehardway.org/book/ width=700 height=350></iframe>')\n"
     ],
     "language": "python",
     "metadata": {},
     "outputs": [
      {
       "html": [
        "<iframe src=http://learnpythonthehardway.org/book/ width=700 height=350></iframe>"
       ],
       "metadata": {},
       "output_type": "pyout",
       "prompt_number": 99,
       "text": [
        "<IPython.core.display.HTML object>"
       ]
      }
     ],
     "prompt_number": 99
    },
    {
     "cell_type": "code",
     "collapsed": false,
     "input": [
      "HTML('<iframe src=http://arxiv.org/ width=700 height=350></iframe>')"
     ],
     "language": "python",
     "metadata": {},
     "outputs": [
      {
       "html": [
        "<iframe src=http://arxiv.org/ width=700 height=350></iframe>"
       ],
       "metadata": {},
       "output_type": "pyout",
       "prompt_number": 97,
       "text": [
        "<IPython.core.display.HTML object>"
       ]
      }
     ],
     "prompt_number": 97
    },
    {
     "cell_type": "code",
     "collapsed": false,
     "input": [
      "HTML('<iframe src=http://www.dmoz.org/Computers/Programming/Languages/Python/Books/ width=700 height=350></iframe>')"
     ],
     "language": "python",
     "metadata": {},
     "outputs": [
      {
       "html": [
        "<iframe src=http://www.dmoz.org/Computers/Programming/Languages/Python/Books/ width=700 height=350></iframe>"
       ],
       "metadata": {},
       "output_type": "pyout",
       "prompt_number": 98,
       "text": [
        "<IPython.core.display.HTML object>"
       ]
      }
     ],
     "prompt_number": 98
    },
    {
     "cell_type": "markdown",
     "metadata": {},
     "source": [
      "#Muchos ejemplos en:\n",
      "\n",
      " #  <a href=\"https://github.com/ipython/ipython/wiki/A-gallery-of-interesting-IPython-Notebooks\"> Ipython GitHub </a>"
     ]
    }
   ],
   "metadata": {}
  }
 ]
}