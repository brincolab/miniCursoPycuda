{
 "cells": [
  {
   "cell_type": "markdown",
   "metadata": {
    "deletable": true,
    "editable": true
   },
   "source": [
    "## Implementación de soluciones numéricas a ecuaciones diferenciales  parciales (parabólicas) con CUDA."
   ]
  },
  {
   "cell_type": "markdown",
   "metadata": {
    "deletable": true,
    "editable": true
   },
   "source": [
    ">Aprovecharemos las ecuaciones de Difusión (2D) y de Schrodinger (3D) para ejemplificar el uso de distintas herrmientas de CUDA para su solución numérica. De paso veremos también el uso de algunas librerias para FFT y visualización (OpenGL)."
   ]
  },
  {
   "cell_type": "markdown",
   "metadata": {
    "deletable": true,
    "editable": true
   },
   "source": [
    "Pensemos en problemas del tipo:\n",
    "\n",
    "$$\\frac{\\partial \\phi(\\vec{r},t)}{\\partial t}  =  \\mathbb{L} \\left(t,\\phi,\\partial_{ii}\\phi,\\partial_{i}\\phi \\right)_{i=x,y,z}$$"
   ]
  },
  {
   "cell_type": "markdown",
   "metadata": {
    "deletable": true,
    "editable": true
   },
   "source": [
    "El primer problema será escoger un esquema de discretización adecuado para el problema, en general podemos proponer de entrada una esquema explicito RK4 en la parte temporal y simplemente usar diferencias finitas para las derivadas espaciales."
   ]
  },
  {
   "cell_type": "markdown",
   "metadata": {
    "deletable": true,
    "editable": true
   },
   "source": [
    "### Runge-Kutta  4to orden (RK4)"
   ]
  },
  {
   "cell_type": "markdown",
   "metadata": {
    "deletable": true,
    "editable": true
   },
   "source": [
    "\n",
    "$$ \\dot{\\phi}(t,\\vec{r})  =   \\mathbb{L}(t,\\phi, ..)$$\n",
    "\n",
    "\n",
    "si $\\phi^n = \\phi(t_n,\\vec{r})$ con $t_n = n\\delta t$\n",
    "\n",
    "Recurrencia: $$\\phi^{n+1} = \\phi^n + \\frac{1}{6}\\delta t(k_1+2k_2+2k_3+k_4) \\\\$$\n",
    ">$$k_1 = \\mathbb{L}(t_n,\\phi^n, ..) \\\\\n",
    "  k_2 = \\mathbb{L}(t_n+\\frac{1}{2}\\delta t, \\phi^n+\\frac{1}{2} k_1 \\delta t, ..) \\\\\n",
    "  k_3 = \\mathbb{L}(t_n+\\frac{1}{2}\\delta t, \\phi^n+\\frac{1}{2} k_2 \\delta t, ..)\\\\\n",
    "  k_4 = \\mathbb{L}(t_n+\\delta t, \\phi^n + k_3 \\delta t, ..)$$\n",
    "  \n",
    "El error va como $O(\\delta t^4)$"
   ]
  },
  {
   "cell_type": "markdown",
   "metadata": {
    "deletable": true,
    "editable": true
   },
   "source": [
    "### Diferencias finitas"
   ]
  },
  {
   "cell_type": "markdown",
   "metadata": {
    "deletable": true,
    "editable": true
   },
   "source": [
    "Si proponemos una discretización como $x_i = i \\times h$ con $h = L / N$\n",
    "$$\\partial_x \\phi(x_i,y_j,z_k) = \\frac{\\phi(x_{i+1},y_j,z_k)-\\phi(x_{i-1},y_j,z_k)}{2 h} +O(h^2)$$\n",
    "$$\\partial_{xx} \\phi(x_i,y_j,z_k) = \\frac{\\phi(x_{i+1},y_j,z_k)- 2\\phi(x_{i},y_j,z_k) +\\phi(x_{i-1},y_j,z_k)}{h^2} +O(h^2)$$"
   ]
  },
  {
   "cell_type": "markdown",
   "metadata": {
    "deletable": true,
    "editable": true
   },
   "source": [
    "## Ecuacion de difusion (calor) (2D)"
   ]
  },
  {
   "cell_type": "markdown",
   "metadata": {
    "deletable": true,
    "editable": true
   },
   "source": [
    "$$\\frac{\\partial T(\\vec{r},t)}{\\partial t}  =  D\\nabla^2 T(\\vec{r},t)$$\n",
    "\n",
    "Con $D$ el coeficiente de difusión, si el coeficiente de difusion no es constante entonces tenemos.\n",
    "\n",
    "$$\\frac{\\partial T(\\vec{r},t)}{\\partial t}  =  \\nabla \\cdot \\left( D(\\vec{r},t) \\nabla T(\\vec{r},t)\\right)$$\n",
    "$$\\frac{\\partial T(\\vec{r},t)}{\\partial t}  =  \\nabla D(\\vec{r},t) \\cdot \\nabla T(\\vec{r},t) + D(\\vec{r},t)\\nabla^2 T(\\vec{r},t) $$\n",
    "mas la condicion inicial $T(\\vec{r},t_0), D(\\vec{r},t_0)$ asi como las condiciones de contorno"
   ]
  },
  {
   "cell_type": "markdown",
   "metadata": {
    "deletable": true,
    "editable": true
   },
   "source": [
    "Utilizando la discretizacion previa, impone criterios de estabilidad para el esquema:\n",
    "$$ \\delta t < \\frac{dl^2}{\\sqrt{2} \\times dim \\times D}$$\n",
    "para el caso de coeficiente de difusion contante$^1$.\n",
    ">¿Para el caso no homogeneo bastaria con estimar el maximo de $D(\\vec{r},t)$?"
   ]
  },
  {
   "cell_type": "markdown",
   "metadata": {
    "deletable": true,
    "editable": true
   },
   "source": [
    ">Empecemos por definir el espacio para la solución y usar una caja cuadrada por simplicidad, de longitud L y con una discretización de N puntos"
   ]
  },
  {
   "cell_type": "markdown",
   "metadata": {
    "deletable": true,
    "editable": true
   },
   "source": [
    "> Definamos una clase que se llame **solveHeat** en la cual implementaremos distintos metodos, como primer ejercision hagamos el caso CPU con la libreria de **Numpy**. \n",
    "\n",
    "En especifico resolveremos el problema de 4 fronteras a temperatura fija (T=0)  condicion inicial arbitraria"
   ]
  },
  {
   "cell_type": "markdown",
   "metadata": {
    "deletable": true,
    "editable": true
   },
   "source": [
    "## El codigo"
   ]
  },
  {
   "cell_type": "code",
   "execution_count": 1,
   "metadata": {
    "collapsed": false,
    "deletable": true,
    "editable": true
   },
   "outputs": [
    {
     "name": "stdout",
     "output_type": "stream",
     "text": [
      "Populating the interactive namespace from numpy and matplotlib\n"
     ]
    }
   ],
   "source": [
    "%pylab inline"
   ]
  },
  {
   "cell_type": "code",
   "execution_count": 2,
   "metadata": {
    "collapsed": false,
    "deletable": true,
    "editable": true
   },
   "outputs": [],
   "source": [
    "class solveHeat:\n",
    "    ''' This class is for include distinct methods to solve 2D difussion equation and several implementations'''\n",
    "    def __init__(self, nPointsX = 512, nPointsY=512, boxSize=[10,10], precision = 'single' ):\n",
    "       # Parameters\n",
    "        self.nPX = nPointsX\n",
    "        self.nPY = nPointsY\n",
    "        self.Lx = boxSize[0]\n",
    "        self.Ly = boxSize[1]\n",
    "        if precision == 'single':\n",
    "            from numpy import float32\n",
    "            self.prec = float32\n",
    "            self.strC = 'float'\n",
    "        elif presicion == 'double':\n",
    "            from numpy import float64\n",
    "            self.prec = float64\n",
    "            self.strC = 'double'\n",
    "        from numpy import int32\n",
    "        self.intPrec = int32\n",
    "        # Domain\n",
    "        from numpy import linspace,ones,zeros_like,sqrt,exp,meshgrid,copy,max,min,zeros\n",
    "        from time import time\n",
    "        self.time = time\n",
    "        self.cpy = copy\n",
    "        self.max = max\n",
    "        self.min = min\n",
    "        self.x0 = -self.Lx/2.0\n",
    "        self.y0 = -self.Ly/2.0\n",
    "        xPoints = linspace(self.x0, self.Lx/2.0, self.nPX)\n",
    "        yPoints = linspace(self.y0, self.Ly/2.0, self.nPY)\n",
    "        X,Y = meshgrid(xPoints,yPoints)\n",
    "        gaussian = 2.0*exp(-X**2/0.5-Y**2/0.5)\n",
    "        #Solution\n",
    "        self.diffusionC = self.prec(0.5)\n",
    "        self.diffusionForm = '{myPrec} d = 0.1*sin(x);'.format(myPrec=self.strC)\n",
    "        self.dx = xPoints[1]-xPoints[0]\n",
    "        self.dy = yPoints[1]-yPoints[0]\n",
    "        self.phiSol = zeros((self.nPX,self.nPY),dtype=self.prec)*self.prec(0.5) +gaussian.astype(self.prec) # Initial condition\n",
    "        self.maxPhi = max(max(self.phiSol))\n",
    "        self.minPhi = min(min(self.phiSol))\n",
    "        self.phiK1 = self.cpy(self.phiSol)\n",
    "        self.phiK2 = self.cpy(self.phiSol)\n",
    "        self.phiSolNew = self.cpy(self.phiSol)\n",
    "        # Stability\n",
    "        self.dt = (self.dx*self.dx)/(sqrt(2)*2*self.diffusionC) *0.9\n",
    "        self.setBoundaryC_CPU()\n",
    "        # Performance\n",
    "        self.timeCPU = []\n",
    "        self.timeGlobal = []\n",
    "        self.timeShared = []\n",
    "        self.timeTex = []\n",
    "        self.timing = True\n",
    "        self.iterCPU = 0\n",
    "        self.iterGPU = 0\n",
    "        \n",
    "    def setBoundaryC_CPU(self):\n",
    "        self.phiSol[0,:] = self.prec(0)#self.prec(1)\n",
    "        self.phiSol[-1,:] = self.prec(0)#self.prec(1)\n",
    "        self.phiSol[:,0] = self.prec(0)#self.prec(-1)\n",
    "        self.phiSol[:,-1] = self.prec(0)#self.prec(-1)\n",
    "        #self.phiSol[:,0] = self.phiSol[:,-1]\n",
    "    \n",
    "    def rk4_CPU(self):\n",
    "        if self.timing:\n",
    "            t = self.time()\n",
    "        self.phiK1 = self.cpy(self.phiSol)\n",
    "        self.applyL(1)\n",
    "        self.phiK1 = self.phiSol + self.prec(0.5)*self.dt* self.phiK2\n",
    "        self.applyL(2)\n",
    "        self.phiK1 = self.phiSol + self.prec(0.5)*self.dt* self.phiK2\n",
    "        self.applyL(2)\n",
    "        self.phiK1 = self.phiSol + self.dt*self.phiK2\n",
    "        self.applyL(1)\n",
    "        self.phiSol =  self.cpy(self.phiSolNew)\n",
    "        self.setBoundaryC_CPU()\n",
    "        if self.timing:\n",
    "            self.timeCPU.append(self.time()-t)\n",
    "        self.iterCPU += 1\n",
    "    def applyL(self,coef):\n",
    "        #Calculate lapacian and Ki\n",
    "        invX = self.prec(1./self.dx)\n",
    "        invY = self.prec(1./self.dy)\n",
    "        self.phiK2[1:-1,1:-1] = (self.phiK1[2:,1:-1]-self.prec(2.0)*self.phiK1[1:-1,1:-1]+self.phiK1[:-2,1:-1])*invX*invX\n",
    "        self.phiK2[1:-1,1:-1] += (self.phiK1[1:-1,2:]-self.prec(2.0)*self.phiK1[1:-1,1:-1]+self.phiK1[1:-1,:-2])*invY*invY\n",
    "        self.phiK2[1:-1,1:-1]*= self.diffusionC\n",
    "        self.phiSolNew +=  self.prec(coef)*self.dt*self.prec(1./6.)* self.phiK2\n",
    "        #imshow(aux1,vmax=self.maxPhi,vmin=self.minPhi)\n",
    "        \n",
    "    def draw(self, n = 0):\n",
    "        #self.maxPhi = self.max(self.max(self.phiSol))\n",
    "        #self.minPhi = self.min(self.min(self.phiSol))\n",
    "        fig = figure(n,figsize(5,5),dpi=200)\n",
    "        im = imshow(self.phiSol,vmax=self.maxPhi,vmin=self.minPhi)\n",
    "        colorbar(im)\n",
    "    #################################################################\n",
    "    ##################### C U D A     S T U F F ##########################\n",
    "    #################################################################\n",
    "    def _setDevice(self,ndev = None):\n",
    "        ''' To use CUDA or OpenCL you need a context and a device to stablish the context o communication '''\n",
    "        import pycuda.autoinit\n",
    "        import pycuda.driver as cuda\n",
    "        \n",
    "        nDevices = cuda.Device.count()\n",
    "        print \"Available Devices:\"\n",
    "        for i in range(nDevices):\n",
    "            dev = cuda.Device( i )\n",
    "            print \"  Device {0}: {1}\".format( i, dev.name() )\n",
    "        devNumber = 0\n",
    "        if nDevices > 1:\n",
    "            if ndev == None:\n",
    "                devNumber = int(raw_input(\"Select device number: \")) \n",
    "            else:\n",
    "                devNumber = ndev\n",
    "        dev = cuda.Device( devNumber)\n",
    "        cuda.Context.pop()  #Disable previus CUDA context\n",
    "        ctxCUDA = dev.make_context()\n",
    "        print \"Using device {0}: {1}\".format( devNumber, dev.name() ) \n",
    "        self.ctxCUDA = ctxCUDA\n",
    "        self.dev = dev\n",
    "        if self.timing:\n",
    "            self.start = cuda.Event()\n",
    "            self.end = cuda.Event()\n",
    "        \n",
    "    def initCUDA(self, method = 'global', nDev = None):\n",
    "        ''' CUDA init. method can be = texture,global,shared  '''\n",
    "        from pycuda import gpuarray\n",
    "        from pycuda.compiler import SourceModule\n",
    "        # Init Device\n",
    "        if nDev == None:\n",
    "            self._setDevice()\n",
    "        else:\n",
    "            self._setDevice(ndev = nDev)\n",
    "        # Init data\n",
    "        if method == 'global':\n",
    "            self.phiSol_GPU          = gpuarray.to_gpu(self.phiSol)\n",
    "            self.phiSolNew_GPU  = gpuarray.to_gpu(self.phiSol)\n",
    "            self.phiK1_GPU          = gpuarray.to_gpu(self.phiSol)\n",
    "            self.phiK2_GPU           = gpuarray.to_gpu(self.phiSol)\n",
    "        # KERNELS\n",
    "        self._auxElementwise()\n",
    "        self.cuBlock = (32,32,1)\n",
    "        self.cuGrid   = (self.nPX/self.cuBlock[0],self.nPY/self.cuBlock[1],1)\n",
    "        cudaCode = open(\"CUDAkernels.cu\",\"r\")\n",
    "        myCUDACode = cudaCode.read()\n",
    "        downVar = ['blockDim.x','blockDim.y','blockDim.z','gridDim.x','gridDim.y','gridDim.z']\n",
    "        upVar      = [str(self.cuBlock[0]),str(self.cuBlock[1]),str(self.cuBlock[2]),str(self.cuGrid[0]),str(self.cuGrid[1]),str(self.cuGrid[2])]\n",
    "        dicVar = dict(zip(downVar,upVar))\n",
    "        for i in downVar:\n",
    "            myCUDACode = myCUDACode.replace(i,dicVar[i])\n",
    "        if self.strC == 'double':\n",
    "            myCUDACode = myCUDACode.replace('float','double')\n",
    "        self.myCUDACode = myCUDACode\n",
    "        myKernels = SourceModule(myCUDACode)\n",
    "        self.applyL_global = myKernels.get_function('globalRK4')\n",
    "        self.applyL_shared = myKernels.get_function('sharedRK4')\n",
    "        self.applyL_tex = myKernels.get_function('textureRK4')\n",
    "        self.texturePhiSol = myKernels.get_texref('myTexture')\n",
    "        self.surfacePhiSol = myKernels.get_surfref('mySurf')\n",
    "        self.CUDAarrayK1 , cpy1 = self.np3DtoCudaArray(self.phiSol, allowSurfaceBind=True, testPrec = True, prec = 'single' )\n",
    "        self.CUDAarrayK2 , cpy2 = self.np3DtoCudaArray(self.phiSol, allowSurfaceBind=True, testPrec = True, prec = 'single' )\n",
    "    \n",
    "        if self.strC == 'float':\n",
    "            self.applyL_global.prepare('PPPfffff')\n",
    "            self.applyL_shared.prepare('PPPffffff')\n",
    "            self.applyL_tex.prepare('PPffffffi',texrefs=[self.texturePhiSol])\n",
    "        else:\n",
    "            self.applyL_global.prepare('PPPddddd')\n",
    "            self.applyL_shared.prepare('PPPdddddd')\n",
    "    \n",
    "    def _auxElementwise(self):\n",
    "        from pycuda.elementwise import ElementwiseKernel\n",
    "        self.copyD2D = ElementwiseKernel(arguments = \"{prec} *a, {prec} *b \".format(prec=self.strC),\n",
    "                               operation = \"a[i]=b[i]\",\n",
    "                               name = \"copyD2D\")\n",
    "        self.calcKi = ElementwiseKernel(arguments = \"{prec} *a, {prec} *b, {prec} *c, {prec} d \".format(prec=self.strC),\n",
    "                               operation = \"a[i]=b[i] + d*c[i]\",\n",
    "                               name = \"calcKi\")\n",
    "    \n",
    "    def rk4_GPU_global(self):\n",
    "        if self.timing:\n",
    "            self.start.record()\n",
    "        self.copyD2D(self.phiK1_GPU,self.phiSol_GPU)\n",
    "        #self.phiK1 = self.cpy(self.phiSol) \n",
    "        self.applyL_global.prepared_call(self.cuGrid,self.cuBlock,self.phiSolNew_GPU.gpudata, \n",
    "                                                              self.phiK1_GPU.gpudata, self.phiK2_GPU.gpudata, self.diffusionC, self.prec(1), self.dt, self.dx, self.dy)\n",
    "        \n",
    "        self.calcKi(self.phiK1_GPU,self.phiSol_GPU,self.phiK2_GPU, self.prec(0.5)*self.dt)\n",
    "        #self.phiK1 = self.phiSol + self.prec(0.5)*self.dt* self.phiK2\n",
    "        self.applyL_global.prepared_call(self.cuGrid, self.cuBlock, self.phiSolNew_GPU.gpudata, \n",
    "                                                              self.phiK1_GPU.gpudata, self.phiK2_GPU.gpudata, self.diffusionC, self.prec(2), self.dt, self.dx, self.dy)\n",
    "        self.calcKi(self.phiK1_GPU,self.phiSol_GPU,self.phiK2_GPU, self.prec(0.5)*self.dt)\n",
    "        #self.phiK1 = self.phiSol + self.prec(0.5)*self.dt* self.phiK2\n",
    "        self.applyL_global.prepared_call(self.cuGrid,self.cuBlock,self.phiSolNew_GPU.gpudata, \n",
    "                                                              self.phiK1_GPU.gpudata, self.phiK2_GPU.gpudata, self.diffusionC, self.prec(2), self.dt, self.dx, self.dy)\n",
    "        self.calcKi(self.phiK1_GPU,self.phiSol_GPU,self.phiK2_GPU, self.dt)\n",
    "        #self.phiK1 = self.phiSol + self.dt*self.phiK2\n",
    "        self.applyL_global.prepared_call(self.cuGrid,self.cuBlock,self.phiSolNew_GPU.gpudata, \n",
    "                                                              self.phiK1_GPU.gpudata, self.phiK2_GPU.gpudata, self.diffusionC, self.prec(1), self.dt, self.dx, self.dy)\n",
    "\n",
    "        self.copyD2D(self.phiSol_GPU,self.phiSolNew_GPU)\n",
    "        if self.timing:\n",
    "            self.end.record()\n",
    "            self.end.synchronize()\n",
    "            self.timeGlobal.append(self.start.time_till(self.end)*1e-3)\n",
    "        self.iterGPU += 1\n",
    "        \n",
    "    def rk4_GPU_shared(self):\n",
    "        if self.timing:\n",
    "            self.start.record()\n",
    "        #self.copyD2D(self.phiK1_GPU,self.phiSol_GPU)\n",
    "        #self.phiK1 = self.cpy(self.phiSol) \n",
    "        self.applyL_shared.prepared_call(self.cuGrid,self.cuBlock, self.phiSol_GPU.gpudata, self.phiSolNew_GPU.gpudata,  \n",
    "                                         self.phiK2_GPU.gpudata, self.prec(0), self.prec(1), self.diffusionC, self.dt, self.dx, self.dy)\n",
    "        #self.ctxCUDA.synchronize()\n",
    "        #self.calcKi(self.phiK1_GPU,self.phiSol_GPU,self.phiK2_GPU, self.prec(0.5)*self.dt)\n",
    "        #self.phiK1 = self.phiSol + self.prec(0.5)*self.dt* self.phiK2\n",
    "        self.applyL_shared.prepared_call(self.cuGrid, self.cuBlock, self.phiSol_GPU.gpudata, self.phiSolNew_GPU.gpudata, \n",
    "                                                               self.phiK2_GPU.gpudata, self.prec(0.5), self.prec(2), self.diffusionC,self.dt, self.dx, self.dy)\n",
    "        #self.calcKi(self.phiK1_GPU,self.phiSol_GPU,self.phiK2_GPU, self.prec(0.5)*self.dt)\n",
    "        #self.phiK1 = self.phiSol + self.prec(0.5)*self.dt* self.phiK2\n",
    "        self.applyL_shared.prepared_call(self.cuGrid,self.cuBlock, self.phiSol_GPU.gpudata,self.phiSolNew_GPU.gpudata, \n",
    "                                                               self.phiK2_GPU.gpudata, self.prec(0.5) , self.prec(2), self.diffusionC,self.dt, self.dx, self.dy)\n",
    "        #self.calcKi(self.phiK1_GPU,self.phiSol_GPU,self.phiK2_GPU, self.dt)\n",
    "        #self.phiK1 = self.phiSol + self.dt*self.phiK2\n",
    "        self.applyL_shared.prepared_call(self.cuGrid,self.cuBlock, self.phiSol_GPU.gpudata,self.phiSolNew_GPU.gpudata, \n",
    "                                                               self.phiK2_GPU.gpudata, self.prec(1.0), self.prec(1), self.diffusionC,self.dt, self.dx, self.dy)\n",
    "\n",
    "        self.copyD2D(self.phiSol_GPU,self.phiSolNew_GPU)\n",
    "        if self.timing:\n",
    "            self.end.record()\n",
    "            self.end.synchronize()\n",
    "            self.timeShared.append(self.start.time_till(self.end)*1e-3)\n",
    "        self.iterGPU += 1\n",
    "        #self.ctxCUDA.synchronize()\n",
    "        #self.phiSol =  self.cpy(self.phiSolNew)\n",
    "        \n",
    "    def rk4_GPU_tex(self):\n",
    "        if self.timing:\n",
    "            self.start.record()\n",
    "        #self.copyD2D(self.phiK1_GPU,self.phiSol_GPU)\n",
    "        #self.phiK1 = self.cpy(self.phiSol)\n",
    "        self.texturePhiSol.set_array(self.CUDAarrayK1)\n",
    "        self.surfacePhiSol.set_array(self.CUDAarrayK2)\n",
    "        self.applyL_tex.prepared_call(self.cuGrid,self.cuBlock, self.phiSol_GPU.gpudata, self.phiSolNew_GPU.gpudata,  \n",
    "                                                         self.diffusionC, self.prec(1), self.prec(0),  self.dt, self.dx, self.dy,self.intPrec(0))\n",
    "        #self.ctxCUDA.synchronize()\n",
    "        #self.calcKi(self.phiK1_GPU,self.phiSol_GPU,self.phiK2_GPU, self.prec(0.5)*self.dt)\n",
    "        #self.phiK1 = self.phiSol + self.prec(0.5)*self.dt* self.phiK2\n",
    "        self.texturePhiSol.set_array(self.CUDAarrayK2)\n",
    "        self.surfacePhiSol.set_array(self.CUDAarrayK1)\n",
    "        self.applyL_tex.prepared_call(self.cuGrid,self.cuBlock, self.phiSol_GPU.gpudata, self.phiSolNew_GPU.gpudata,  \n",
    "                                                         self.diffusionC, self.prec(2), self.prec(0.5),  self.dt, self.dx, self.dy,self.intPrec(0))\n",
    "        #self.calcKi(self.phiK1_GPU,self.phiSol_GPU,self.phiK2_GPU, self.prec(0.5)*self.dt)\n",
    "        #self.phiK1 = self.phiSol + self.prec(0.5)*self.dt* self.phiK2\n",
    "        self.texturePhiSol.set_array(self.CUDAarrayK1)\n",
    "        self.surfacePhiSol.set_array(self.CUDAarrayK2)\n",
    "        self.applyL_tex.prepared_call(self.cuGrid,self.cuBlock, self.phiSol_GPU.gpudata, self.phiSolNew_GPU.gpudata,  \n",
    "                                                         self.diffusionC, self.prec(2), self.prec(0.5),  self.dt, self.dx, self.dy,self.intPrec(0))\n",
    "        #self.calcKi(self.phiK1_GPU,self.phiSol_GPU,self.phiK2_GPU, self.dt)\n",
    "        #self.phiK1 = self.phiSol + self.dt*self.phiK2\n",
    "        self.texturePhiSol.set_array(self.CUDAarrayK2)\n",
    "        self.surfacePhiSol.set_array(self.CUDAarrayK1)\n",
    "        self.applyL_tex.prepared_call(self.cuGrid,self.cuBlock, self.phiSol_GPU.gpudata, self.phiSolNew_GPU.gpudata,  \n",
    "                                                          self.diffusionC, self.prec(1), self.prec(1.0),  self.dt, self.dx, self.dy,self.intPrec(1))\n",
    "        #self.copyD2D(self.phiSol_GPU,self.phiSolNew_GPU)\n",
    "        \n",
    "        if self.timing:\n",
    "            self.end.record()\n",
    "            self.end.synchronize()\n",
    "            self.timeTex.append(self.start.time_till(self.end)*1e-3)    \n",
    "        self.iterGPU += 1\n",
    "        \n",
    "    def draw_GPU(self, n = 1):\n",
    "        #self.maxPhi = self.max(self.max(self.phiSol))\n",
    "        #self.minPhi = self.min(self.min(self.phiSol))\n",
    "        fig = figure(n)\n",
    "        im = imshow(self.phiSol_GPU.get(),vmax=self.maxPhi,vmin=self.minPhi)\n",
    "        colorbar()\n",
    "        \n",
    "    def np3DtoCudaArray(self,npArray, allowSurfaceBind=False, testPrec = True,prec = 'single' ):\n",
    "        import pycuda.driver as cuda\n",
    "        dimension = len(npArray.shape)\n",
    "        if dimension == 1:\n",
    "            w = npArray.shape[0]\n",
    "            h, d = 0,0\n",
    "        if dimension == 2:\n",
    "            w, h = npArray.shape[0], npArray.shape[1]\n",
    "            d = 0\n",
    "        if dimension == 3:\n",
    "            w, h, d = npArray.shape\n",
    "        descr3D = cuda.ArrayDescriptor3D()\n",
    "        descr3D.width = w\n",
    "        descr3D.height = h\n",
    "        descr3D.depth = d\n",
    "                \n",
    "        if testPrec:\n",
    "                    \n",
    "            if prec == 'single':\n",
    "              descr3D.format = cuda.dtype_to_array_format(npArray.dtype)\n",
    "              descr3D.num_channels = 1\n",
    "            else:\n",
    "              descr3D.format = cuda.array_format.SIGNED_INT32\n",
    "              descr3D.num_channels = 2\n",
    "        else:\n",
    "            descr3D.format = cuda.dtype_to_array_format(npArray.dtype)\n",
    "            descr3D.num_channels = 1\n",
    "  \n",
    "        if allowSurfaceBind:\n",
    "            descr3D.flags = cuda.array3d_flags.SURFACE_LDST\n",
    "    \n",
    "        cudaArray = cuda.Array(descr3D)\n",
    "        if dimension == 3:\n",
    "              copy3D = cuda.Memcpy3D()\n",
    "              copy3D.set_src_host(npArray)\n",
    "              copy3D.set_dst_array(cudaArray)\n",
    "              copy3D.src_pitch = npArray.strides[0]\n",
    "              copy3D.width_in_bytes = copy3D.src_pitch = npArray.strides[1]\n",
    "              copy3D.src_height = copy3D.height = h\n",
    "              copy3D.depth = d\n",
    "              copy3D()\n",
    "        if dimension == 2:\n",
    "              copy3D = cuda.Memcpy2D()\n",
    "              copy3D.set_src_host(npArray)\n",
    "              copy3D.set_dst_array(cudaArray)\n",
    "              copy3D.src_pitch = npArray.strides[0]\n",
    "              copy3D.width_in_bytes = copy3D.src_pitch = npArray.strides[0]\n",
    "              copy3D.src_height = copy3D.height = h\n",
    "              copy3D(aligned=True)\n",
    "        return cudaArray, copy3D\n",
    "        \n",
    "    def freeMemoryGPU(self):\n",
    "        self.phiSol_GPU.gpudata.free()\n",
    "        self.phiSolNew_GPU.gpudata.free()\n",
    "        self.phiK1_GPU.gpudata.free()\n",
    "        self.phiK2_GPU.gpudata.free()\n",
    "        self.CUDAarrayK1.free()\n",
    "        self.CUDAarrayK2.free()"
   ]
  },
  {
   "cell_type": "markdown",
   "metadata": {
    "deletable": true,
    "editable": true
   },
   "source": [
    "### Calculando ..."
   ]
  },
  {
   "cell_type": "markdown",
   "metadata": {
    "deletable": true,
    "editable": true
   },
   "source": [
    "Una vez con la clase lista, nos preocuoamos por jugar con las opciones que tenemos diponibles."
   ]
  },
  {
   "cell_type": "code",
   "execution_count": 3,
   "metadata": {
    "collapsed": false,
    "deletable": true,
    "editable": true
   },
   "outputs": [
    {
     "name": "stdout",
     "output_type": "stream",
     "text": [
      "0.0393700787402 0.000986415932587\n"
     ]
    }
   ],
   "source": [
    "# Creamos un objeto con todos los metodos disponibles, automaticamente se inicializan los datos pero podemos modificarlos\n",
    "# redefiniendo los parametros, variables o condiciones que nos interesen.\n",
    "myS = solveHeat(nPointsX=128, nPointsY=128, boxSize=[5,5])\n",
    "print myS.dx,myS.dt"
   ]
  },
  {
   "cell_type": "code",
   "execution_count": 4,
   "metadata": {
    "collapsed": false,
    "deletable": true,
    "editable": true
   },
   "outputs": [
    {
     "name": "stdout",
     "output_type": "stream",
     "text": [
      "Available Devices:\n",
      "  Device 0: GeForce GTX 860M\n",
      "Using device 0: GeForce GTX 860M\n"
     ]
    }
   ],
   "source": [
    "# Inicializamos el entorno con la GPU\n",
    "myS.initCUDA()"
   ]
  },
  {
   "cell_type": "code",
   "execution_count": 5,
   "metadata": {
    "collapsed": false,
    "deletable": true,
    "editable": true
   },
   "outputs": [],
   "source": [
    "cardName = myS.dev.name()"
   ]
  },
  {
   "cell_type": "code",
   "execution_count": 6,
   "metadata": {
    "collapsed": false,
    "deletable": true,
    "editable": true
   },
   "outputs": [
    {
     "data": {
      "text/plain": [
       "(None, None)"
      ]
     },
     "execution_count": 6,
     "metadata": {},
     "output_type": "execute_result"
    },
    {
     "data": {
      "image/png": "[encoded data removed]",
      "text/plain": [
       "<matplotlib.figure.Figure at 0x7f7ec74dfa90>"
      ]
     },
     "metadata": {},
     "output_type": "display_data"
    },
    {
     "data": {
      "image/png": "[encoded data removed]",
      "text/plain": [
       "<matplotlib.figure.Figure at 0x7f7eacf73a90>"
      ]
     },
     "metadata": {},
     "output_type": "display_data"
    }
   ],
   "source": [
    "myS.draw(),myS.draw_GPU() # Estados iniciales"
   ]
  },
  {
   "cell_type": "code",
   "execution_count": 7,
   "metadata": {
    "collapsed": false,
    "deletable": true,
    "editable": true
   },
   "outputs": [],
   "source": [
    "# Resolviendo con CPU y GPU\n",
    "for i in range(1000):\n",
    "    myS.rk4_CPU()\n",
    "    myS.rk4_GPU_tex()"
   ]
  },
  {
   "cell_type": "code",
   "execution_count": 8,
   "metadata": {
    "collapsed": false,
    "deletable": true,
    "editable": true
   },
   "outputs": [
    {
     "data": {
      "text/plain": [
       "(None, None)"
      ]
     },
     "execution_count": 8,
     "metadata": {},
     "output_type": "execute_result"
    },
    {
     "data": {
      "image/png": "[encoded data removed]",
      "text/plain": [
       "<matplotlib.figure.Figure at 0x7f7eacd4ad90>"
      ]
     },
     "metadata": {},
     "output_type": "display_data"
    },
    {
     "data": {
      "image/png": "[encoded data removed]",
      "text/plain": [
       "<matplotlib.figure.Figure at 0x7f7eaca80390>"
      ]
     },
     "metadata": {},
     "output_type": "display_data"
    }
   ],
   "source": [
    "myS.draw(),myS.draw_GPU() # Como se esperaba se enfria!"
   ]
  },
  {
   "cell_type": "code",
   "execution_count": 9,
   "metadata": {
    "collapsed": false,
    "deletable": true,
    "editable": true
   },
   "outputs": [
    {
     "data": {
      "text/plain": [
       "0.00060911536216735841"
      ]
     },
     "execution_count": 9,
     "metadata": {},
     "output_type": "execute_result"
    }
   ],
   "source": [
    "mean(myS.timeCPU) # Tiempos de ejecucion"
   ]
  },
  {
   "cell_type": "code",
   "execution_count": 10,
   "metadata": {
    "collapsed": false,
    "deletable": true,
    "editable": true
   },
   "outputs": [
    {
     "data": {
      "text/plain": [
       "0.00014392467211186887"
      ]
     },
     "execution_count": 10,
     "metadata": {},
     "output_type": "execute_result"
    }
   ],
   "source": [
    "mean(myS.timeTex) # Tiempos de ejecucion"
   ]
  },
  {
   "cell_type": "code",
   "execution_count": 11,
   "metadata": {
    "collapsed": false,
    "deletable": true,
    "editable": true
   },
   "outputs": [
    {
     "data": {
      "text/plain": [
       "0.6091153621673584"
      ]
     },
     "execution_count": 11,
     "metadata": {},
     "output_type": "execute_result"
    }
   ],
   "source": [
    "sum(myS.timeCPU)"
   ]
  },
  {
   "cell_type": "code",
   "execution_count": 12,
   "metadata": {
    "collapsed": false,
    "deletable": true,
    "editable": true
   },
   "outputs": [
    {
     "data": {
      "text/plain": [
       "0.98641593258709526"
      ]
     },
     "execution_count": 12,
     "metadata": {},
     "output_type": "execute_result"
    }
   ],
   "source": [
    "myS.iterCPU*myS.dt"
   ]
  },
  {
   "cell_type": "code",
   "execution_count": 13,
   "metadata": {
    "collapsed": false,
    "deletable": true,
    "editable": true
   },
   "outputs": [],
   "source": [
    "diff = abs(myS.phiSol-myS.phiSol_GPU.get())"
   ]
  },
  {
   "cell_type": "code",
   "execution_count": 14,
   "metadata": {
    "collapsed": false,
    "deletable": true,
    "editable": true
   },
   "outputs": [
    {
     "data": {
      "text/plain": [
       "(0.00021326542, 0.0)"
      ]
     },
     "execution_count": 14,
     "metadata": {},
     "output_type": "execute_result"
    }
   ],
   "source": [
    "np.max(diff),np.min(diff)"
   ]
  },
  {
   "cell_type": "code",
   "execution_count": 15,
   "metadata": {
    "collapsed": false,
    "deletable": true,
    "editable": true
   },
   "outputs": [],
   "source": [
    "myS.freeMemoryGPU()"
   ]
  },
  {
   "cell_type": "markdown",
   "metadata": {
    "deletable": true,
    "editable": true
   },
   "source": [
    "## Animación"
   ]
  },
  {
   "cell_type": "code",
   "execution_count": 16,
   "metadata": {
    "collapsed": false,
    "deletable": true,
    "editable": true
   },
   "outputs": [],
   "source": [
    "from tempfile import NamedTemporaryFile\n",
    "\n",
    "VIDEO_TAG = \"\"\"<video controls>\n",
    " <source src=\"data:video/x-m4v;base64,{0}\" type=\"video/mp4\">\n",
    " Your browser does not support the video tag.\n",
    "</video>\"\"\"\n",
    "\n",
    "def anim_to_html(anim):\n",
    "    if not hasattr(anim, '_encoded_video'):\n",
    "        with NamedTemporaryFile(suffix='.mp4') as f:\n",
    "            anim.save(f.name, fps=20, codec='libx264')#, extra_args=['-vcodec', 'libx264'])\n",
    "            video = open(f.name, \"rb\").read()\n",
    "        anim._encoded_video = video.encode(\"base64\")\n",
    "    \n",
    "    return VIDEO_TAG.format(anim._encoded_video)"
   ]
  },
  {
   "cell_type": "code",
   "execution_count": 17,
   "metadata": {
    "collapsed": false,
    "deletable": true,
    "editable": true
   },
   "outputs": [],
   "source": [
    "from IPython.display import HTML\n",
    "\n",
    "def display_animation(anim):\n",
    "    plt.close(anim._fig)\n",
    "    return HTML(anim_to_html(anim))"
   ]
  },
  {
   "cell_type": "markdown",
   "metadata": {
    "deletable": true,
    "editable": true
   },
   "source": [
    "### Version de CPU"
   ]
  },
  {
   "cell_type": "code",
   "execution_count": 20,
   "metadata": {
    "collapsed": false,
    "deletable": true,
    "editable": true
   },
   "outputs": [
    {
     "ename": "ImportError",
     "evalue": "No module named JSAnimation",
     "output_type": "error",
     "traceback": [
      "\u001b[1;31m---------------------------------------------------------------------------\u001b[0m",
      "\u001b[1;31mImportError\u001b[0m                               Traceback (most recent call last)",
      "\u001b[1;32m<ipython-input-20-3f66aa218639>\u001b[0m in \u001b[0;36m<module>\u001b[1;34m()\u001b[0m\n\u001b[1;32m----> 1\u001b[1;33m \u001b[1;32mfrom\u001b[0m \u001b[0mJSAnimation\u001b[0m \u001b[1;32mimport\u001b[0m \u001b[0mIPython_display\u001b[0m\u001b[1;33m\u001b[0m\u001b[0m\n\u001b[0m\u001b[0;32m      2\u001b[0m \u001b[1;32mfrom\u001b[0m \u001b[0mmatplotlib\u001b[0m \u001b[1;32mimport\u001b[0m \u001b[0manimation\u001b[0m\u001b[1;33m\u001b[0m\u001b[0m\n",
      "\u001b[1;31mImportError\u001b[0m: No module named JSAnimation"
     ]
    }
   ],
   "source": [
    "from JSAnimation import IPython_display\n",
    "from matplotlib import animation"
   ]
  },
  {
   "cell_type": "code",
   "execution_count": 19,
   "metadata": {
    "collapsed": false,
    "deletable": true,
    "editable": true
   },
   "outputs": [
    {
     "ename": "TypeError",
     "evalue": "'AxesImage' object is not iterable",
     "output_type": "error",
     "traceback": [
      "\u001b[1;31m---------------------------------------------------------------------------\u001b[0m",
      "\u001b[1;31mTypeError\u001b[0m                                 Traceback (most recent call last)",
      "\u001b[1;32m<ipython-input-19-7e61bf00a4ee>\u001b[0m in \u001b[0;36m<module>\u001b[1;34m()\u001b[0m\n\u001b[0;32m     34\u001b[0m \u001b[1;33m\u001b[0m\u001b[0m\n\u001b[0;32m     35\u001b[0m \u001b[1;31m# call our new function to display the animation\u001b[0m\u001b[1;33m\u001b[0m\u001b[1;33m\u001b[0m\u001b[0m\n\u001b[1;32m---> 36\u001b[1;33m \u001b[0mdisplay_animation\u001b[0m\u001b[1;33m(\u001b[0m\u001b[0manim\u001b[0m\u001b[1;33m)\u001b[0m\u001b[1;33m\u001b[0m\u001b[0m\n\u001b[0m\u001b[0;32m     37\u001b[0m \u001b[1;31m# if you want to save the animation, uncomment this line\u001b[0m\u001b[1;33m\u001b[0m\u001b[1;33m\u001b[0m\u001b[0m\n\u001b[0;32m     38\u001b[0m \u001b[1;31m#anim.save('miAnimacion.mp4',fps=20,codec='libx264')\u001b[0m\u001b[1;33m\u001b[0m\u001b[1;33m\u001b[0m\u001b[0m\n",
      "\u001b[1;32m<ipython-input-17-63a8cd04f4be>\u001b[0m in \u001b[0;36mdisplay_animation\u001b[1;34m(anim)\u001b[0m\n\u001b[0;32m      3\u001b[0m \u001b[1;32mdef\u001b[0m \u001b[0mdisplay_animation\u001b[0m\u001b[1;33m(\u001b[0m\u001b[0manim\u001b[0m\u001b[1;33m)\u001b[0m\u001b[1;33m:\u001b[0m\u001b[1;33m\u001b[0m\u001b[0m\n\u001b[0;32m      4\u001b[0m     \u001b[0mplt\u001b[0m\u001b[1;33m.\u001b[0m\u001b[0mclose\u001b[0m\u001b[1;33m(\u001b[0m\u001b[0manim\u001b[0m\u001b[1;33m.\u001b[0m\u001b[0m_fig\u001b[0m\u001b[1;33m)\u001b[0m\u001b[1;33m\u001b[0m\u001b[0m\n\u001b[1;32m----> 5\u001b[1;33m     \u001b[1;32mreturn\u001b[0m \u001b[0mHTML\u001b[0m\u001b[1;33m(\u001b[0m\u001b[0manim_to_html\u001b[0m\u001b[1;33m(\u001b[0m\u001b[0manim\u001b[0m\u001b[1;33m)\u001b[0m\u001b[1;33m)\u001b[0m\u001b[1;33m\u001b[0m\u001b[0m\n\u001b[0m",
      "\u001b[1;32m<ipython-input-16-d2eb370cb3e6>\u001b[0m in \u001b[0;36manim_to_html\u001b[1;34m(anim)\u001b[0m\n\u001b[0;32m      9\u001b[0m     \u001b[1;32mif\u001b[0m \u001b[1;32mnot\u001b[0m \u001b[0mhasattr\u001b[0m\u001b[1;33m(\u001b[0m\u001b[0manim\u001b[0m\u001b[1;33m,\u001b[0m \u001b[1;34m'_encoded_video'\u001b[0m\u001b[1;33m)\u001b[0m\u001b[1;33m:\u001b[0m\u001b[1;33m\u001b[0m\u001b[0m\n\u001b[0;32m     10\u001b[0m         \u001b[1;32mwith\u001b[0m \u001b[0mNamedTemporaryFile\u001b[0m\u001b[1;33m(\u001b[0m\u001b[0msuffix\u001b[0m\u001b[1;33m=\u001b[0m\u001b[1;34m'.mp4'\u001b[0m\u001b[1;33m)\u001b[0m \u001b[1;32mas\u001b[0m \u001b[0mf\u001b[0m\u001b[1;33m:\u001b[0m\u001b[1;33m\u001b[0m\u001b[0m\n\u001b[1;32m---> 11\u001b[1;33m             \u001b[0manim\u001b[0m\u001b[1;33m.\u001b[0m\u001b[0msave\u001b[0m\u001b[1;33m(\u001b[0m\u001b[0mf\u001b[0m\u001b[1;33m.\u001b[0m\u001b[0mname\u001b[0m\u001b[1;33m,\u001b[0m \u001b[0mfps\u001b[0m\u001b[1;33m=\u001b[0m\u001b[1;36m20\u001b[0m\u001b[1;33m,\u001b[0m \u001b[0mcodec\u001b[0m\u001b[1;33m=\u001b[0m\u001b[1;34m'libx264'\u001b[0m\u001b[1;33m)\u001b[0m\u001b[1;31m#, extra_args=['-vcodec', 'libx264'])\u001b[0m\u001b[1;33m\u001b[0m\u001b[0m\n\u001b[0m\u001b[0;32m     12\u001b[0m             \u001b[0mvideo\u001b[0m \u001b[1;33m=\u001b[0m \u001b[0mopen\u001b[0m\u001b[1;33m(\u001b[0m\u001b[0mf\u001b[0m\u001b[1;33m.\u001b[0m\u001b[0mname\u001b[0m\u001b[1;33m,\u001b[0m \u001b[1;34m\"rb\"\u001b[0m\u001b[1;33m)\u001b[0m\u001b[1;33m.\u001b[0m\u001b[0mread\u001b[0m\u001b[1;33m(\u001b[0m\u001b[1;33m)\u001b[0m\u001b[1;33m\u001b[0m\u001b[0m\n\u001b[0;32m     13\u001b[0m         \u001b[0manim\u001b[0m\u001b[1;33m.\u001b[0m\u001b[0m_encoded_video\u001b[0m \u001b[1;33m=\u001b[0m \u001b[0mvideo\u001b[0m\u001b[1;33m.\u001b[0m\u001b[0mencode\u001b[0m\u001b[1;33m(\u001b[0m\u001b[1;34m\"base64\"\u001b[0m\u001b[1;33m)\u001b[0m\u001b[1;33m\u001b[0m\u001b[0m\n",
      "\u001b[1;32m/usr/local/lib/python2.7/dist-packages/matplotlib/animation.pyc\u001b[0m in \u001b[0;36msave\u001b[1;34m(self, filename, writer, fps, dpi, codec, bitrate, extra_args, metadata, extra_anim, savefig_kwargs)\u001b[0m\n\u001b[0;32m    807\u001b[0m                 \u001b[1;32mfor\u001b[0m \u001b[0manim\u001b[0m\u001b[1;33m,\u001b[0m \u001b[0md\u001b[0m \u001b[1;32min\u001b[0m \u001b[0mzip\u001b[0m\u001b[1;33m(\u001b[0m\u001b[0mall_anim\u001b[0m\u001b[1;33m,\u001b[0m \u001b[0mdata\u001b[0m\u001b[1;33m)\u001b[0m\u001b[1;33m:\u001b[0m\u001b[1;33m\u001b[0m\u001b[0m\n\u001b[0;32m    808\u001b[0m                     \u001b[1;31m# TODO: Need to see if turning off blit is really necessary\u001b[0m\u001b[1;33m\u001b[0m\u001b[1;33m\u001b[0m\u001b[0m\n\u001b[1;32m--> 809\u001b[1;33m                     \u001b[0manim\u001b[0m\u001b[1;33m.\u001b[0m\u001b[0m_draw_next_frame\u001b[0m\u001b[1;33m(\u001b[0m\u001b[0md\u001b[0m\u001b[1;33m,\u001b[0m \u001b[0mblit\u001b[0m\u001b[1;33m=\u001b[0m\u001b[0mFalse\u001b[0m\u001b[1;33m)\u001b[0m\u001b[1;33m\u001b[0m\u001b[0m\n\u001b[0m\u001b[0;32m    810\u001b[0m                 \u001b[0mwriter\u001b[0m\u001b[1;33m.\u001b[0m\u001b[0mgrab_frame\u001b[0m\u001b[1;33m(\u001b[0m\u001b[1;33m**\u001b[0m\u001b[0msavefig_kwargs\u001b[0m\u001b[1;33m)\u001b[0m\u001b[1;33m\u001b[0m\u001b[0m\n\u001b[0;32m    811\u001b[0m \u001b[1;33m\u001b[0m\u001b[0m\n",
      "\u001b[1;32m/usr/local/lib/python2.7/dist-packages/matplotlib/animation.pyc\u001b[0m in \u001b[0;36m_draw_next_frame\u001b[1;34m(self, framedata, blit)\u001b[0m\n\u001b[0;32m    844\u001b[0m         \u001b[1;31m# post- draw, as well as the drawing of the frame itself.\u001b[0m\u001b[1;33m\u001b[0m\u001b[1;33m\u001b[0m\u001b[0m\n\u001b[0;32m    845\u001b[0m         \u001b[0mself\u001b[0m\u001b[1;33m.\u001b[0m\u001b[0m_pre_draw\u001b[0m\u001b[1;33m(\u001b[0m\u001b[0mframedata\u001b[0m\u001b[1;33m,\u001b[0m \u001b[0mblit\u001b[0m\u001b[1;33m)\u001b[0m\u001b[1;33m\u001b[0m\u001b[0m\n\u001b[1;32m--> 846\u001b[1;33m         \u001b[0mself\u001b[0m\u001b[1;33m.\u001b[0m\u001b[0m_draw_frame\u001b[0m\u001b[1;33m(\u001b[0m\u001b[0mframedata\u001b[0m\u001b[1;33m)\u001b[0m\u001b[1;33m\u001b[0m\u001b[0m\n\u001b[0m\u001b[0;32m    847\u001b[0m         \u001b[0mself\u001b[0m\u001b[1;33m.\u001b[0m\u001b[0m_post_draw\u001b[0m\u001b[1;33m(\u001b[0m\u001b[0mframedata\u001b[0m\u001b[1;33m,\u001b[0m \u001b[0mblit\u001b[0m\u001b[1;33m)\u001b[0m\u001b[1;33m\u001b[0m\u001b[0m\n\u001b[0;32m    848\u001b[0m \u001b[1;33m\u001b[0m\u001b[0m\n",
      "\u001b[1;32m/usr/local/lib/python2.7/dist-packages/matplotlib/animation.pyc\u001b[0m in \u001b[0;36m_draw_frame\u001b[1;34m(self, framedata)\u001b[0m\n\u001b[0;32m   1212\u001b[0m         \u001b[0mself\u001b[0m\u001b[1;33m.\u001b[0m\u001b[0m_drawn_artists\u001b[0m \u001b[1;33m=\u001b[0m \u001b[0mself\u001b[0m\u001b[1;33m.\u001b[0m\u001b[0m_func\u001b[0m\u001b[1;33m(\u001b[0m\u001b[0mframedata\u001b[0m\u001b[1;33m,\u001b[0m \u001b[1;33m*\u001b[0m\u001b[0mself\u001b[0m\u001b[1;33m.\u001b[0m\u001b[0m_args\u001b[0m\u001b[1;33m)\u001b[0m\u001b[1;33m\u001b[0m\u001b[0m\n\u001b[0;32m   1213\u001b[0m         \u001b[1;32mif\u001b[0m \u001b[0mself\u001b[0m\u001b[1;33m.\u001b[0m\u001b[0m_blit\u001b[0m\u001b[1;33m:\u001b[0m\u001b[1;33m\u001b[0m\u001b[0m\n\u001b[1;32m-> 1214\u001b[1;33m             \u001b[1;32mfor\u001b[0m \u001b[0ma\u001b[0m \u001b[1;32min\u001b[0m \u001b[0mself\u001b[0m\u001b[1;33m.\u001b[0m\u001b[0m_drawn_artists\u001b[0m\u001b[1;33m:\u001b[0m\u001b[1;33m\u001b[0m\u001b[0m\n\u001b[0m\u001b[0;32m   1215\u001b[0m                 \u001b[0ma\u001b[0m\u001b[1;33m.\u001b[0m\u001b[0mset_animated\u001b[0m\u001b[1;33m(\u001b[0m\u001b[0mself\u001b[0m\u001b[1;33m.\u001b[0m\u001b[0m_blit\u001b[0m\u001b[1;33m)\u001b[0m\u001b[1;33m\u001b[0m\u001b[0m\n",
      "\u001b[1;31mTypeError\u001b[0m: 'AxesImage' object is not iterable"
     ]
    },
    {
     "data": {
      "image/png": "[encoded data removed]",
      "text/plain": [
       "<matplotlib.figure.Figure at 0x7f7eacddf610>"
      ]
     },
     "metadata": {},
     "output_type": "display_data"
    }
   ],
   "source": [
    "from matplotlib import animation\n",
    "\n",
    "# First set up the figure, the axis, and the plot element we want to animate\n",
    "fig = plt.figure()\n",
    "#ax = plt.axes(xlim=(0, 2), ylim=(-2, 2))\n",
    "#line, = ax.plot([], [], lw=2)\n",
    "mySol = solveHeat(nPointsX=128, nPointsY=128, boxSize=[5,5])\n",
    "myDens = imshow(mySol.phiSol)\n",
    "colorbar(myDens,shrink=0.79)\n",
    "txt1 = plt.text(0,-3.5,' t = {0:.2f}'.format(0),verticalalignment= 'baseline')\n",
    "txt2 = plt.text(70,-3.5,'Computing time {0:.4f} sec'.format(0.0000),verticalalignment= 'baseline')\n",
    "# initialization function: plot the background of each frame\n",
    "def init():\n",
    "    #line.set_data([], [])\n",
    "    mySol = solveHeat(nPointsX=128, nPointsY=128, boxSize=[5,5])\n",
    "    myDens = imshow(mySol.phiSol)\n",
    "    colorbar(myDens,shrink=0.79)\n",
    "    txt1 = plt.text(0,-3.5,' t = {0:.2f}'.format(0),verticalalignment= 'baseline')\n",
    "    txt2 = plt.text(70,-3.5,'Computing time {0:.4f} sec'.format(0.0000),verticalalignment= 'baseline')\n",
    "    return myDens,\n",
    "\n",
    "# animation function.  This is called sequentially\n",
    "def animate(i):\n",
    "    for j in range(i):\n",
    "        mySol.rk4_CPU()\n",
    "    myDens.set_data(mySol.phiSol)\n",
    "    txt1.set_text('t = {0:.2f}'.format(mySol.iterCPU*mySol.dt))\n",
    "    txt2.set_text('Exec time CPU {0:.4f} sec'.format(sum(mySol.timeCPU)))\n",
    "    return myDens\n",
    "\n",
    "# call the animator.  blit=True means only re-draw the parts that have changed.\n",
    "anim = animation.FuncAnimation(fig, animate, init_func=init,\n",
    "                               frames=100, interval=100, blit=True)\n",
    "\n",
    "# call our new function to display the animation\n",
    "display_animation(anim)\n",
    "# if you want to save the animation, uncomment this line\n",
    "#anim.save('miAnimacion.mp4',fps=20,codec='libx264')"
   ]
  },
  {
   "cell_type": "code",
   "execution_count": null,
   "metadata": {
    "collapsed": false,
    "deletable": true,
    "editable": true
   },
   "outputs": [],
   "source": [
    "print mySol.iterCPU\n",
    "del mySol"
   ]
  },
  {
   "cell_type": "markdown",
   "metadata": {
    "deletable": true,
    "editable": true
   },
   "source": [
    "## Versiones GPU"
   ]
  },
  {
   "cell_type": "code",
   "execution_count": null,
   "metadata": {
    "collapsed": false,
    "deletable": true,
    "editable": true
   },
   "outputs": [],
   "source": [
    "#from matplotlib import animation\n",
    "\n",
    "# First set up the figure, the axis, and the plot element we want to animate\n",
    "fig = plt.figure()\n",
    "#ax = plt.axes(xlim=(0, 2), ylim=(-2, 2))\n",
    "#line, = ax.plot([], [], lw=2)\n",
    "mySol = solveHeat(nPointsX=128, nPointsY=128, boxSize=[5,5])\n",
    "mySol.initCUDA(nDev=0)\n",
    "myDens = imshow(mySol.phiSol_GPU.get())\n",
    "colorbar(myDens,shrink=0.79)\n",
    "txt1 = plt.text(0,-3.5,' t = {0:.2f}'.format(0),verticalalignment= 'baseline')\n",
    "txt2 = plt.text(30,-3.5,'Exec time GPU (Global Mem) {0:.4f} sec'.format(0.0000),verticalalignment= 'baseline')\n",
    "# initialization function: plot the background of each frame\n",
    "def init():\n",
    "    #line.set_data([], [])\n",
    "    mySol = solveHeat(nPointsX=128, nPointsY=128, boxSize=[5,5])\n",
    "    return mySol,\n",
    "\n",
    "# animation function.  This is called sequentially\n",
    "def animate(i):\n",
    "    for j in range(i):\n",
    "        mySol.rk4_GPU_global()\n",
    "    myDens.set_data(mySol.phiSol_GPU.get())\n",
    "    txt1.set_text('t = {0:.2f}'.format(mySol.iterGPU*mySol.dt))\n",
    "    txt2.set_text('Exec time GPU (Global Mem) {0:.4f} sec'.format(sum(mySol.timeGlobal)))\n",
    "    return myDens\n",
    "\n",
    "# call the animator.  blit=True means only re-draw the parts that have changed.\n",
    "anim = animation.FuncAnimation(fig, animate, init_func=init,\n",
    "                               frames=100, interval=100, blit=True)\n",
    "\n",
    "# call our new function to display the animation\n",
    "display_animation(anim)\n",
    "# if you want to save the animation, uncomment this line\n",
    "#anim.save('miAnimacion.mp4',fps=20,codec='libx264')"
   ]
  },
  {
   "cell_type": "code",
   "execution_count": null,
   "metadata": {
    "collapsed": false,
    "deletable": true,
    "editable": true
   },
   "outputs": [],
   "source": [
    "mySol.freeMemoryGPU()\n",
    "del mySol"
   ]
  },
  {
   "cell_type": "code",
   "execution_count": null,
   "metadata": {
    "collapsed": false,
    "deletable": true,
    "editable": true
   },
   "outputs": [],
   "source": [
    "from matplotlib import animation\n",
    "\n",
    "# First set up the figure, the axis, and the plot element we want to animate\n",
    "fig = plt.figure()\n",
    "#ax = plt.axes(xlim=(0, 2), ylim=(-2, 2))\n",
    "#line, = ax.plot([], [], lw=2)\n",
    "mySol = solveHeat(nPointsX=128, nPointsY=128, boxSize=[5,5])\n",
    "mySol.initCUDA()\n",
    "myDens = imshow(mySol.phiSol_GPU.get())\n",
    "colorbar(myDens,shrink=0.79)\n",
    "txt1 = plt.text(0,-3.5,' t = {0:.2f}'.format(0),verticalalignment= 'baseline')\n",
    "txt2 = plt.text(30,-3.5,'Exec time GPU (Shared Mem) sec'.format(0.0000),verticalalignment= 'baseline')\n",
    "# initialization function: plot the background of each frame\n",
    "def init():\n",
    "    #line.set_data([], [])\n",
    "    mySol = solveHeat(nPointsX=128, nPointsY=128, boxSize=[5,5])\n",
    "    return mySol,\n",
    "\n",
    "# animation function.  This is called sequentially\n",
    "def animate(i):\n",
    "    for j in range(i):\n",
    "        mySol.rk4_GPU_shared()\n",
    "    myDens.set_data(mySol.phiSol_GPU.get())\n",
    "    txt1.set_text('t = {0:.2f}'.format(mySol.iterGPU*mySol.dt))\n",
    "    txt2.set_text('Exec time GPU (Shared Mem) {0:.4f} sec'.format(sum(mySol.timeShared)))\n",
    "    return myDens\n",
    "\n",
    "# call the animator.  blit=True means only re-draw the parts that have changed.\n",
    "anim = animation.FuncAnimation(fig, animate, init_func=init,\n",
    "                               frames=100, interval=100, blit=True)\n",
    "\n",
    "# call our new function to display the animation\n",
    "display_animation(anim)\n",
    "# if you want to save the animation, uncomment this line\n",
    "#anim.save('miAnimacion.mp4',fps=20,codec='libx264')"
   ]
  },
  {
   "cell_type": "code",
   "execution_count": null,
   "metadata": {
    "collapsed": false,
    "deletable": true,
    "editable": true
   },
   "outputs": [],
   "source": [
    "mySol.freeMemoryGPU()\n",
    "del mySol"
   ]
  },
  {
   "cell_type": "code",
   "execution_count": null,
   "metadata": {
    "collapsed": false,
    "deletable": true,
    "editable": true
   },
   "outputs": [],
   "source": [
    "from matplotlib import animation\n",
    "\n",
    "# First set up the figure, the axis, and the plot element we want to animate\n",
    "fig = plt.figure()\n",
    "#ax = plt.axes(xlim=(0, 2), ylim=(-2, 2))\n",
    "#line, = ax.plot([], [], lw=2)\n",
    "mySol = solveHeat(nPointsX=128, nPointsY=128, boxSize=[5,5])\n",
    "mySol.initCUDA()\n",
    "myDens = imshow(mySol.phiSol_GPU.get())\n",
    "colorbar(myDens,shrink=0.79)\n",
    "txt1 = plt.text(0,-3.5,' t = {0:.2f}'.format(0),verticalalignment= 'baseline')\n",
    "txt2 = plt.text(30,-3.5,'Exec time GPU (Tex-Surf Mem) sec'.format(0.0000),verticalalignment= 'baseline')\n",
    "# initialization function: plot the background of each frame\n",
    "def init():\n",
    "    #line.set_data([], [])\n",
    "    mySol = solveHeat(nPointsX=128, nPointsY=128, boxSize=[5,5])\n",
    "    return mySol,\n",
    "\n",
    "# animation function.  This is called sequentially\n",
    "def animate(i):\n",
    "    for j in range(i):\n",
    "        mySol.rk4_GPU_tex()\n",
    "    myDens.set_data(mySol.phiSol_GPU.get())\n",
    "    txt1.set_text('t = {0:.2f}'.format(mySol.iterGPU*mySol.dt))\n",
    "    txt2.set_text('Exec time GPU (Tex-Surf Mem) {0:.4f} sec'.format(sum(mySol.timeTex)))\n",
    "    return myDens\n",
    "\n",
    "# call the animator.  blit=True means only re-draw the parts that have changed.\n",
    "anim = animation.FuncAnimation(fig, animate, init_func=init,\n",
    "                               frames=100, interval=100, blit=True)\n",
    "\n",
    "# call our new function to display the animation\n",
    "display_animation(anim)\n",
    "# if you want to save the animation, uncomment this line\n",
    "#anim.save('miAnimacion.mp4',fps=20,codec='libx264')"
   ]
  },
  {
   "cell_type": "code",
   "execution_count": null,
   "metadata": {
    "collapsed": false,
    "deletable": true,
    "editable": true
   },
   "outputs": [],
   "source": [
    "mySol.freeMemoryGPU()\n",
    "del mySol"
   ]
  },
  {
   "cell_type": "markdown",
   "metadata": {
    "deletable": true,
    "editable": true
   },
   "source": [
    "Code based on: \n",
    ">http://nbviewer.ipython.org/url/jakevdp.github.io/downloads/notebooks/AnimationEmbedding.ipynb"
   ]
  },
  {
   "cell_type": "markdown",
   "metadata": {
    "deletable": true,
    "editable": true
   },
   "source": [
    "## Rendimiento"
   ]
  },
  {
   "cell_type": "markdown",
   "metadata": {
    "deletable": true,
    "editable": true
   },
   "source": [
    "Ahora solo variemos en numero N de la malla cuadrada $N^2$ en la que resolvemos el problema .. Version corregida!"
   ]
  },
  {
   "cell_type": "code",
   "execution_count": null,
   "metadata": {
    "collapsed": false,
    "deletable": true,
    "editable": true
   },
   "outputs": [],
   "source": [
    "nPoints = [128,256,1024,2048,4096,8192]"
   ]
  },
  {
   "cell_type": "code",
   "execution_count": null,
   "metadata": {
    "collapsed": false,
    "deletable": true,
    "editable": true
   },
   "outputs": [],
   "source": [
    "meanVsSize_CPU    = []\n",
    "meanVsSize_Global  = []\n",
    "meanVsSize_Shared = []\n",
    "meanVsSize_Tex      = []\n",
    "meanVsSizeTotal_CPU    = []\n",
    "meanVsSizeTotal_Global  = []\n",
    "meanVsSizeTotal_Shared = []\n",
    "meanVsSizeTotal_Tex      = []\n",
    "for i in nPoints:\n",
    "    solution = solveHeat(nPointsX=i, nPointsY=i, boxSize=[5,5])\n",
    "    solution.initCUDA(nDev=0)\n",
    "    nLoop = 100\n",
    "    for i in range(nLoop): solution.rk4_CPU()\n",
    "    for i in range(nLoop): solution.rk4_GPU_global()\n",
    "    meanVsSize_CPU.append(mean(solution.timeCPU))\n",
    "    meanVsSize_Global.append(mean(solution.timeGlobal))\n",
    "    meanVsSizeTotal_CPU.append(sum(solution.timeCPU))\n",
    "    meanVsSizeTotal_Global.append(sum(solution.timeGlobal))\n",
    "    solution.freeMemoryGPU()\n",
    "    \n",
    "    solution.__init__(nPointsX=i, nPointsY=i, boxSize=[5,5])\n",
    "    solution.initCUDA(nDev=0)\n",
    "    for i in range(nLoop): solution.rk4_GPU_shared()\n",
    "    meanVsSize_Shared.append(mean(solution.timeShared))\n",
    "    meanVsSizeTotal_Shared.append(sum(solution.timeShared))\n",
    "    solution.freeMemoryGPU()\n",
    "    \n",
    "    solution.__init__(nPointsX=i, nPointsY=i, boxSize=[5,5])\n",
    "    solution.initCUDA(nDev=0)\n",
    "    for i in range(nLoop): solution.rk4_GPU_tex()\n",
    "    meanVsSize_Tex.append(mean(solution.timeTex))\n",
    "    meanVsSizeTotal_Tex.append(sum(solution.timeTex))\n",
    "    solution.freeMemoryGPU()\n",
    "    \n",
    "    del solution"
   ]
  },
  {
   "cell_type": "code",
   "execution_count": null,
   "metadata": {
    "collapsed": false,
    "deletable": true,
    "editable": true
   },
   "outputs": [],
   "source": [
    "plt.figure(1,figsize=(12,8),dpi=200)\n",
    "plt.semilogx(nPoints,meanVsSize_CPU,'r-.*',label='CPU',linewidth=5.0,alpha=0.5)\n",
    "plt.semilogx(nPoints,meanVsSize_Global,'b-*',label='Global',linewidth=3.0,alpha=0.9)\n",
    "plt.semilogx(nPoints,meanVsSize_Shared,'g-*',label='Shared',linewidth=3.0,alpha=0.5)\n",
    "plt.semilogx(nPoints,meanVsSize_Tex,'b--o',label='Texture-Surf',linewidth=3.0,alpha=0.5)\n",
    "plt.ylabel('Mean time per iteration (seg)')\n",
    "plt.xlabel('Matrix Dimension')\n",
    "plt.title(cardName+' (Single precision)')\n",
    "#plt.xlim(xmin=250,xmax=2**13.1)\n",
    "plt.legend(loc=2,labelspacing=0.5,fancybox=True, handlelength=3.5, borderaxespad=0.25, borderpad=0.25)\n",
    "plt.xticks(nPoints, nPoints, rotation='vertical')"
   ]
  },
  {
   "cell_type": "code",
   "execution_count": null,
   "metadata": {
    "collapsed": true,
    "deletable": true,
    "editable": true
   },
   "outputs": [],
   "source": []
  },
  {
   "cell_type": "code",
   "execution_count": null,
   "metadata": {
    "collapsed": false,
    "deletable": true,
    "editable": true
   },
   "outputs": [],
   "source": [
    "plt.figure(1,figsize=(12,8),dpi=200)\n",
    "plt.semilogx(nPoints,meanVsSizeTotal_CPU,'r-.*',label='CPU',linewidth=5.0,alpha=0.5)\n",
    "plt.semilogx(nPoints,meanVsSizeTotal_Global,'b-*',label='Global',linewidth=3.0,alpha=0.9)\n",
    "plt.semilogx(nPoints,meanVsSizeTotal_Shared,'g-*',label='Shared',linewidth=3.0,alpha=0.5)\n",
    "plt.semilogx(nPoints,meanVsSizeTotal_Tex,'b--o',label='Texture-Surf',linewidth=3.0,alpha=0.5)\n",
    "plt.ylabel('Total time per 1000 iterations (seg)')\n",
    "plt.xlabel('Matrix Dimension')\n",
    "plt.title(cardName+' (Single precision)')\n",
    "#plt.xlim(xmin=250,xmax=2**13.1)\n",
    "plt.legend(loc=2,labelspacing=0.5,fancybox=True, handlelength=3.5, borderaxespad=0.25, borderpad=0.25)\n",
    "plt.xticks(nPoints, nPoints, rotation='vertical')"
   ]
  },
  {
   "cell_type": "code",
   "execution_count": null,
   "metadata": {
    "collapsed": false,
    "deletable": true,
    "editable": true
   },
   "outputs": [],
   "source": [
    "plt.figure(1,figsize=(12,8),dpi=200)\n",
    "#plt.semilogx(nPoints,meanVsSize_CPU,'r-.*',label='CPU',linewidth=5.0,alpha=0.5)\n",
    "plt.semilogx(nPoints,meanVsSize_Global,'b-*',label='Global',linewidth=3.0,alpha=0.9)\n",
    "plt.semilogx(nPoints,meanVsSize_Shared,'g-*',label='Shared',linewidth=3.0,alpha=0.5)\n",
    "plt.semilogx(nPoints,meanVsSize_Tex,'b--o',label='Texture-Surf',linewidth=3.0,alpha=0.5)\n",
    "plt.ylabel('Mean time per iteration (seg)')\n",
    "plt.xlabel('N')\n",
    "plt.title(cardName+' (Single precision)')\n",
    "#plt.xlim(xmin=250,xmax=2**13.1)\n",
    "plt.legend(loc=2,labelspacing=0.5,fancybox=True, handlelength=3.5, borderaxespad=0.25, borderpad=0.25)\n",
    "plt.xticks(nPoints, nPoints, rotation='vertical')"
   ]
  },
  {
   "cell_type": "code",
   "execution_count": null,
   "metadata": {
    "collapsed": false,
    "deletable": true,
    "editable": true
   },
   "outputs": [],
   "source": [
    "plt.figure(1,figsize=(12,8),dpi=200)\n",
    "#plt.semilogx(nPoints,meanVsSizeTotal_CPU,'r-.*',label='CPU',linewidth=5.0,alpha=0.5)\n",
    "plt.semilogx(nPoints,meanVsSizeTotal_Global,'b-*',label='Global',linewidth=3.0,alpha=0.9)\n",
    "plt.semilogx(nPoints,meanVsSizeTotal_Shared,'g-*',label='Shared',linewidth=3.0,alpha=0.5)\n",
    "plt.semilogx(nPoints,meanVsSizeTotal_Tex,'b--o',label='Texture-Surf',linewidth=3.0,alpha=0.5)\n",
    "plt.ylabel('Total time per 1000 iterations (seg)')\n",
    "plt.xlabel('Matrix Dimension')\n",
    "plt.title(cardName+' (Single precision)')\n",
    "#plt.xlim(xmin=250,xmax=2**13.1)\n",
    "plt.legend(loc=2,labelspacing=0.5,fancybox=True, handlelength=3.5, borderaxespad=0.25, borderpad=0.25)\n",
    "plt.xticks(nPoints, nPoints, rotation='vertical')"
   ]
  },
  {
   "cell_type": "code",
   "execution_count": null,
   "metadata": {
    "collapsed": false,
    "deletable": true,
    "editable": true
   },
   "outputs": [],
   "source": [
    "meanVsSizeTotal_CPU[-1]"
   ]
  },
  {
   "cell_type": "code",
   "execution_count": null,
   "metadata": {
    "collapsed": false,
    "deletable": true,
    "editable": true
   },
   "outputs": [],
   "source": [
    "meanVsSizeTotal_Tex[-1]"
   ]
  },
  {
   "cell_type": "code",
   "execution_count": null,
   "metadata": {
    "collapsed": false,
    "deletable": true,
    "editable": true
   },
   "outputs": [],
   "source": [
    "SpeedUPMaxDim = meanVsSizeTotal_CPU[-1]/meanVsSizeTotal_Tex[-1]\n",
    "SpeedUPMaxDim"
   ]
  },
  {
   "cell_type": "markdown",
   "metadata": {
    "deletable": true,
    "editable": true
   },
   "source": [
    "HEll YEAAAHHHH!!!!!!!!!!!, BUT I HAVE A SLOW CPU, typicaly the speed up is about x100 over a decent CPU (just one thread)"
   ]
  },
  {
   "cell_type": "markdown",
   "metadata": {
    "deletable": true,
    "editable": true
   },
   "source": [
    "## Kernels usados"
   ]
  },
  {
   "cell_type": "code",
   "execution_count": null,
   "metadata": {
    "collapsed": false,
    "deletable": true,
    "editable": true
   },
   "outputs": [],
   "source": [
    "%load CUDAkernels.cu"
   ]
  },
  {
   "cell_type": "code",
   "execution_count": null,
   "metadata": {
    "collapsed": false,
    "deletable": true,
    "editable": true
   },
   "outputs": [],
   "source": [
    "#include <cuda_runtime.h>\n",
    "#include <pycuda-complex.hpp>\n",
    "#include <pycuda-helpers.hpp>\n",
    "#include <surface_functions.h>\n",
    "texture< fp_tex_float, cudaTextureType2D, cudaReadModeElementType> myTexture;\n",
    "surface< void, 2> mySurf;\n",
    "\n",
    "__global__ void globalRK4( float *phi_new, float *phiK1, float *phiK2, float diffusionC, float coef, float dt, float dx, float dy){\n",
    "\n",
    "int tid_x = blockDim.x * blockIdx.x + threadIdx.x;\n",
    "int tid_y = blockDim.y * blockIdx.y + threadIdx.y;\n",
    "int tid   = gridDim.x * blockDim.x * tid_y + tid_x;\n",
    "// Other indices\n",
    "if (tid_x < blockDim.x*gridDim.x-1 && tid_x > 0 ){\n",
    "  \n",
    "  if (tid_y < blockDim.y*gridDim.y-1 && tid_y > 0 ){\n",
    "    \n",
    "    float laplax = 0.0;\n",
    "    float laplay = 0.0;\n",
    "    float idx = 1.0/dx;\n",
    "    float idy = 1.0/dy;\n",
    "    // k1_i+1,j\n",
    "    int tid_aux = gridDim.x * blockDim.x * tid_y + tid_x + 1;\n",
    "    laplax = phiK1[tid_aux]-2.0f*phiK1[tid];\n",
    "    // k1_i-1,j\n",
    "    tid_aux = gridDim.x * blockDim.x * tid_y + tid_x - 1;\n",
    "    laplax += phiK1[tid_aux];\n",
    "    laplax *= idx*idx;\n",
    "    // k1_i,j+1\n",
    "    tid_aux = gridDim.x * blockDim.x * (tid_y+1) + tid_x;\n",
    "    laplay = phiK1[tid_aux]-2.0f*phiK1[tid];\n",
    "    // k1_i,j-1\n",
    "    tid_aux = gridDim.x * blockDim.x * (tid_y-1) + tid_x;\n",
    "    laplay += phiK1[tid_aux];\n",
    "    laplay *= idy*idy;\n",
    "    \n",
    "    phiK2[tid] = (laplax+laplay)*diffusionC;\n",
    "    phi_new[tid] += (laplax+laplay)*coef*dt*(1.0f/6.0f)*diffusionC;\n",
    "    \n",
    "    \n",
    "  }\n",
    "  \n",
    "}\n",
    "//else return;\n",
    "\n",
    "}\n",
    "\n",
    "__global__ void sharedRK4(float *phi, float *phi_new, float *phiK2, float coefIter, float coef, float diffusionC, float dt, float dx, float dy){\n",
    "  \n",
    "  int tid_x = blockDim.x * blockIdx.x + threadIdx.x;\n",
    "  int tid_y = blockDim.y * blockIdx.y + threadIdx.y;\n",
    "  int tid   = gridDim.x * blockDim.x * tid_y + tid_x;\n",
    "  // State\n",
    "  float state, stateK2;\n",
    "  state = phi[tid];\n",
    "  stateK2 = phiK2[tid];\n",
    "  // Shared\n",
    "  __shared__ float k1_sh[ blockDim.x ][ blockDim.y ];\n",
    "  __syncthreads();\n",
    "  k1_sh[ threadIdx.x ][ threadIdx.y ] = state + coefIter*dt*stateK2;\n",
    "  __syncthreads();\n",
    "  \n",
    "  // Calculate Laplacian\n",
    "  if (tid_x < blockDim.x*gridDim.x-1 && tid_x > 0 ){\n",
    "    if (tid_y < blockDim.y*gridDim.y-1 && tid_y > 0 ){\n",
    "      \n",
    "      float lapla=0.0;\n",
    "      float idx = 1.0/dx;\n",
    "      float idy = 1.0/dy;\n",
    "      \n",
    "      if (threadIdx.x<blockDim.x-1 && threadIdx.x>0){\n",
    "\t  lapla = k1_sh[threadIdx.x+1][ threadIdx.y ]+k1_sh[threadIdx.x-1][ threadIdx.y ] - 2.0*k1_sh[threadIdx.x][ threadIdx.y ];\n",
    "\t  }\n",
    "      else if (threadIdx.x == blockDim.x-1) lapla = (phi[tid+1]+ coefIter*dt*phiK2[tid+1]) +k1_sh[threadIdx.x-1][ threadIdx.y ] - 2.0*k1_sh[threadIdx.x][ threadIdx.y ];\n",
    "      else if (threadIdx.x == 0)            lapla = k1_sh[threadIdx.x+1][ threadIdx.y ]+ (phi[tid-1]+ coefIter*dt*phiK2[tid-1]) - 2.0*k1_sh[threadIdx.x][ threadIdx.y ];\n",
    "      lapla *= idx*idx;\n",
    "      \n",
    "      if (threadIdx.y<blockDim.y-1 && threadIdx.y>0){\n",
    "\t  lapla += (k1_sh[threadIdx.x][ threadIdx.y+1 ]+k1_sh[threadIdx.x][ threadIdx.y-1 ]- 2.0*k1_sh[threadIdx.x][ threadIdx.y ])*idy*idy;}\n",
    "      else if (threadIdx.y == blockDim.y-1) lapla += ((phi[gridDim.y * blockDim.y * (tid_y+1) + tid_x]+ coefIter*dt*phiK2[gridDim.x * blockDim.x * (tid_y+1) + tid_x])+k1_sh[threadIdx.x][ threadIdx.y-1 ]- 2.0*k1_sh[threadIdx.x][ threadIdx.y ])*idy*idy;\n",
    "      else if (threadIdx.y == 0)            lapla += (k1_sh[threadIdx.x][ threadIdx.y+1 ] + (phi[gridDim.x * blockDim.x * (tid_y-1) + tid_x]+ coefIter*dt*phiK2[gridDim.x * blockDim.x * (tid_y-1) + tid_x])- 2.0*k1_sh[threadIdx.x][ threadIdx.y ])*idy*idy;\n",
    "\n",
    "      lapla *= diffusionC;\n",
    "      phiK2[tid] = lapla;\n",
    "      phi_new[tid] += coef*dt*(1.0f/6.0f)*lapla;\n",
    "    }}\n",
    "  \n",
    "  \n",
    "}\n",
    "\n",
    "__global__ void textureRK4(float *phi, float *phi_new, float diffusionC, float coef, float coefIter, float dt, float dx, float dy, int lastStep){\n",
    "  \n",
    "  int tid_x = blockDim.x * blockIdx.x + threadIdx.x;\n",
    "  int tid_y = blockDim.y * blockIdx.y + threadIdx.y;\n",
    "  int tid   = gridDim.x * blockDim.x * tid_y + tid_x;\n",
    "  float center, left, right;\n",
    "  float up, down;\n",
    "  center = fp_tex2D(myTexture, (float)tid_x,   (float)tid_y);\n",
    "  left   = fp_tex2D(myTexture, (float)tid_x-1, (float)tid_y);\n",
    "  right  = fp_tex2D(myTexture, (float)tid_x+1, (float)tid_y);\n",
    "  up     = fp_tex2D(myTexture, (float)tid_x,   (float)tid_y+1);\n",
    "  down   = fp_tex2D(myTexture, (float)tid_x,   (float)tid_y-1);\n",
    "  \n",
    "  float lapla=0.0;\n",
    "  float idx=1.0/dx;\n",
    "  float idy=1.0/dy;\n",
    "  lapla = (left+right-2.0*center)*idx*idx+(up+down-2.0*center)*idy*idy;\n",
    "  lapla *= diffusionC;\n",
    "  \n",
    "  // Boundary\n",
    "  if (tid_x == blockDim.x*gridDim.x-1 or tid_x == 0 or tid_y == blockDim.y*gridDim.y-1 or tid_y == 0) lapla = 0.0;\n",
    "  float phi_o = phi[tid];\n",
    "  float k1_next = phi_o + coefIter*dt*lapla;\n",
    "  surf2Dwrite( k1_next , mySurf, tid_x*sizeof(float), tid_y,  cudaBoundaryModeClamp);\n",
    "  \n",
    "  phi_new[tid] += coef*dt*(1.0f/6.0f)*lapla;\n",
    "  \n",
    "  if (lastStep == 1){\n",
    "    phi[tid] = phi_new[tid];\n",
    "    surf2Dwrite( phi_o , mySurf, tid_x*sizeof(float), tid_y,  cudaBoundaryModeClamp);\n",
    "  }\n",
    "  \n",
    "}"
   ]
  },
  {
   "cell_type": "markdown",
   "metadata": {
    "deletable": true,
    "editable": true
   },
   "source": [
    "### Referencias"
   ]
  },
  {
   "cell_type": "markdown",
   "metadata": {
    "deletable": true,
    "editable": true
   },
   "source": [
    "1. http://www.sciencedirect.com/science/article/pii/S0168927413000627"
   ]
  }
 ],
 "metadata": {
  "kernelspec": {
   "display_name": "Python 2",
   "language": "python",
   "name": "python2"
  },
  "language_info": {
   "codemirror_mode": {
    "name": "ipython",
    "version": 2
   },
   "file_extension": ".py",
   "mimetype": "text/x-python",
   "name": "python",
   "nbconvert_exporter": "python",
   "pygments_lexer": "ipython2",
   "version": "2.7.12"
  }
 },
 "nbformat": 4,
 "nbformat_minor": 0
}
