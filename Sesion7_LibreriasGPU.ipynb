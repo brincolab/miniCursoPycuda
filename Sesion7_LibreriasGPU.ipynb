{
 "metadata": {
  "name": "",
  "signature": "sha256:6df32cf8301f560a0f24c6cb879371dc83e79781b9604e5b543616100077b24f"
 },
 "nbformat": 3,
 "nbformat_minor": 0,
 "worksheets": [
  {
   "cells": [
    {
     "cell_type": "heading",
     "level": 2,
     "metadata": {},
     "source": [
      "pyFFT"
     ]
    },
    {
     "cell_type": "markdown",
     "metadata": {},
     "source": [
      "    With this function library is possible to use FFT under CUDA schema. We can test the performance for distinct size dimensions. We test aginst numpy functions"
     ]
    },
    {
     "cell_type": "heading",
     "level": 3,
     "metadata": {},
     "source": [
      "1 Dimension"
     ]
    },
    {
     "cell_type": "code",
     "collapsed": false,
     "input": [
      "%pylab inline\n",
      "from pycuda import gpuarray, autoinit\n",
      "from pyfft.cuda import Plan"
     ],
     "language": "python",
     "metadata": {},
     "outputs": [
      {
       "output_type": "stream",
       "stream": "stdout",
       "text": [
        "Populating the interactive namespace from numpy and matplotlib\n"
       ]
      }
     ],
     "prompt_number": 1
    },
    {
     "cell_type": "markdown",
     "metadata": {},
     "source": [
      "    Initializing data on CPU and the copy to GPU "
     ]
    },
    {
     "cell_type": "code",
     "collapsed": false,
     "input": [
      "A_CPU = random.random(1024).astype(complex64)\n",
      "A_GPU = gpuarray.to_gpu(A_CPU)"
     ],
     "language": "python",
     "metadata": {},
     "outputs": [],
     "prompt_number": 2
    },
    {
     "cell_type": "code",
     "collapsed": false,
     "input": [
      "A_GPU.size"
     ],
     "language": "python",
     "metadata": {},
     "outputs": [
      {
       "metadata": {},
       "output_type": "pyout",
       "prompt_number": 3,
       "text": [
        "1024"
       ]
      }
     ],
     "prompt_number": 3
    },
    {
     "cell_type": "code",
     "collapsed": true,
     "input": [
      "myFFTPlan = Plan(1024,dtype=complex64)"
     ],
     "language": "python",
     "metadata": {},
     "outputs": [],
     "prompt_number": 4
    },
    {
     "cell_type": "code",
     "collapsed": true,
     "input": [
      "myFFTPlan.execute(A_GPU)"
     ],
     "language": "python",
     "metadata": {},
     "outputs": [],
     "prompt_number": 5
    },
    {
     "cell_type": "markdown",
     "metadata": {},
     "source": [
      "    Now in 'A_GPU' it is stored its trandsform. I mean we ocverwrite the original array with the FFT, if you put two arguments this overwrite is avoided."
     ]
    },
    {
     "cell_type": "code",
     "collapsed": true,
     "input": [
      "FFT_A_CPU = fft.fft(A_CPU)"
     ],
     "language": "python",
     "metadata": {},
     "outputs": [],
     "prompt_number": 6
    },
    {
     "cell_type": "code",
     "collapsed": false,
     "input": [
      "plot(abs(FFT_A_CPU))\n",
      "plot(20+abs(A_GPU.get()))\n",
      "ylim(0,100)"
     ],
     "language": "python",
     "metadata": {},
     "outputs": [
      {
       "metadata": {},
       "output_type": "pyout",
       "prompt_number": 7,
       "text": [
        "(0, 100)"
       ]
      },
      {
       "metadata": {},
       "output_type": "display_data",
       "png": "[encoded data removed]",
       "text": [
        "<matplotlib.figure.Figure at 0x7ff8607a7750>"
       ]
      }
     ],
     "prompt_number": 7
    },
    {
     "cell_type": "code",
     "collapsed": false,
     "input": [
      "A_GPU.gpudata.free() # Free the memory space in GPU device"
     ],
     "language": "python",
     "metadata": {},
     "outputs": [],
     "prompt_number": 8
    },
    {
     "cell_type": "heading",
     "level": 3,
     "metadata": {},
     "source": [
      "3 Dimensions and Performance"
     ]
    },
    {
     "cell_type": "code",
     "collapsed": true,
     "input": [
      "from time import time\n",
      "import pycuda.driver as drv\n",
      "start = drv.Event()\n",
      "end = drv.Event()"
     ],
     "language": "python",
     "metadata": {},
     "outputs": [],
     "prompt_number": 9
    },
    {
     "cell_type": "code",
     "collapsed": true,
     "input": [
      "dimensions = [128,256,512]\n",
      "prec = complex64"
     ],
     "language": "python",
     "metadata": {},
     "outputs": [],
     "prompt_number": 10
    },
    {
     "cell_type": "code",
     "collapsed": true,
     "input": [
      "timeCPU = []\n",
      "timeGPU = []\n",
      "timeCPY = []"
     ],
     "language": "python",
     "metadata": {},
     "outputs": [],
     "prompt_number": 21
    },
    {
     "cell_type": "code",
     "collapsed": false,
     "input": [
      "for d in dimensions:\n",
      "    A_CPU = random.random((d,d,d)).astype(prec)\n",
      "    t = time()\n",
      "    A_GPU = gpuarray.to_gpu(A_CPU)\n",
      "    timeCPY.append(time()-t)\n",
      "    \n",
      "    \n",
      "    t = time()\n",
      "    FFT_A_CPU = fft.fft(A_CPU)\n",
      "    timeCPU.append(time()-t)\n",
      "    \n",
      "    myFFTPlan = Plan((d,d,d),dtype=prec)\n",
      "    start.record()\n",
      "    myFFTPlan.execute(A_GPU)\n",
      "    end.record()\n",
      "    end.synchronize()\n",
      "    secs = start.time_till(end)*1e-3\n",
      "    timeGPU.append(secs)\n",
      "    \n",
      "    A_GPU.gpudata.free()"
     ],
     "language": "python",
     "metadata": {},
     "outputs": [],
     "prompt_number": 22
    },
    {
     "cell_type": "code",
     "collapsed": false,
     "input": [
      "plot(dimensions,timeGPU,'r*-',label='GPU')\n",
      "plot(dimensions,timeCPU,'g*-',label='CPU')\n",
      "plot(dimensions,2*array(timeCPY),'b*-',label='CPU2GPU')\n",
      "plt.xticks(dimensions, dimensions, rotation='vertical')\n",
      "ylabel('Time')\n",
      "plt.legend(loc=2,labelspacing=0.5,fancybox=True, handlelength=3.5, borderaxespad=0.25, borderpad=0.25)"
     ],
     "language": "python",
     "metadata": {},
     "outputs": [
      {
       "metadata": {},
       "output_type": "pyout",
       "prompt_number": 23,
       "text": [
        "<matplotlib.legend.Legend at 0x7ff85f885c50>"
       ]
      },
      {
       "metadata": {},
       "output_type": "display_data",
       "png": "[encoded data removed]",
       "text": [
        "<matplotlib.figure.Figure at 0x7ff86077df90>"
       ]
      }
     ],
     "prompt_number": 23
    },
    {
     "cell_type": "heading",
     "level": 2,
     "metadata": {},
     "source": [
      "reikna"
     ]
    },
    {
     "cell_type": "heading",
     "level": 2,
     "metadata": {},
     "source": [
      "scikit.cuda"
     ]
    },
    {
     "cell_type": "heading",
     "level": 1,
     "metadata": {},
     "source": [
      "pyCula"
     ]
    },
    {
     "cell_type": "heading",
     "level": 3,
     "metadata": {},
     "source": [
      "QUTIP"
     ]
    },
    {
     "cell_type": "code",
     "collapsed": false,
     "input": [
      "%load_ext version_information\n",
      "%version_information numpy, scipy, matplotlib, sympy, pycuda, pycula"
     ],
     "language": "python",
     "metadata": {},
     "outputs": [
      {
       "html": [
        "<table><tr><th>Software</th><th>Version</th></tr><tr><td>Python</td><td>2.7.6 64bit [GCC 4.8.2]</td></tr><tr><td>IPython</td><td>3.0.0-dev</td></tr><tr><td>OS</td><td>Linux 3.13.0 39 generic x86_64 with Ubuntu 14.04 trusty</td></tr><tr><td>numpy</td><td>1.9.0</td></tr><tr><td>scipy</td><td>0.14.0</td></tr><tr><td>matplotlib</td><td>1.4.2</td></tr><tr><td>sympy</td><td>0.7.5</td></tr><tr><td>pycuda</td><td>2014.1</td></tr><tr><td>pycula</td><td>0.95a1</td></tr><tr><td colspan='2'>Thu Mar 05 11:22:18 2015 CST</td></tr></table>"
       ],
       "json": [
        "{\"Software versions\":[{\"version\":\"2.7.6 64bit [GCC 4.8.2]\",\"module\":\"Python\"},{\"version\":\"3.0.0-dev\",\"module\":\"IPython\"},{\"version\":\"Linux 3.13.0 39 generic x86_64 with Ubuntu 14.04 trusty\",\"module\":\"OS\"},{\"version\":\"1.9.0\",\"module\":\"numpy\"},{\"version\":\"0.14.0\",\"module\":\"scipy\"},{\"version\":\"1.4.2\",\"module\":\"matplotlib\"},{\"version\":\"0.7.5\",\"module\":\"sympy\"},{\"version\":\"2014.1\",\"module\":\"pycuda\"},{\"version\":\"0.95a1\",\"module\":\"pycula\"}]}"
       ],
       "latex": [
        "\\begin{tabular}{|l|l|}\\hline\n",
        "{\\bf Software} & {\\bf Version} \\\\ \\hline\\hline\n",
        "Python & 2.7.6 64bit [GCC 4.8.2] \\\\ \\hline\n",
        "IPython & 3.0.0-dev \\\\ \\hline\n",
        "OS & Linux 3.13.0 39 generic x86\\_64 with Ubuntu 14.04 trusty \\\\ \\hline\n",
        "numpy & 1.9.0 \\\\ \\hline\n",
        "scipy & 0.14.0 \\\\ \\hline\n",
        "matplotlib & 1.4.2 \\\\ \\hline\n",
        "sympy & 0.7.5 \\\\ \\hline\n",
        "pycuda & 2014.1 \\\\ \\hline\n",
        "pycula & 0.95a1 \\\\ \\hline\n",
        "\\hline \\multicolumn{2}{|l|}{Thu Mar 05 11:22:18 2015 CST} \\\\ \\hline\n",
        "\\end{tabular}\n"
       ],
       "metadata": {},
       "output_type": "pyout",
       "prompt_number": 14,
       "text": [
        "Software versions\n",
        "Python 2.7.6 64bit [GCC 4.8.2]\n",
        "IPython 3.0.0-dev\n",
        "OS Linux 3.13.0 39 generic x86_64 with Ubuntu 14.04 trusty\n",
        "numpy 1.9.0\n",
        "scipy 0.14.0\n",
        "matplotlib 1.4.2\n",
        "sympy 0.7.5\n",
        "pycuda 2014.1\n",
        "pycula 0.95a1\n",
        "Thu Mar 05 11:22:18 2015 CST"
       ]
      }
     ],
     "prompt_number": 14
    },
    {
     "cell_type": "code",
     "collapsed": true,
     "input": [],
     "language": "python",
     "metadata": {},
     "outputs": [],
     "prompt_number": 14
    }
   ],
   "metadata": {}
  }
 ]
}