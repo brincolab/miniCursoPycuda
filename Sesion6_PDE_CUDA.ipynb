{
 "metadata": {
  "name": "",
  "signature": "sha256:38d94120b40851c6159f1f73f701d3344c1cf52d483f71b0a3ae6999cd290522"
 },
 "nbformat": 3,
 "nbformat_minor": 0,
 "worksheets": [
  {
   "cells": [
    {
     "cell_type": "heading",
     "level": 2,
     "metadata": {},
     "source": [
      "Implementaci\u00f3n de soluciones num\u00e9ricas a ecuaciones diferenciales  parciales (parab\u00f3licas) con CUDA."
     ]
    },
    {
     "cell_type": "markdown",
     "metadata": {},
     "source": [
      ">Aprovecharemos las ecuaciones de Difusi\u00f3n (2D) y de Schrodinger (3D) para ejemplificar el uso de distintas herrmientas de CUDA para su soluci\u00f3n num\u00e9rica. De paso veremos tambi\u00e9n el uso de algunas librerias para FFT y visualizaci\u00f3n (OpenGL)."
     ]
    },
    {
     "cell_type": "markdown",
     "metadata": {},
     "source": [
      "Pensemos en problemas del tipo:\n",
      "\n",
      "$$\\frac{\\partial \\phi(\\vec{r},t)}{\\partial t}  =  \\mathbb{L} \\left(t,\\phi,\\partial_{ii}\\phi,\\partial_{i}\\phi \\right)_{i=x,y,z}$$"
     ]
    },
    {
     "cell_type": "markdown",
     "metadata": {},
     "source": [
      "El primer problema ser\u00e1 escoger un esquema de discretizaci\u00f3n adecuado para el problema, en general podemos proponer de entrada una esquema explicito RK4 en la parte temporal y simplemente usar diferencias finitas para las derivadas espaciales."
     ]
    },
    {
     "cell_type": "heading",
     "level": 3,
     "metadata": {},
     "source": [
      "Runge-Kutta  4to orden (RK4)"
     ]
    },
    {
     "cell_type": "markdown",
     "metadata": {},
     "source": [
      "\n",
      "$$ \\dot{\\phi}(t,\\vec{r})  =   \\mathbb{L}(t,\\phi, ..)$$\n",
      "\n",
      "\n",
      "si $\\phi^n = \\phi(t_n,\\vec{r})$ con $t_n = n\\delta t$\n",
      "\n",
      "Recurrencia: $$\\phi^{n+1} = \\phi^n + \\frac{1}{6}\\delta t(k_1+2k_2+2k_3+k_4) \\\\$$\n",
      ">$$k_1 = \\mathbb{L}(t_n,\\phi^n, ..) \\\\\n",
      "  k_2 = \\mathbb{L}(t_n+\\frac{1}{2}\\delta t, \\phi^n+\\frac{1}{2} k_1 \\delta t, ..) \\\\\n",
      "  k_3 = \\mathbb{L}(t_n+\\frac{1}{2}\\delta t, \\phi^n+\\frac{1}{2} k_2 \\delta t, ..)\\\\\n",
      "  k_4 = \\mathbb{L}(t_n+\\delta t, \\phi^n + k_3 \\delta t, ..)$$\n",
      "  \n",
      "El error va como $O(\\delta t^4)$"
     ]
    },
    {
     "cell_type": "heading",
     "level": 3,
     "metadata": {},
     "source": [
      "Diferencias finitas"
     ]
    },
    {
     "cell_type": "markdown",
     "metadata": {},
     "source": [
      "Si proponemos una discretizaci\u00f3n como $x_i = i \\times h$ con $h = L / N$\n",
      "$$\\partial_x \\phi(x_i,y_j,z_k) = \\frac{\\phi(x_{i+1},y_j,z_k)-\\phi(x_{i-1},y_j,z_k)}{2 h} +O(h^2)$$\n",
      "$$\\partial_{xx} \\phi(x_i,y_j,z_k) = \\frac{\\phi(x_{i+1},y_j,z_k)- 2\\phi(x_{i},y_j,z_k) +\\phi(x_{i-1},y_j,z_k)}{h^2} +O(h^2)$$"
     ]
    },
    {
     "cell_type": "heading",
     "level": 2,
     "metadata": {},
     "source": [
      "Ecuacion de difusion (calor) (2D)"
     ]
    },
    {
     "cell_type": "markdown",
     "metadata": {},
     "source": [
      "$$\\frac{\\partial T(\\vec{r},t)}{\\partial t}  =  D\\nabla^2 T(\\vec{r},t)$$\n",
      "\n",
      "Con $D$ el coeficiente de difusi\u00f3n, si el coeficiente de difusion no es constante entonces tenemos.\n",
      "\n",
      "$$\\frac{\\partial T(\\vec{r},t)}{\\partial t}  =  \\nabla \\cdot \\left( D(\\vec{r},t) \\nabla T(\\vec{r},t)\\right)$$\n",
      "$$\\frac{\\partial T(\\vec{r},t)}{\\partial t}  =  \\nabla D(\\vec{r},t) \\cdot \\nabla T(\\vec{r},t) + D(\\vec{r},t)\\nabla^2 T(\\vec{r},t) $$\n",
      "mas la condicion inicial $T(\\vec{r},t_0), D(\\vec{r},t_0)$ asi como las condiciones de contorno"
     ]
    },
    {
     "cell_type": "markdown",
     "metadata": {},
     "source": [
      "Utilizando la discretizacion previa, impone criterios de estabilidad para el esquema:\n",
      "$$ \\delta t < \\frac{dl^2}{\\sqrt{2} \\times dim \\times D}$$\n",
      "para el caso de coeficiente de difusion contante$^1$.\n",
      ">\u00bfPara el caso no homogeneo bastaria con estimar el maximo de $D(\\vec{r},t)$?"
     ]
    },
    {
     "cell_type": "markdown",
     "metadata": {},
     "source": [
      ">Empecemos por definir el espacio para la soluci\u00f3n y usar una caja cuadrada por simplicidad, de longitud L y con una discretizaci\u00f3n de N puntos"
     ]
    },
    {
     "cell_type": "markdown",
     "metadata": {},
     "source": [
      "> Definamos una clase que se llame **solveHeat** en la cual implementaremos distintos metodos, como primer ejercision hagamos el caso CPU con la libreria de **Numpy**. \n",
      "\n",
      "En especifico resolveremos el problema de 4 fronteras a temperatura fija (T=0)  condicion inicial arbitraria"
     ]
    },
    {
     "cell_type": "heading",
     "level": 2,
     "metadata": {},
     "source": [
      "El codigo"
     ]
    },
    {
     "cell_type": "code",
     "collapsed": false,
     "input": [
      "%pylab inline"
     ],
     "language": "python",
     "metadata": {},
     "outputs": [
      {
       "output_type": "stream",
       "stream": "stdout",
       "text": [
        "Populating the interactive namespace from numpy and matplotlib\n"
       ]
      },
      {
       "output_type": "stream",
       "stream": "stderr",
       "text": [
        "WARNING: pylab import has clobbered these variables: ['diff']\n",
        "`%matplotlib` prevents importing * from pylab and numpy\n"
       ]
      }
     ],
     "prompt_number": 20
    },
    {
     "cell_type": "code",
     "collapsed": false,
     "input": [
      "class solveHeat:\n",
      "    ''' This class is for include distinct methods to solve 2D difussion equation and several implementations'''\n",
      "    def __init__(self, nPointsX = 512, nPointsY=512, boxSize=[10,10], precision = 'single' ):\n",
      "       # Parameters\n",
      "        self.nPX = nPointsX\n",
      "        self.nPY = nPointsY\n",
      "        self.Lx = boxSize[0]\n",
      "        self.Ly = boxSize[1]\n",
      "        if precision == 'single':\n",
      "            from numpy import float32\n",
      "            self.prec = float32\n",
      "            self.strC = 'float'\n",
      "        elif presicion == 'double':\n",
      "            from numpy import float64\n",
      "            self.prec = float64\n",
      "            self.strC = 'double'\n",
      "        from numpy import int32\n",
      "        self.intPrec = int32\n",
      "        # Domain\n",
      "        from numpy import linspace,ones,zeros_like,sqrt,exp,meshgrid,copy,max,min,zeros\n",
      "        from time import time\n",
      "        self.time = time\n",
      "        self.cpy = copy\n",
      "        self.max = max\n",
      "        self.min = min\n",
      "        self.x0 = -self.Lx/2.0\n",
      "        self.y0 = -self.Ly/2.0\n",
      "        xPoints = linspace(self.x0, self.Lx/2.0, self.nPX)\n",
      "        yPoints = linspace(self.y0, self.Ly/2.0, self.nPY)\n",
      "        X,Y = meshgrid(xPoints,yPoints)\n",
      "        gaussian = 2.0*exp(-X**2/0.5-Y**2/0.5)\n",
      "        #Solution\n",
      "        self.diffusionC = self.prec(0.5)\n",
      "        self.diffusionForm = '{myPrec} d = 0.1*sin(x);'.format(myPrec=self.strC)\n",
      "        self.dx = xPoints[1]-xPoints[0]\n",
      "        self.dy = yPoints[1]-yPoints[0]\n",
      "        self.phiSol = zeros((self.nPX,self.nPY),dtype=self.prec)*self.prec(0.5) +gaussian.astype(self.prec) # Initial condition\n",
      "        self.maxPhi = max(max(self.phiSol))\n",
      "        self.minPhi = min(min(self.phiSol))\n",
      "        self.phiK1 = self.cpy(self.phiSol)\n",
      "        self.phiK2 = self.cpy(self.phiSol)\n",
      "        self.phiSolNew = self.cpy(self.phiSol)\n",
      "        # Stability\n",
      "        self.dt = (self.dx*self.dx)/(sqrt(2)*2*self.diffusionC) *0.9\n",
      "        self.setBoundaryC_CPU()\n",
      "        # Performance\n",
      "        self.timeCPU = []\n",
      "        self.timeGlobal = []\n",
      "        self.timeShared = []\n",
      "        self.timeTex = []\n",
      "        self.timing = True\n",
      "        self.iterCPU = 0\n",
      "        self.iterGPU = 0\n",
      "        \n",
      "    def setBoundaryC_CPU(self):\n",
      "        self.phiSol[0,:] = self.prec(0)#self.prec(1)\n",
      "        self.phiSol[-1,:] = self.prec(0)#self.prec(1)\n",
      "        self.phiSol[:,0] = self.prec(0)#self.prec(-1)\n",
      "        self.phiSol[:,-1] = self.prec(0)#self.prec(-1)\n",
      "        #self.phiSol[:,0] = self.phiSol[:,-1]\n",
      "    \n",
      "    def rk4_CPU(self):\n",
      "        if self.timing:\n",
      "            t = self.time()\n",
      "        self.phiK1 = self.cpy(self.phiSol)\n",
      "        self.applyL(1)\n",
      "        self.phiK1 = self.phiSol + self.prec(0.5)*self.dt* self.phiK2\n",
      "        self.applyL(2)\n",
      "        self.phiK1 = self.phiSol + self.prec(0.5)*self.dt* self.phiK2\n",
      "        self.applyL(2)\n",
      "        self.phiK1 = self.phiSol + self.dt*self.phiK2\n",
      "        self.applyL(1)\n",
      "        self.phiSol =  self.cpy(self.phiSolNew)\n",
      "        self.setBoundaryC_CPU()\n",
      "        if self.timing:\n",
      "            self.timeCPU.append(self.time()-t)\n",
      "        self.iterCPU += 1\n",
      "    def applyL(self,coef):\n",
      "        #Calculate lapacian and Ki\n",
      "        invX = self.prec(1./self.dx)\n",
      "        invY = self.prec(1./self.dy)\n",
      "        self.phiK2[1:-1,1:-1] = (self.phiK1[2:,1:-1]-self.prec(2.0)*self.phiK1[1:-1,1:-1]+self.phiK1[:-2,1:-1])*invX*invX\n",
      "        self.phiK2[1:-1,1:-1] += (self.phiK1[1:-1,2:]-self.prec(2.0)*self.phiK1[1:-1,1:-1]+self.phiK1[1:-1,:-2])*invY*invY\n",
      "        self.phiK2[1:-1,1:-1]*= self.diffusionC\n",
      "        self.phiSolNew +=  self.prec(coef)*self.dt*self.prec(1./6.)* self.phiK2\n",
      "        #imshow(aux1,vmax=self.maxPhi,vmin=self.minPhi)\n",
      "        \n",
      "    def draw(self, n = 0):\n",
      "        #self.maxPhi = self.max(self.max(self.phiSol))\n",
      "        #self.minPhi = self.min(self.min(self.phiSol))\n",
      "        fig = figure(n,figsize(5,5),dpi=200)\n",
      "        im = imshow(self.phiSol,vmax=self.maxPhi,vmin=self.minPhi)\n",
      "        colorbar(im)\n",
      "    #################################################################\n",
      "    ##################### C U D A     S T U F F ##########################\n",
      "    #################################################################\n",
      "    def _setDevice(self,ndev = None):\n",
      "        ''' To use CUDA or OpenCL you need a context and a device to stablish the context o communication '''\n",
      "        import pycuda.autoinit\n",
      "        import pycuda.driver as cuda\n",
      "        \n",
      "        nDevices = cuda.Device.count()\n",
      "        print \"Available Devices:\"\n",
      "        for i in range(nDevices):\n",
      "            dev = cuda.Device( i )\n",
      "            print \"  Device {0}: {1}\".format( i, dev.name() )\n",
      "        devNumber = 0\n",
      "        if nDevices > 1:\n",
      "            if ndev == None:\n",
      "                devNumber = int(raw_input(\"Select device number: \")) \n",
      "            else:\n",
      "                devNumber = ndev\n",
      "        dev = cuda.Device( devNumber)\n",
      "        cuda.Context.pop()  #Disable previus CUDA context\n",
      "        ctxCUDA = dev.make_context()\n",
      "        print \"Using device {0}: {1}\".format( devNumber, dev.name() ) \n",
      "        self.ctxCUDA = ctxCUDA\n",
      "        self.dev = dev\n",
      "        if self.timing:\n",
      "            self.start = cuda.Event()\n",
      "            self.end = cuda.Event()\n",
      "        \n",
      "    def initCUDA(self, method = 'global', nDev = None):\n",
      "        ''' CUDA init. method can be = texture,global,shared  '''\n",
      "        from pycuda import gpuarray\n",
      "        from pycuda.compiler import SourceModule\n",
      "        # Init Device\n",
      "        if nDev == None:\n",
      "            self._setDevice()\n",
      "        else:\n",
      "            self._setDevice(ndev = nDev)\n",
      "        # Init data\n",
      "        if method == 'global':\n",
      "            self.phiSol_GPU          = gpuarray.to_gpu(self.phiSol)\n",
      "            self.phiSolNew_GPU  = gpuarray.to_gpu(self.phiSol)\n",
      "            self.phiK1_GPU          = gpuarray.to_gpu(self.phiSol)\n",
      "            self.phiK2_GPU           = gpuarray.to_gpu(self.phiSol)\n",
      "        # KERNELS\n",
      "        self._auxElementwise()\n",
      "        self.cuBlock = (32,32,1)\n",
      "        self.cuGrid   = (self.nPX/self.cuBlock[0],self.nPY/self.cuBlock[1],1)\n",
      "        cudaCode = open(\"CUDAkernels.cu\",\"r\")\n",
      "        myCUDACode = cudaCode.read()\n",
      "        downVar = ['blockDim.x','blockDim.y','blockDim.z','gridDim.x','gridDim.y','gridDim.z']\n",
      "        upVar      = [str(self.cuBlock[0]),str(self.cuBlock[1]),str(self.cuBlock[2]),str(self.cuGrid[0]),str(self.cuGrid[1]),str(self.cuGrid[2])]\n",
      "        dicVar = dict(zip(downVar,upVar))\n",
      "        for i in downVar:\n",
      "            myCUDACode = myCUDACode.replace(i,dicVar[i])\n",
      "        if self.strC == 'double':\n",
      "            myCUDACode = myCUDACode.replace('float','double')\n",
      "        self.myCUDACode = myCUDACode\n",
      "        myKernels = SourceModule(myCUDACode)\n",
      "        self.applyL_global = myKernels.get_function('globalRK4')\n",
      "        self.applyL_shared = myKernels.get_function('sharedRK4')\n",
      "        self.applyL_tex = myKernels.get_function('textureRK4')\n",
      "        self.texturePhiSol = myKernels.get_texref('myTexture')\n",
      "        self.surfacePhiSol = myKernels.get_surfref('mySurf')\n",
      "        self.CUDAarrayK1 , cpy1 = self.np3DtoCudaArray(self.phiSol, allowSurfaceBind=True, testPrec = True, prec = 'single' )\n",
      "        self.CUDAarrayK2 , cpy2 = self.np3DtoCudaArray(self.phiSol, allowSurfaceBind=True, testPrec = True, prec = 'single' )\n",
      "    \n",
      "        if self.strC == 'float':\n",
      "            self.applyL_global.prepare('PPPfffff')\n",
      "            self.applyL_shared.prepare('PPPffffff')\n",
      "            self.applyL_tex.prepare('PPffffffi',texrefs=[self.texturePhiSol])\n",
      "        else:\n",
      "            self.applyL_global.prepare('PPPddddd')\n",
      "            self.applyL_shared.prepare('PPPdddddd')\n",
      "    \n",
      "    def _auxElementwise(self):\n",
      "        from pycuda.elementwise import ElementwiseKernel\n",
      "        self.copyD2D = ElementwiseKernel(arguments = \"{prec} *a, {prec} *b \".format(prec=self.strC),\n",
      "                               operation = \"a[i]=b[i]\",\n",
      "                               name = \"copyD2D\")\n",
      "        self.calcKi = ElementwiseKernel(arguments = \"{prec} *a, {prec} *b, {prec} *c, {prec} d \".format(prec=self.strC),\n",
      "                               operation = \"a[i]=b[i] + d*c[i]\",\n",
      "                               name = \"calcKi\")\n",
      "    \n",
      "    def rk4_GPU_global(self):\n",
      "        if self.timing:\n",
      "            self.start.record()\n",
      "        self.copyD2D(self.phiK1_GPU,self.phiSol_GPU)\n",
      "        #self.phiK1 = self.cpy(self.phiSol) \n",
      "        self.applyL_global.prepared_call(self.cuGrid,self.cuBlock,self.phiSolNew_GPU.gpudata, \n",
      "                                                              self.phiK1_GPU.gpudata, self.phiK2_GPU.gpudata, self.diffusionC, self.prec(1), self.dt, self.dx, self.dy)\n",
      "        \n",
      "        self.calcKi(self.phiK1_GPU,self.phiSol_GPU,self.phiK2_GPU, self.prec(0.5)*self.dt)\n",
      "        #self.phiK1 = self.phiSol + self.prec(0.5)*self.dt* self.phiK2\n",
      "        self.applyL_global.prepared_call(self.cuGrid, self.cuBlock, self.phiSolNew_GPU.gpudata, \n",
      "                                                              self.phiK1_GPU.gpudata, self.phiK2_GPU.gpudata, self.diffusionC, self.prec(2), self.dt, self.dx, self.dy)\n",
      "        self.calcKi(self.phiK1_GPU,self.phiSol_GPU,self.phiK2_GPU, self.prec(0.5)*self.dt)\n",
      "        #self.phiK1 = self.phiSol + self.prec(0.5)*self.dt* self.phiK2\n",
      "        self.applyL_global.prepared_call(self.cuGrid,self.cuBlock,self.phiSolNew_GPU.gpudata, \n",
      "                                                              self.phiK1_GPU.gpudata, self.phiK2_GPU.gpudata, self.diffusionC, self.prec(2), self.dt, self.dx, self.dy)\n",
      "        self.calcKi(self.phiK1_GPU,self.phiSol_GPU,self.phiK2_GPU, self.dt)\n",
      "        #self.phiK1 = self.phiSol + self.dt*self.phiK2\n",
      "        self.applyL_global.prepared_call(self.cuGrid,self.cuBlock,self.phiSolNew_GPU.gpudata, \n",
      "                                                              self.phiK1_GPU.gpudata, self.phiK2_GPU.gpudata, self.diffusionC, self.prec(1), self.dt, self.dx, self.dy)\n",
      "\n",
      "        self.copyD2D(self.phiSol_GPU,self.phiSolNew_GPU)\n",
      "        if self.timing:\n",
      "            self.end.record()\n",
      "            self.end.synchronize()\n",
      "            self.timeGlobal.append(self.start.time_till(self.end)*1e-3)\n",
      "        self.iterGPU += 1\n",
      "        \n",
      "    def rk4_GPU_shared(self):\n",
      "        if self.timing:\n",
      "            self.start.record()\n",
      "        #self.copyD2D(self.phiK1_GPU,self.phiSol_GPU)\n",
      "        #self.phiK1 = self.cpy(self.phiSol) \n",
      "        self.applyL_shared.prepared_call(self.cuGrid,self.cuBlock, self.phiSol_GPU.gpudata, self.phiSolNew_GPU.gpudata,  \n",
      "                                         self.phiK2_GPU.gpudata, self.prec(0), self.prec(1), self.diffusionC, self.dt, self.dx, self.dy)\n",
      "        #self.ctxCUDA.synchronize()\n",
      "        #self.calcKi(self.phiK1_GPU,self.phiSol_GPU,self.phiK2_GPU, self.prec(0.5)*self.dt)\n",
      "        #self.phiK1 = self.phiSol + self.prec(0.5)*self.dt* self.phiK2\n",
      "        self.applyL_shared.prepared_call(self.cuGrid, self.cuBlock, self.phiSol_GPU.gpudata, self.phiSolNew_GPU.gpudata, \n",
      "                                                               self.phiK2_GPU.gpudata, self.prec(0.5), self.prec(2), self.diffusionC,self.dt, self.dx, self.dy)\n",
      "        #self.calcKi(self.phiK1_GPU,self.phiSol_GPU,self.phiK2_GPU, self.prec(0.5)*self.dt)\n",
      "        #self.phiK1 = self.phiSol + self.prec(0.5)*self.dt* self.phiK2\n",
      "        self.applyL_shared.prepared_call(self.cuGrid,self.cuBlock, self.phiSol_GPU.gpudata,self.phiSolNew_GPU.gpudata, \n",
      "                                                               self.phiK2_GPU.gpudata, self.prec(0.5) , self.prec(2), self.diffusionC,self.dt, self.dx, self.dy)\n",
      "        #self.calcKi(self.phiK1_GPU,self.phiSol_GPU,self.phiK2_GPU, self.dt)\n",
      "        #self.phiK1 = self.phiSol + self.dt*self.phiK2\n",
      "        self.applyL_shared.prepared_call(self.cuGrid,self.cuBlock, self.phiSol_GPU.gpudata,self.phiSolNew_GPU.gpudata, \n",
      "                                                               self.phiK2_GPU.gpudata, self.prec(1.0), self.prec(1), self.diffusionC,self.dt, self.dx, self.dy)\n",
      "\n",
      "        self.copyD2D(self.phiSol_GPU,self.phiSolNew_GPU)\n",
      "        if self.timing:\n",
      "            self.end.record()\n",
      "            self.end.synchronize()\n",
      "            self.timeShared.append(self.start.time_till(self.end)*1e-3)\n",
      "        self.iterGPU += 1\n",
      "        #self.ctxCUDA.synchronize()\n",
      "        #self.phiSol =  self.cpy(self.phiSolNew)\n",
      "        \n",
      "    def rk4_GPU_tex(self):\n",
      "        if self.timing:\n",
      "            self.start.record()\n",
      "        #self.copyD2D(self.phiK1_GPU,self.phiSol_GPU)\n",
      "        #self.phiK1 = self.cpy(self.phiSol)\n",
      "        self.texturePhiSol.set_array(self.CUDAarrayK1)\n",
      "        self.surfacePhiSol.set_array(self.CUDAarrayK2)\n",
      "        self.applyL_tex.prepared_call(self.cuGrid,self.cuBlock, self.phiSol_GPU.gpudata, self.phiSolNew_GPU.gpudata,  \n",
      "                                                         self.diffusionC, self.prec(1), self.prec(0),  self.dt, self.dx, self.dy,self.intPrec(0))\n",
      "        #self.ctxCUDA.synchronize()\n",
      "        #self.calcKi(self.phiK1_GPU,self.phiSol_GPU,self.phiK2_GPU, self.prec(0.5)*self.dt)\n",
      "        #self.phiK1 = self.phiSol + self.prec(0.5)*self.dt* self.phiK2\n",
      "        self.texturePhiSol.set_array(self.CUDAarrayK2)\n",
      "        self.surfacePhiSol.set_array(self.CUDAarrayK1)\n",
      "        self.applyL_tex.prepared_call(self.cuGrid,self.cuBlock, self.phiSol_GPU.gpudata, self.phiSolNew_GPU.gpudata,  \n",
      "                                                         self.diffusionC, self.prec(2), self.prec(0.5),  self.dt, self.dx, self.dy,self.intPrec(0))\n",
      "        #self.calcKi(self.phiK1_GPU,self.phiSol_GPU,self.phiK2_GPU, self.prec(0.5)*self.dt)\n",
      "        #self.phiK1 = self.phiSol + self.prec(0.5)*self.dt* self.phiK2\n",
      "        self.texturePhiSol.set_array(self.CUDAarrayK1)\n",
      "        self.surfacePhiSol.set_array(self.CUDAarrayK2)\n",
      "        self.applyL_tex.prepared_call(self.cuGrid,self.cuBlock, self.phiSol_GPU.gpudata, self.phiSolNew_GPU.gpudata,  \n",
      "                                                         self.diffusionC, self.prec(2), self.prec(0.5),  self.dt, self.dx, self.dy,self.intPrec(0))\n",
      "        #self.calcKi(self.phiK1_GPU,self.phiSol_GPU,self.phiK2_GPU, self.dt)\n",
      "        #self.phiK1 = self.phiSol + self.dt*self.phiK2\n",
      "        self.texturePhiSol.set_array(self.CUDAarrayK2)\n",
      "        self.surfacePhiSol.set_array(self.CUDAarrayK1)\n",
      "        self.applyL_tex.prepared_call(self.cuGrid,self.cuBlock, self.phiSol_GPU.gpudata, self.phiSolNew_GPU.gpudata,  \n",
      "                                                          self.diffusionC, self.prec(1), self.prec(1.0),  self.dt, self.dx, self.dy,self.intPrec(1))\n",
      "        #self.copyD2D(self.phiSol_GPU,self.phiSolNew_GPU)\n",
      "        \n",
      "        if self.timing:\n",
      "            self.end.record()\n",
      "            self.end.synchronize()\n",
      "            self.timeTex.append(self.start.time_till(self.end)*1e-3)    \n",
      "        self.iterGPU += 1\n",
      "        \n",
      "    def draw_GPU(self, n = 1):\n",
      "        #self.maxPhi = self.max(self.max(self.phiSol))\n",
      "        #self.minPhi = self.min(self.min(self.phiSol))\n",
      "        fig = figure(n)\n",
      "        im = imshow(self.phiSol_GPU.get(),vmax=self.maxPhi,vmin=self.minPhi)\n",
      "        colorbar()\n",
      "        \n",
      "    def np3DtoCudaArray(self,npArray, allowSurfaceBind=False, testPrec = True,prec = 'single' ):\n",
      "        import pycuda.driver as cuda\n",
      "        dimension = len(npArray.shape)\n",
      "        if dimension == 1:\n",
      "            w = npArray.shape[0]\n",
      "            h, d = 0,0\n",
      "        if dimension == 2:\n",
      "            w, h = npArray.shape[0], npArray.shape[1]\n",
      "            d = 0\n",
      "        if dimension == 3:\n",
      "            w, h, d = npArray.shape\n",
      "        descr3D = cuda.ArrayDescriptor3D()\n",
      "        descr3D.width = w\n",
      "        descr3D.height = h\n",
      "        descr3D.depth = d\n",
      "                \n",
      "        if testPrec:\n",
      "                    \n",
      "            if prec == 'single':\n",
      "              descr3D.format = cuda.dtype_to_array_format(npArray.dtype)\n",
      "              descr3D.num_channels = 1\n",
      "            else:\n",
      "              descr3D.format = cuda.array_format.SIGNED_INT32\n",
      "              descr3D.num_channels = 2\n",
      "        else:\n",
      "            descr3D.format = cuda.dtype_to_array_format(npArray.dtype)\n",
      "            descr3D.num_channels = 1\n",
      "  \n",
      "        if allowSurfaceBind:\n",
      "            descr3D.flags = cuda.array3d_flags.SURFACE_LDST\n",
      "    \n",
      "        cudaArray = cuda.Array(descr3D)\n",
      "        if dimension == 3:\n",
      "              copy3D = cuda.Memcpy3D()\n",
      "              copy3D.set_src_host(npArray)\n",
      "              copy3D.set_dst_array(cudaArray)\n",
      "              copy3D.src_pitch = npArray.strides[0]\n",
      "              copy3D.width_in_bytes = copy3D.src_pitch = npArray.strides[1]\n",
      "              copy3D.src_height = copy3D.height = h\n",
      "              copy3D.depth = d\n",
      "              copy3D()\n",
      "        if dimension == 2:\n",
      "              copy3D = cuda.Memcpy2D()\n",
      "              copy3D.set_src_host(npArray)\n",
      "              copy3D.set_dst_array(cudaArray)\n",
      "              copy3D.src_pitch = npArray.strides[0]\n",
      "              copy3D.width_in_bytes = copy3D.src_pitch = npArray.strides[0]\n",
      "              copy3D.src_height = copy3D.height = h\n",
      "              copy3D(aligned=True)\n",
      "        return cudaArray, copy3D\n",
      "        \n",
      "    def freeMemoryGPU(self):\n",
      "        self.phiSol_GPU.gpudata.free()\n",
      "        self.phiSolNew_GPU.gpudata.free()\n",
      "        self.phiK1_GPU.gpudata.free()\n",
      "        self.phiK2_GPU.gpudata.free()\n",
      "        self.CUDAarrayK1.free()\n",
      "        self.CUDAarrayK2.free()"
     ],
     "language": "python",
     "metadata": {},
     "outputs": [],
     "prompt_number": 21
    },
    {
     "cell_type": "heading",
     "level": 3,
     "metadata": {},
     "source": [
      "Calculando ..."
     ]
    },
    {
     "cell_type": "markdown",
     "metadata": {},
     "source": [
      "Una vez con la clase lista, nos preocuoamos por jugar con las opciones que tenemos diponibles."
     ]
    },
    {
     "cell_type": "code",
     "collapsed": false,
     "input": [
      "# Creamos un objeto con todos los metodos disponibles, automaticamente se inicializan los datos pero podemos modificarlos\n",
      "# redefiniendo los parametros, variables o condiciones que nos interesen.\n",
      "myS = solveHeat(nPointsX=128, nPointsY=128, boxSize=[5,5])\n",
      "print myS.dx,myS.dt"
     ],
     "language": "python",
     "metadata": {},
     "outputs": [
      {
       "output_type": "stream",
       "stream": "stdout",
       "text": [
        "0.0393700787402 0.000986415932587\n"
       ]
      }
     ],
     "prompt_number": 22
    },
    {
     "cell_type": "code",
     "collapsed": false,
     "input": [
      "# Inicializamos el entorno con la GPU\n",
      "myS.initCUDA()"
     ],
     "language": "python",
     "metadata": {},
     "outputs": [
      {
       "output_type": "stream",
       "stream": "stdout",
       "text": [
        "Available Devices:\n",
        "  Device 0: Tesla C2075\n",
        "  Device 1: Quadro 2000\n"
       ]
      },
      {
       "ename": "KeyboardInterrupt",
       "evalue": "",
       "output_type": "pyerr",
       "traceback": [
        "\u001b[1;31m---------------------------------------------------------------------------\u001b[0m\n\u001b[1;31mKeyboardInterrupt\u001b[0m                         Traceback (most recent call last)",
        "\u001b[1;32m<ipython-input-23-e6f3970d9307>\u001b[0m in \u001b[0;36m<module>\u001b[1;34m()\u001b[0m\n\u001b[0;32m      1\u001b[0m \u001b[1;31m# Inicializamos el entorno con la GPU\u001b[0m\u001b[1;33m\u001b[0m\u001b[1;33m\u001b[0m\u001b[0m\n\u001b[1;32m----> 2\u001b[1;33m \u001b[0mmyS\u001b[0m\u001b[1;33m.\u001b[0m\u001b[0minitCUDA\u001b[0m\u001b[1;33m(\u001b[0m\u001b[1;33m)\u001b[0m\u001b[1;33m\u001b[0m\u001b[0m\n\u001b[0m",
        "\u001b[1;32m<ipython-input-21-056b59b1304d>\u001b[0m in \u001b[0;36minitCUDA\u001b[1;34m(self, method, nDev)\u001b[0m\n\u001b[0;32m    127\u001b[0m         \u001b[1;31m# Init Device\u001b[0m\u001b[1;33m\u001b[0m\u001b[1;33m\u001b[0m\u001b[0m\n\u001b[0;32m    128\u001b[0m         \u001b[1;32mif\u001b[0m \u001b[0mnDev\u001b[0m \u001b[1;33m==\u001b[0m \u001b[0mNone\u001b[0m\u001b[1;33m:\u001b[0m\u001b[1;33m\u001b[0m\u001b[0m\n\u001b[1;32m--> 129\u001b[1;33m             \u001b[0mself\u001b[0m\u001b[1;33m.\u001b[0m\u001b[0m_setDevice\u001b[0m\u001b[1;33m(\u001b[0m\u001b[1;33m)\u001b[0m\u001b[1;33m\u001b[0m\u001b[0m\n\u001b[0m\u001b[0;32m    130\u001b[0m         \u001b[1;32melse\u001b[0m\u001b[1;33m:\u001b[0m\u001b[1;33m\u001b[0m\u001b[0m\n\u001b[0;32m    131\u001b[0m             \u001b[0mself\u001b[0m\u001b[1;33m.\u001b[0m\u001b[0m_setDevice\u001b[0m\u001b[1;33m(\u001b[0m\u001b[0mndev\u001b[0m \u001b[1;33m=\u001b[0m \u001b[0mnDev\u001b[0m\u001b[1;33m)\u001b[0m\u001b[1;33m\u001b[0m\u001b[0m\n",
        "\u001b[1;32m<ipython-input-21-056b59b1304d>\u001b[0m in \u001b[0;36m_setDevice\u001b[1;34m(self, ndev)\u001b[0m\n\u001b[0;32m    108\u001b[0m         \u001b[1;32mif\u001b[0m \u001b[0mnDevices\u001b[0m \u001b[1;33m>\u001b[0m \u001b[1;36m1\u001b[0m\u001b[1;33m:\u001b[0m\u001b[1;33m\u001b[0m\u001b[0m\n\u001b[0;32m    109\u001b[0m             \u001b[1;32mif\u001b[0m \u001b[0mndev\u001b[0m \u001b[1;33m==\u001b[0m \u001b[0mNone\u001b[0m\u001b[1;33m:\u001b[0m\u001b[1;33m\u001b[0m\u001b[0m\n\u001b[1;32m--> 110\u001b[1;33m                 \u001b[0mdevNumber\u001b[0m \u001b[1;33m=\u001b[0m \u001b[0mint\u001b[0m\u001b[1;33m(\u001b[0m\u001b[0mraw_input\u001b[0m\u001b[1;33m(\u001b[0m\u001b[1;34m\"Select device number: \"\u001b[0m\u001b[1;33m)\u001b[0m\u001b[1;33m)\u001b[0m\u001b[1;33m\u001b[0m\u001b[0m\n\u001b[0m\u001b[0;32m    111\u001b[0m             \u001b[1;32melse\u001b[0m\u001b[1;33m:\u001b[0m\u001b[1;33m\u001b[0m\u001b[0m\n\u001b[0;32m    112\u001b[0m                 \u001b[0mdevNumber\u001b[0m \u001b[1;33m=\u001b[0m \u001b[0mndev\u001b[0m\u001b[1;33m\u001b[0m\u001b[0m\n",
        "\u001b[1;32m/usr/local/lib/python2.7/dist-packages/IPython/kernel/zmq/ipkernel.pyc\u001b[0m in \u001b[0;36m<lambda>\u001b[1;34m(prompt)\u001b[0m\n\u001b[0;32m    361\u001b[0m         \u001b[1;31m# raw_input in the user namespace.\u001b[0m\u001b[1;33m\u001b[0m\u001b[1;33m\u001b[0m\u001b[0m\n\u001b[0;32m    362\u001b[0m         \u001b[1;32mif\u001b[0m \u001b[0mcontent\u001b[0m\u001b[1;33m.\u001b[0m\u001b[0mget\u001b[0m\u001b[1;33m(\u001b[0m\u001b[1;34m'allow_stdin'\u001b[0m\u001b[1;33m,\u001b[0m \u001b[0mFalse\u001b[0m\u001b[1;33m)\u001b[0m\u001b[1;33m:\u001b[0m\u001b[1;33m\u001b[0m\u001b[0m\n\u001b[1;32m--> 363\u001b[1;33m             \u001b[0mraw_input\u001b[0m \u001b[1;33m=\u001b[0m \u001b[1;32mlambda\u001b[0m \u001b[0mprompt\u001b[0m\u001b[1;33m=\u001b[0m\u001b[1;34m''\u001b[0m\u001b[1;33m:\u001b[0m \u001b[0mself\u001b[0m\u001b[1;33m.\u001b[0m\u001b[0m_raw_input\u001b[0m\u001b[1;33m(\u001b[0m\u001b[0mprompt\u001b[0m\u001b[1;33m,\u001b[0m \u001b[0mident\u001b[0m\u001b[1;33m,\u001b[0m \u001b[0mparent\u001b[0m\u001b[1;33m)\u001b[0m\u001b[1;33m\u001b[0m\u001b[0m\n\u001b[0m\u001b[0;32m    364\u001b[0m             \u001b[0minput\u001b[0m \u001b[1;33m=\u001b[0m \u001b[1;32mlambda\u001b[0m \u001b[0mprompt\u001b[0m\u001b[1;33m=\u001b[0m\u001b[1;34m''\u001b[0m\u001b[1;33m:\u001b[0m \u001b[0meval\u001b[0m\u001b[1;33m(\u001b[0m\u001b[0mraw_input\u001b[0m\u001b[1;33m(\u001b[0m\u001b[0mprompt\u001b[0m\u001b[1;33m)\u001b[0m\u001b[1;33m)\u001b[0m\u001b[1;33m\u001b[0m\u001b[0m\n\u001b[0;32m    365\u001b[0m         \u001b[1;32melse\u001b[0m\u001b[1;33m:\u001b[0m\u001b[1;33m\u001b[0m\u001b[0m\n",
        "\u001b[1;32m/usr/local/lib/python2.7/dist-packages/IPython/kernel/zmq/ipkernel.pyc\u001b[0m in \u001b[0;36m_raw_input\u001b[1;34m(self, prompt, ident, parent)\u001b[0m\n\u001b[0;32m    763\u001b[0m             \u001b[1;32mexcept\u001b[0m \u001b[0mKeyboardInterrupt\u001b[0m\u001b[1;33m:\u001b[0m\u001b[1;33m\u001b[0m\u001b[0m\n\u001b[0;32m    764\u001b[0m                 \u001b[1;31m# re-raise KeyboardInterrupt, to truncate traceback\u001b[0m\u001b[1;33m\u001b[0m\u001b[1;33m\u001b[0m\u001b[0m\n\u001b[1;32m--> 765\u001b[1;33m                 \u001b[1;32mraise\u001b[0m \u001b[0mKeyboardInterrupt\u001b[0m\u001b[1;33m\u001b[0m\u001b[0m\n\u001b[0m\u001b[0;32m    766\u001b[0m             \u001b[1;32melse\u001b[0m\u001b[1;33m:\u001b[0m\u001b[1;33m\u001b[0m\u001b[0m\n\u001b[0;32m    767\u001b[0m                 \u001b[1;32mbreak\u001b[0m\u001b[1;33m\u001b[0m\u001b[0m\n",
        "\u001b[1;31mKeyboardInterrupt\u001b[0m: "
       ]
      }
     ],
     "prompt_number": 23
    },
    {
     "cell_type": "code",
     "collapsed": false,
     "input": [
      "myS.draw(),myS.draw_GPU() # Estados iniciales"
     ],
     "language": "python",
     "metadata": {},
     "outputs": []
    },
    {
     "cell_type": "code",
     "collapsed": false,
     "input": [
      "# Resolviendo con CPU y GPU\n",
      "for i in range(1000):\n",
      "    myS.rk4_CPU()\n",
      "    myS.rk4_GPU_tex()"
     ],
     "language": "python",
     "metadata": {},
     "outputs": []
    },
    {
     "cell_type": "code",
     "collapsed": false,
     "input": [
      "myS.draw(),myS.draw_GPU() # Como se esperaba se enfria!"
     ],
     "language": "python",
     "metadata": {},
     "outputs": []
    },
    {
     "cell_type": "code",
     "collapsed": false,
     "input": [
      "mean(myS.timeCPU) # Tiempos de ejecucion"
     ],
     "language": "python",
     "metadata": {},
     "outputs": []
    },
    {
     "cell_type": "code",
     "collapsed": false,
     "input": [
      "mean(myS.timeTex) # Tiempos de ejecucion"
     ],
     "language": "python",
     "metadata": {},
     "outputs": []
    },
    {
     "cell_type": "code",
     "collapsed": false,
     "input": [
      "sum(myS.timeCPU)"
     ],
     "language": "python",
     "metadata": {},
     "outputs": []
    },
    {
     "cell_type": "code",
     "collapsed": false,
     "input": [
      "myS.iterCPU*myS.dt"
     ],
     "language": "python",
     "metadata": {},
     "outputs": []
    },
    {
     "cell_type": "code",
     "collapsed": false,
     "input": [
      "diff = abs(myS.phiSol-myS.phiSol_GPU.get())"
     ],
     "language": "python",
     "metadata": {},
     "outputs": []
    },
    {
     "cell_type": "code",
     "collapsed": false,
     "input": [
      "np.max(diff),np.min(diff)"
     ],
     "language": "python",
     "metadata": {},
     "outputs": []
    },
    {
     "cell_type": "code",
     "collapsed": false,
     "input": [
      "myS.freeMemoryGPU()"
     ],
     "language": "python",
     "metadata": {},
     "outputs": []
    },
    {
     "cell_type": "heading",
     "level": 2,
     "metadata": {},
     "source": [
      "Animaci\u00f3n"
     ]
    },
    {
     "cell_type": "code",
     "collapsed": false,
     "input": [
      "from tempfile import NamedTemporaryFile\n",
      "\n",
      "VIDEO_TAG = \"\"\"<video controls>\n",
      " <source src=\"data:video/x-m4v;base64,{0}\" type=\"video/mp4\">\n",
      " Your browser does not support the video tag.\n",
      "</video>\"\"\"\n",
      "\n",
      "def anim_to_html(anim):\n",
      "    if not hasattr(anim, '_encoded_video'):\n",
      "        with NamedTemporaryFile(suffix='.mp4') as f:\n",
      "            anim.save(f.name, fps=20, codec='libx264')#, extra_args=['-vcodec', 'libx264'])\n",
      "            video = open(f.name, \"rb\").read()\n",
      "        anim._encoded_video = video.encode(\"base64\")\n",
      "    \n",
      "    return VIDEO_TAG.format(anim._encoded_video)"
     ],
     "language": "python",
     "metadata": {},
     "outputs": []
    },
    {
     "cell_type": "code",
     "collapsed": false,
     "input": [
      "from IPython.display import HTML\n",
      "\n",
      "def display_animation(anim):\n",
      "    plt.close(anim._fig)\n",
      "    return HTML(anim_to_html(anim))"
     ],
     "language": "python",
     "metadata": {},
     "outputs": []
    },
    {
     "cell_type": "heading",
     "level": 3,
     "metadata": {},
     "source": [
      "Version de CPU"
     ]
    },
    {
     "cell_type": "code",
     "collapsed": false,
     "input": [
      "from matplotlib import animation\n",
      "\n",
      "# First set up the figure, the axis, and the plot element we want to animate\n",
      "fig = plt.figure()\n",
      "#ax = plt.axes(xlim=(0, 2), ylim=(-2, 2))\n",
      "#line, = ax.plot([], [], lw=2)\n",
      "mySol = solveHeat(nPointsX=128, nPointsY=128, boxSize=[5,5])\n",
      "myDens = imshow(mySol.phiSol)\n",
      "colorbar(myDens,shrink=0.79)\n",
      "txt1 = plt.text(0,-3.5,' t = {0:.2f}'.format(0),verticalalignment= 'baseline')\n",
      "txt2 = plt.text(70,-3.5,'Computing time {0:.4f} sec'.format(0.0000),verticalalignment= 'baseline')\n",
      "# initialization function: plot the background of each frame\n",
      "def init():\n",
      "    #line.set_data([], [])\n",
      "    mySol = solveHeat(nPointsX=128, nPointsY=128, boxSize=[5,5])\n",
      "    return mySol,\n",
      "\n",
      "# animation function.  This is called sequentially\n",
      "def animate(i):\n",
      "    for j in range(i):\n",
      "        mySol.rk4_CPU()\n",
      "    myDens.set_data(mySol.phiSol)\n",
      "    txt1.set_text('t = {0:.2f}'.format(mySol.iterCPU*mySol.dt))\n",
      "    txt2.set_text('Exec time CPU {0:.4f} sec'.format(sum(mySol.timeCPU)))\n",
      "    return myDens\n",
      "\n",
      "# call the animator.  blit=True means only re-draw the parts that have changed.\n",
      "anim = animation.FuncAnimation(fig, animate, init_func=init,\n",
      "                               frames=100, interval=100, blit=True)\n",
      "\n",
      "# call our new function to display the animation\n",
      "display_animation(anim)\n",
      "# if you want to save the animation, uncomment this line\n",
      "#anim.save('miAnimacion.mp4',fps=20,codec='libx264')"
     ],
     "language": "python",
     "metadata": {},
     "outputs": []
    },
    {
     "cell_type": "code",
     "collapsed": false,
     "input": [
      "print mySol.iterCPU\n",
      "del mySol"
     ],
     "language": "python",
     "metadata": {},
     "outputs": []
    },
    {
     "cell_type": "code",
     "collapsed": false,
     "input": [
      "from matplotlib import animation\n",
      "\n",
      "# First set up the figure, the axis, and the plot element we want to animate\n",
      "fig = plt.figure()\n",
      "#ax = plt.axes(xlim=(0, 2), ylim=(-2, 2))\n",
      "#line, = ax.plot([], [], lw=2)\n",
      "mySol = solveHeat(nPointsX=128, nPointsY=128, boxSize=[5,5])\n",
      "mySol.initCUDA(nDev=0)\n",
      "myDens = imshow(mySol.phiSol_GPU.get())\n",
      "colorbar(myDens,shrink=0.79)\n",
      "txt1 = plt.text(0,-3.5,' t = {0:.2f}'.format(0),verticalalignment= 'baseline')\n",
      "txt2 = plt.text(30,-3.5,'Exec time GPU (Global Mem) {0:.4f} sec'.format(0.0000),verticalalignment= 'baseline')\n",
      "# initialization function: plot the background of each frame\n",
      "def init():\n",
      "    #line.set_data([], [])\n",
      "    mySol = solveHeat(nPointsX=128, nPointsY=128, boxSize=[5,5])\n",
      "    return mySol,\n",
      "\n",
      "# animation function.  This is called sequentially\n",
      "def animate(i):\n",
      "    for j in range(i):\n",
      "        mySol.rk4_GPU_global()\n",
      "    myDens.set_data(mySol.phiSol_GPU.get())\n",
      "    txt1.set_text('t = {0:.2f}'.format(mySol.iterGPU*mySol.dt))\n",
      "    txt2.set_text('Exec time GPU (Global Mem) {0:.4f} sec'.format(sum(mySol.timeGlobal)))\n",
      "    return myDens\n",
      "\n",
      "# call the animator.  blit=True means only re-draw the parts that have changed.\n",
      "anim = animation.FuncAnimation(fig, animate, init_func=init,\n",
      "                               frames=100, interval=100, blit=True)\n",
      "\n",
      "# call our new function to display the animation\n",
      "display_animation(anim)\n",
      "# if you want to save the animation, uncomment this line\n",
      "#anim.save('miAnimacion.mp4',fps=20,codec='libx264')"
     ],
     "language": "python",
     "metadata": {},
     "outputs": []
    },
    {
     "cell_type": "code",
     "collapsed": false,
     "input": [
      "mySol.freeMemoryGPU()\n",
      "del mySol"
     ],
     "language": "python",
     "metadata": {},
     "outputs": []
    },
    {
     "cell_type": "code",
     "collapsed": false,
     "input": [
      "from matplotlib import animation\n",
      "\n",
      "# First set up the figure, the axis, and the plot element we want to animate\n",
      "fig = plt.figure()\n",
      "#ax = plt.axes(xlim=(0, 2), ylim=(-2, 2))\n",
      "#line, = ax.plot([], [], lw=2)\n",
      "mySol = solveHeat(nPointsX=128, nPointsY=128, boxSize=[5,5])\n",
      "mySol.initCUDA()\n",
      "myDens = imshow(mySol.phiSol_GPU.get())\n",
      "colorbar(myDens,shrink=0.79)\n",
      "txt1 = plt.text(0,-3.5,' t = {0:.2f}'.format(0),verticalalignment= 'baseline')\n",
      "txt2 = plt.text(30,-3.5,'Exec time GPU (Shared Mem) sec'.format(0.0000),verticalalignment= 'baseline')\n",
      "# initialization function: plot the background of each frame\n",
      "def init():\n",
      "    #line.set_data([], [])\n",
      "    mySol = solveHeat(nPointsX=128, nPointsY=128, boxSize=[5,5])\n",
      "    return mySol,\n",
      "\n",
      "# animation function.  This is called sequentially\n",
      "def animate(i):\n",
      "    for j in range(i):\n",
      "        mySol.rk4_GPU_shared()\n",
      "    myDens.set_data(mySol.phiSol_GPU.get())\n",
      "    txt1.set_text('t = {0:.2f}'.format(mySol.iterGPU*mySol.dt))\n",
      "    txt2.set_text('Exec time GPU (Shared Mem) {0:.4f} sec'.format(sum(mySol.timeShared)))\n",
      "    return myDens\n",
      "\n",
      "# call the animator.  blit=True means only re-draw the parts that have changed.\n",
      "anim = animation.FuncAnimation(fig, animate, init_func=init,\n",
      "                               frames=100, interval=100, blit=True)\n",
      "\n",
      "# call our new function to display the animation\n",
      "display_animation(anim)\n",
      "# if you want to save the animation, uncomment this line\n",
      "#anim.save('miAnimacion.mp4',fps=20,codec='libx264')"
     ],
     "language": "python",
     "metadata": {},
     "outputs": []
    },
    {
     "cell_type": "code",
     "collapsed": false,
     "input": [
      "mySol.freeMemoryGPU()\n",
      "del mySol"
     ],
     "language": "python",
     "metadata": {},
     "outputs": []
    },
    {
     "cell_type": "code",
     "collapsed": false,
     "input": [
      "from matplotlib import animation\n",
      "\n",
      "# First set up the figure, the axis, and the plot element we want to animate\n",
      "fig = plt.figure()\n",
      "#ax = plt.axes(xlim=(0, 2), ylim=(-2, 2))\n",
      "#line, = ax.plot([], [], lw=2)\n",
      "mySol = solveHeat(nPointsX=128, nPointsY=128, boxSize=[5,5])\n",
      "mySol.initCUDA()\n",
      "myDens = imshow(mySol.phiSol_GPU.get())\n",
      "colorbar(myDens,shrink=0.79)\n",
      "txt1 = plt.text(0,-3.5,' t = {0:.2f}'.format(0),verticalalignment= 'baseline')\n",
      "txt2 = plt.text(30,-3.5,'Exec time GPU (Tex-Surf Mem) sec'.format(0.0000),verticalalignment= 'baseline')\n",
      "# initialization function: plot the background of each frame\n",
      "def init():\n",
      "    #line.set_data([], [])\n",
      "    mySol = solveHeat(nPointsX=128, nPointsY=128, boxSize=[5,5])\n",
      "    return mySol,\n",
      "\n",
      "# animation function.  This is called sequentially\n",
      "def animate(i):\n",
      "    for j in range(i):\n",
      "        mySol.rk4_GPU_tex()\n",
      "    myDens.set_data(mySol.phiSol_GPU.get())\n",
      "    txt1.set_text('t = {0:.2f}'.format(mySol.iterGPU*mySol.dt))\n",
      "    txt2.set_text('Exec time GPU (Tex-Surf Mem) {0:.4f} sec'.format(sum(mySol.timeTex)))\n",
      "    return myDens\n",
      "\n",
      "# call the animator.  blit=True means only re-draw the parts that have changed.\n",
      "anim = animation.FuncAnimation(fig, animate, init_func=init,\n",
      "                               frames=100, interval=100, blit=True)\n",
      "\n",
      "# call our new function to display the animation\n",
      "display_animation(anim)\n",
      "# if you want to save the animation, uncomment this line\n",
      "#anim.save('miAnimacion.mp4',fps=20,codec='libx264')"
     ],
     "language": "python",
     "metadata": {},
     "outputs": []
    },
    {
     "cell_type": "code",
     "collapsed": false,
     "input": [
      "mySol.freeMemoryGPU()\n",
      "del mySol"
     ],
     "language": "python",
     "metadata": {},
     "outputs": []
    },
    {
     "cell_type": "markdown",
     "metadata": {},
     "source": [
      "Code based on: \n",
      ">http://nbviewer.ipython.org/url/jakevdp.github.io/downloads/notebooks/AnimationEmbedding.ipynb"
     ]
    },
    {
     "cell_type": "heading",
     "level": 2,
     "metadata": {},
     "source": [
      "Rendimiento"
     ]
    },
    {
     "cell_type": "markdown",
     "metadata": {},
     "source": [
      "Ahora solo variemos en numero N de la malla cuadrada $N^2$ en la que resolvemos el problema .. Version corregida!"
     ]
    },
    {
     "cell_type": "code",
     "collapsed": false,
     "input": [
      "nPoints = [128,256,512,1024,2048,4096,8192]"
     ],
     "language": "python",
     "metadata": {},
     "outputs": []
    },
    {
     "cell_type": "code",
     "collapsed": false,
     "input": [
      "meanVsSize_CPU    = []\n",
      "meanVsSize_Global  = []\n",
      "meanVsSize_Shared = []\n",
      "meanVsSize_Tex      = []\n",
      "meanVsSizeTotal_CPU    = []\n",
      "meanVsSizeTotal_Global  = []\n",
      "meanVsSizeTotal_Shared = []\n",
      "meanVsSizeTotal_Tex      = []\n",
      "for i in nPoints:\n",
      "    solution = solveHeat(nPointsX=i, nPointsY=i, boxSize=[5,5])\n",
      "    solution.initCUDA(nDev=0)\n",
      "    nLoop = 5000\n",
      "    for i in range(nLoop): solution.rk4_CPU()\n",
      "    for i in range(nLoop): solution.rk4_GPU_global()\n",
      "    meanVsSize_CPU.append(mean(solution.timeCPU))\n",
      "    meanVsSize_Global.append(mean(solution.timeGlobal))\n",
      "    meanVsSizeTotal_CPU.append(sum(solution.timeCPU))\n",
      "    meanVsSizeTotal_Global.append(sum(solution.timeGlobal))\n",
      "    solution.freeMemoryGPU()\n",
      "    \n",
      "    solution.__init__(nPointsX=i, nPointsY=i, boxSize=[5,5])\n",
      "    solution.initCUDA(nDev=0)\n",
      "    for i in range(nLoop): solution.rk4_GPU_shared()\n",
      "    meanVsSize_Shared.append(mean(solution.timeShared))\n",
      "    meanVsSizeTotal_Shared.append(sum(solution.timeShared))\n",
      "    solution.freeMemoryGPU()\n",
      "    \n",
      "    solution.__init__(nPointsX=i, nPointsY=i, boxSize=[5,5])\n",
      "    solution.initCUDA(nDev=0)\n",
      "    for i in range(nLoop): solution.rk4_GPU_tex()\n",
      "    meanVsSize_Tex.append(mean(solution.timeTex))\n",
      "    meanVsSize_Tex.append(sum(solution.timeTex))\n",
      "    solution.freeMemoryGPU()\n",
      "    \n",
      "    del solution"
     ],
     "language": "python",
     "metadata": {},
     "outputs": []
    },
    {
     "cell_type": "code",
     "collapsed": false,
     "input": [
      "plt.figure(1,figsize=(12,8),dpi=200)\n",
      "plt.semilogx(nPoints,meanVsSize_CPU,'r-.*',label='CPU',linewidth=5.0,alpha=0.5)\n",
      "plt.semilogx(nPoints,meanVsSize_Global,'b-*',label='Global',linewidth=3.0,alpha=0.9)\n",
      "plt.semilogx(nPoints,meanVsSize_Sahred,'g-*',label='Shared',linewidth=3.0,alpha=0.5)\n",
      "plt.semilogx(nPoints,meanVsSize_Tex,'b--o',label='Texture-Surf',linewidth=3.0,alpha=0.5)\n",
      "plt.ylabel('Time (seg)')\n",
      "plt.xlabel('Matrix Dimension')\n",
      "#plt.xlim(xmin=250,xmax=2**13.1)\n",
      "plt.legend(loc=2,labelspacing=0.5,fancybox=True, handlelength=3.5, borderaxespad=0.25, borderpad=0.25)\n",
      "plt.xticks(nPoints, nPoints, rotation='vertical')"
     ],
     "language": "python",
     "metadata": {},
     "outputs": []
    },
    {
     "cell_type": "code",
     "collapsed": false,
     "input": [
      "plt.figure(1,figsize=(12,8),dpi=200)\n",
      "#plt.semilogx(nPoints,meanVsSize_CPU,'r-.*',label='CPU',linewidth=5.0,alpha=0.5)\n",
      "plt.semilogx(nPoints,meanVsSize_Global,'b-*',label='Global',linewidth=3.0,alpha=0.9)\n",
      "plt.semilogx(nPoints,meanVsSize_Shared,'g-*',label='Shared',linewidth=3.0,alpha=0.5)\n",
      "plt.semilogx(nPoints,meanVsSize_Tex,'b--o',label='Texture-Surf',linewidth=3.0,alpha=0.5)\n",
      "plt.ylabel('Time (seg)')\n",
      "plt.xlabel('N')\n",
      "#plt.xlim(xmin=250,xmax=2**13.1)\n",
      "plt.legend(loc=2,labelspacing=0.5,fancybox=True, handlelength=3.5, borderaxespad=0.25, borderpad=0.25)\n",
      "plt.xticks(nPoints, nPoints, rotation='vertical')"
     ],
     "language": "python",
     "metadata": {},
     "outputs": []
    },
    {
     "cell_type": "code",
     "collapsed": false,
     "input": [
      "meanVsSize_CPU[-1]"
     ],
     "language": "python",
     "metadata": {},
     "outputs": []
    },
    {
     "cell_type": "code",
     "collapsed": false,
     "input": [
      "meanVsSize_Tex[-1]"
     ],
     "language": "python",
     "metadata": {},
     "outputs": []
    },
    {
     "cell_type": "code",
     "collapsed": false,
     "input": [
      "SpeedUPMaxDim = meanVsSize_CPU[-1]/meanVsSize_Tex[-1]\n",
      "SpeedUPMaxDim"
     ],
     "language": "python",
     "metadata": {},
     "outputs": []
    },
    {
     "cell_type": "markdown",
     "metadata": {},
     "source": [
      "YEAAAHHHH!!!!!!!!!!!"
     ]
    },
    {
     "cell_type": "markdown",
     "metadata": {},
     "source": [
      "> "
     ]
    },
    {
     "cell_type": "code",
     "collapsed": false,
     "input": [
      "%load CUDAkernels.cu"
     ],
     "language": "python",
     "metadata": {},
     "outputs": []
    },
    {
     "cell_type": "code",
     "collapsed": false,
     "input": [
      "#include <cuda_runtime.h>\n",
      "#include <pycuda-complex.hpp>\n",
      "#include <pycuda-helpers.hpp>\n",
      "#include <surface_functions.h>\n",
      "texture< fp_tex_float, cudaTextureType2D, cudaReadModeElementType> myTexture;\n",
      "surface< void, 2> mySurf;\n",
      "\n",
      "__global__ void globalRK4( float *phi_new, float *phiK1, float *phiK2, float diffusionC, float coef, float dt, float dx, float dy){\n",
      "\n",
      "int tid_x = blockDim.x * blockIdx.x + threadIdx.x;\n",
      "int tid_y = blockDim.y * blockIdx.y + threadIdx.y;\n",
      "int tid   = gridDim.x * blockDim.x * tid_y + tid_x;\n",
      "// Other indices\n",
      "if (tid_x < blockDim.x*gridDim.x-1 && tid_x > 0 ){\n",
      "  \n",
      "  if (tid_y < blockDim.y*gridDim.y-1 && tid_y > 0 ){\n",
      "    \n",
      "    float laplax = 0.0;\n",
      "    float laplay = 0.0;\n",
      "    float idx = 1.0/dx;\n",
      "    float idy = 1.0/dy;\n",
      "    // k1_i+1,j\n",
      "    int tid_aux = gridDim.x * blockDim.x * tid_y + tid_x + 1;\n",
      "    laplax = phiK1[tid_aux]-2.0f*phiK1[tid];\n",
      "    // k1_i-1,j\n",
      "    tid_aux = gridDim.x * blockDim.x * tid_y + tid_x - 1;\n",
      "    laplax += phiK1[tid_aux];\n",
      "    laplax *= idx*idx;\n",
      "    // k1_i,j+1\n",
      "    tid_aux = gridDim.x * blockDim.x * (tid_y+1) + tid_x;\n",
      "    laplay = phiK1[tid_aux]-2.0f*phiK1[tid];\n",
      "    // k1_i,j-1\n",
      "    tid_aux = gridDim.x * blockDim.x * (tid_y-1) + tid_x;\n",
      "    laplay += phiK1[tid_aux];\n",
      "    laplay *= idy*idy;\n",
      "    \n",
      "    phiK2[tid] = (laplax+laplay)*diffusionC;\n",
      "    phi_new[tid] += (laplax+laplay)*coef*dt*(1.0f/6.0f)*diffusionC;\n",
      "    \n",
      "    \n",
      "  }\n",
      "  \n",
      "}\n",
      "//else return;\n",
      "\n",
      "}\n",
      "\n",
      "__global__ void sharedRK4(float *phi, float *phi_new, float *phiK2, float coefIter, float coef, float diffusionC, float dt, float dx, float dy){\n",
      "  \n",
      "  int tid_x = blockDim.x * blockIdx.x + threadIdx.x;\n",
      "  int tid_y = blockDim.y * blockIdx.y + threadIdx.y;\n",
      "  int tid   = gridDim.x * blockDim.x * tid_y + tid_x;\n",
      "  // State\n",
      "  float state, stateK2;\n",
      "  state = phi[tid];\n",
      "  stateK2 = phiK2[tid];\n",
      "  // Shared\n",
      "  __shared__ float k1_sh[ blockDim.x ][ blockDim.y ];\n",
      "  __syncthreads();\n",
      "  k1_sh[ threadIdx.x ][ threadIdx.y ] = state + coefIter*dt*stateK2;\n",
      "  __syncthreads();\n",
      "  \n",
      "  // Calculate Laplacian\n",
      "  if (tid_x < blockDim.x*gridDim.x-1 && tid_x > 0 ){\n",
      "    if (tid_y < blockDim.y*gridDim.y-1 && tid_y > 0 ){\n",
      "      \n",
      "      float lapla=0.0;\n",
      "      float idx = 1.0/dx;\n",
      "      float idy = 1.0/dy;\n",
      "      \n",
      "      if (threadIdx.x<blockDim.x-1 && threadIdx.x>0){\n",
      "\t  lapla = k1_sh[threadIdx.x+1][ threadIdx.y ]+k1_sh[threadIdx.x-1][ threadIdx.y ] - 2.0*k1_sh[threadIdx.x][ threadIdx.y ];\n",
      "\t  }\n",
      "      else if (threadIdx.x == blockDim.x-1) lapla = (phi[tid+1]+ coefIter*dt*phiK2[tid+1]) +k1_sh[threadIdx.x-1][ threadIdx.y ] - 2.0*k1_sh[threadIdx.x][ threadIdx.y ];\n",
      "      else if (threadIdx.x == 0)            lapla = k1_sh[threadIdx.x+1][ threadIdx.y ]+ (phi[tid-1]+ coefIter*dt*phiK2[tid-1]) - 2.0*k1_sh[threadIdx.x][ threadIdx.y ];\n",
      "      lapla *= idx*idx;\n",
      "      \n",
      "      if (threadIdx.y<blockDim.y-1 && threadIdx.y>0){\n",
      "\t  lapla += (k1_sh[threadIdx.x][ threadIdx.y+1 ]+k1_sh[threadIdx.x][ threadIdx.y-1 ]- 2.0*k1_sh[threadIdx.x][ threadIdx.y ])*idy*idy;}\n",
      "      else if (threadIdx.y == blockDim.y-1) lapla += ((phi[gridDim.y * blockDim.y * (tid_y+1) + tid_x]+ coefIter*dt*phiK2[gridDim.x * blockDim.x * (tid_y+1) + tid_x])+k1_sh[threadIdx.x][ threadIdx.y-1 ]- 2.0*k1_sh[threadIdx.x][ threadIdx.y ])*idy*idy;\n",
      "      else if (threadIdx.y == 0)            lapla += (k1_sh[threadIdx.x][ threadIdx.y+1 ] + (phi[gridDim.x * blockDim.x * (tid_y-1) + tid_x]+ coefIter*dt*phiK2[gridDim.x * blockDim.x * (tid_y-1) + tid_x])- 2.0*k1_sh[threadIdx.x][ threadIdx.y ])*idy*idy;\n",
      "\n",
      "      lapla *= diffusionC;\n",
      "      phiK2[tid] = lapla;\n",
      "      phi_new[tid] += coef*dt*(1.0f/6.0f)*lapla;\n",
      "    }}\n",
      "  \n",
      "  \n",
      "}\n",
      "\n",
      "__global__ void textureRK4(float *phi, float *phi_new, float diffusionC, float coef, float coefIter, float dt, float dx, float dy, int lastStep){\n",
      "  \n",
      "  int tid_x = blockDim.x * blockIdx.x + threadIdx.x;\n",
      "  int tid_y = blockDim.y * blockIdx.y + threadIdx.y;\n",
      "  int tid   = gridDim.x * blockDim.x * tid_y + tid_x;\n",
      "  float center, left, right;\n",
      "  float up, down;\n",
      "  center = fp_tex2D(myTexture, (float)tid_x,   (float)tid_y);\n",
      "  left   = fp_tex2D(myTexture, (float)tid_x-1, (float)tid_y);\n",
      "  right  = fp_tex2D(myTexture, (float)tid_x+1, (float)tid_y);\n",
      "  up     = fp_tex2D(myTexture, (float)tid_x,   (float)tid_y+1);\n",
      "  down   = fp_tex2D(myTexture, (float)tid_x,   (float)tid_y-1);\n",
      "  \n",
      "  float lapla=0.0;\n",
      "  float idx=1.0/dx;\n",
      "  float idy=1.0/dy;\n",
      "  lapla = (left+right-2.0*center)*idx*idx+(up+down-2.0*center)*idy*idy;\n",
      "  lapla *= diffusionC;\n",
      "  \n",
      "  // Boundary\n",
      "  if (tid_x == blockDim.x*gridDim.x-1 or tid_x == 0 or tid_y == blockDim.y*gridDim.y-1 or tid_y == 0) lapla = 0.0;\n",
      "  float phi_o = phi[tid];\n",
      "  float k1_next = phi_o + coefIter*dt*lapla;\n",
      "  surf2Dwrite( k1_next , mySurf, tid_x*sizeof(float), tid_y,  cudaBoundaryModeClamp);\n",
      "  \n",
      "  phi_new[tid] += coef*dt*(1.0f/6.0f)*lapla;\n",
      "  \n",
      "  if (lastStep == 1){\n",
      "    phi[tid] = phi_new[tid];\n",
      "    surf2Dwrite( phi_o , mySurf, tid_x*sizeof(float), tid_y,  cudaBoundaryModeClamp);\n",
      "  }\n",
      "  \n",
      "}"
     ],
     "language": "python",
     "metadata": {},
     "outputs": []
    },
    {
     "cell_type": "heading",
     "level": 3,
     "metadata": {},
     "source": [
      "Referencias"
     ]
    },
    {
     "cell_type": "markdown",
     "metadata": {},
     "source": [
      "1. http://www.sciencedirect.com/science/article/pii/S0168927413000627"
     ]
    }
   ],
   "metadata": {}
  }
 ]
}