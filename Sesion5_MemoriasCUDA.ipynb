{
 "metadata": {
  "name": "",
  "signature": "sha256:d8fcb246881ae34e2a2d86b8207fb9d84c2afe4fe413a7fb5c182eb32d11453c"
 },
 "nbformat": 3,
 "nbformat_minor": 0,
 "worksheets": [
  {
   "cells": [
    {
     "cell_type": "heading",
     "level": 1,
     "metadata": {},
     "source": [
      "Memorias en CUDA"
     ]
    },
    {
     "cell_type": "markdown",
     "metadata": {},
     "source": [
      "> Hasta este punto solo hemos visto y usados la memoria global del la GPU, la cual posee limitantes respecto a su uso tales como sus tiempos de acceso, la estructura de acceso, etc. Como veremos a continuaci\u00f3n existen diversas capas de memoria que puden ser utilizadas durante la ejecucion de nuestros *kernels*.\n",
      "\n",
      ">![Alt text](imagen/memLayers.png)![Alt text](imagen/memCUDA2.png)\n"
     ]
    },
    {
     "cell_type": "markdown",
     "metadata": {},
     "source": [
      "> Algunas especificaciones de estas distintas memorias son:\n",
      "\n",
      "\n",
      "![Alt text](imagen/cudaMem.png)"
     ]
    },
    {
     "cell_type": "markdown",
     "metadata": {},
     "source": [
      "Es importante destacar que el uso de estas memorias posee diversas caracteristicas tales como su tama\u00f1o, la velocidad de acceso, la duracion dentro del flujo de ejecuci\u00f3n.\n",
      "La forma de declarar estas memorias dentro de nuestro kernel se da de la siguinete:\n",
      "![Alt text](imagen/defMem.png)\n",
      "La velocidades de accesos se muestran a continuaci\u00f3n:\n",
      "![Alt text](imagen/costMem.png)"
     ]
    },
    {
     "cell_type": "markdown",
     "metadata": {},
     "source": [
      "> Como habran notado no se ha mencionado la memoria de Texturas, este tipo de memoria resulta estar ligada a otra estructura de CUDA llamada CUDA Arrays, estos objetos propios de CUDA y son la manera estructurada de generar arreglos en memoria (1D,2D,3D), la desventaja es que son espacios de memoria local que no podemos acceder directamente dentro de nuestros *kernels*. La lectura de la informaci\u00f3n contenida en CUDA Arrays se da solamente mediante las referencias conocida como Texturas. Los CUDA Arrays solo pueden ser escritos por dos metodo, Texturas de Superficies o copia entre bancos de memoria (Host o Device)\n"
     ]
    },
    {
     "cell_type": "code",
     "collapsed": false,
     "input": [],
     "language": "python",
     "metadata": {},
     "outputs": []
    }
   ],
   "metadata": {}
  }
 ]
}